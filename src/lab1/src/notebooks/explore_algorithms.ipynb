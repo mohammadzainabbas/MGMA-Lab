{
 "cells": [
  {
   "cell_type": "code",
   "execution_count": 1,
   "id": "8477c89f-d8b1-48a2-a44e-ad2a4b41ae6e",
   "metadata": {},
   "outputs": [],
   "source": [
    "import networkx as nx\n",
    "import pandas as pd\n",
    "import matplotlib.pyplot as plt\n",
    "from os.path import join, exists, isfile, isdir, abspath, dirname, basename, realpath\n",
    "from os import makedirs, listdir, pardir, getcwd"
   ]
  },
  {
   "cell_type": "code",
   "execution_count": 2,
   "id": "18bae153-12a9-4e0d-bfc1-b210a8c89f76",
   "metadata": {},
   "outputs": [],
   "source": [
    "#create the graphs\n",
    "#sampleDraw is created for the subgraphs' visualization\n",
    "graph_fly=nx.DiGraph()\n",
    "graph_fly.clear()\n",
    "graph_sworm=nx.DiGraph()\n",
    "graph_sworm.clear()\n",
    "graph_fly_sampleDraw=nx.DiGraph()\n",
    "graph_fly_sampleDraw.clear()\n",
    "graph_fly_sampleDraw_connected=nx.DiGraph()\n",
    "graph_fly_sampleDraw_connected.clear()\n",
    "graph_sworm_sampleDraw=nx.DiGraph()\n",
    "graph_sworm_sampleDraw.clear()"
   ]
  },
  {
   "cell_type": "code",
   "execution_count": 3,
   "id": "3696b752-a9e0-4052-9c9b-73a6382f5701",
   "metadata": {},
   "outputs": [],
   "source": [
    "#import the data\n",
    "#data source: https://www.inetbio.org/wormnet/downloadnetwork.php\n",
    "parent_dir = abspath(join(join(getcwd(), pardir), pardir))\n",
    "data_dir = join(parent_dir, 'data')\n",
    "file_fly = pd.read_csv(join(data_dir, \"DM-HT.txt\"), sep=\"\\t\",header=None)\n",
    "file_sworm = pd.read_csv(join(data_dir, \"CE-HT.txt\"), sep=\"\\t\",header=None)\n",
    "file_fly_sampleDraw=file_fly.head(20)\n",
    "file_sworm_sampleDraw=file_sworm.head(20)"
   ]
  },
  {
   "cell_type": "code",
   "execution_count": 4,
   "id": "27ad5f24-c967-41a3-9311-0a48b913a2a0",
   "metadata": {},
   "outputs": [
    {
     "data": {
      "text/html": [
       "<div>\n",
       "<style scoped>\n",
       "    .dataframe tbody tr th:only-of-type {\n",
       "        vertical-align: middle;\n",
       "    }\n",
       "\n",
       "    .dataframe tbody tr th {\n",
       "        vertical-align: top;\n",
       "    }\n",
       "\n",
       "    .dataframe thead th {\n",
       "        text-align: right;\n",
       "    }\n",
       "</style>\n",
       "<table border=\"1\" class=\"dataframe\">\n",
       "  <thead>\n",
       "    <tr style=\"text-align: right;\">\n",
       "      <th></th>\n",
       "      <th>0</th>\n",
       "      <th>1</th>\n",
       "      <th>2</th>\n",
       "    </tr>\n",
       "  </thead>\n",
       "  <tbody>\n",
       "    <tr>\n",
       "      <th>0</th>\n",
       "      <td>4R79.2</td>\n",
       "      <td>F33A8.4</td>\n",
       "      <td>2.053510</td>\n",
       "    </tr>\n",
       "    <tr>\n",
       "      <th>1</th>\n",
       "      <td>4R79.2</td>\n",
       "      <td>K08E4.1</td>\n",
       "      <td>1.718166</td>\n",
       "    </tr>\n",
       "    <tr>\n",
       "      <th>2</th>\n",
       "      <td>4R79.2</td>\n",
       "      <td>Y37E3.9</td>\n",
       "      <td>2.053510</td>\n",
       "    </tr>\n",
       "    <tr>\n",
       "      <th>3</th>\n",
       "      <td>4R79.2</td>\n",
       "      <td>Y59A8B.1</td>\n",
       "      <td>2.038247</td>\n",
       "    </tr>\n",
       "    <tr>\n",
       "      <th>4</th>\n",
       "      <td>AC3.2</td>\n",
       "      <td>C55A6.10</td>\n",
       "      <td>1.453145</td>\n",
       "    </tr>\n",
       "    <tr>\n",
       "      <th>5</th>\n",
       "      <td>AC3.7</td>\n",
       "      <td>C36B7.6</td>\n",
       "      <td>1.720563</td>\n",
       "    </tr>\n",
       "    <tr>\n",
       "      <th>6</th>\n",
       "      <td>AC3.7</td>\n",
       "      <td>F55F8.5</td>\n",
       "      <td>3.644694</td>\n",
       "    </tr>\n",
       "    <tr>\n",
       "      <th>7</th>\n",
       "      <td>AC3.7</td>\n",
       "      <td>R166.2</td>\n",
       "      <td>3.624117</td>\n",
       "    </tr>\n",
       "    <tr>\n",
       "      <th>8</th>\n",
       "      <td>AC3.8</td>\n",
       "      <td>C36B7.6</td>\n",
       "      <td>2.952636</td>\n",
       "    </tr>\n",
       "    <tr>\n",
       "      <th>9</th>\n",
       "      <td>AC3.8</td>\n",
       "      <td>F55F8.5</td>\n",
       "      <td>3.645908</td>\n",
       "    </tr>\n",
       "    <tr>\n",
       "      <th>10</th>\n",
       "      <td>AC3.8</td>\n",
       "      <td>R166.2</td>\n",
       "      <td>3.644450</td>\n",
       "    </tr>\n",
       "    <tr>\n",
       "      <th>11</th>\n",
       "      <td>AC7.2</td>\n",
       "      <td>F59F5.6</td>\n",
       "      <td>3.644689</td>\n",
       "    </tr>\n",
       "    <tr>\n",
       "      <th>12</th>\n",
       "      <td>B0024.11</td>\n",
       "      <td>K01G5.2</td>\n",
       "      <td>3.556066</td>\n",
       "    </tr>\n",
       "    <tr>\n",
       "      <th>13</th>\n",
       "      <td>B0024.11</td>\n",
       "      <td>K08H2.6</td>\n",
       "      <td>1.436609</td>\n",
       "    </tr>\n",
       "    <tr>\n",
       "      <th>14</th>\n",
       "      <td>B0024.11</td>\n",
       "      <td>Y74C9A.3</td>\n",
       "      <td>3.636081</td>\n",
       "    </tr>\n",
       "    <tr>\n",
       "      <th>15</th>\n",
       "      <td>B0024.13</td>\n",
       "      <td>M142.1</td>\n",
       "      <td>3.645708</td>\n",
       "    </tr>\n",
       "    <tr>\n",
       "      <th>16</th>\n",
       "      <td>B0024.14</td>\n",
       "      <td>D2021.2</td>\n",
       "      <td>3.645254</td>\n",
       "    </tr>\n",
       "    <tr>\n",
       "      <th>17</th>\n",
       "      <td>B0024.14</td>\n",
       "      <td>T16H12.5</td>\n",
       "      <td>3.606645</td>\n",
       "    </tr>\n",
       "    <tr>\n",
       "      <th>18</th>\n",
       "      <td>B0024.9</td>\n",
       "      <td>T27A10.3</td>\n",
       "      <td>1.772317</td>\n",
       "    </tr>\n",
       "    <tr>\n",
       "      <th>19</th>\n",
       "      <td>B0024.9</td>\n",
       "      <td>T27E9.3</td>\n",
       "      <td>1.430968</td>\n",
       "    </tr>\n",
       "  </tbody>\n",
       "</table>\n",
       "</div>"
      ],
      "text/plain": [
       "           0         1         2\n",
       "0     4R79.2   F33A8.4  2.053510\n",
       "1     4R79.2   K08E4.1  1.718166\n",
       "2     4R79.2   Y37E3.9  2.053510\n",
       "3     4R79.2  Y59A8B.1  2.038247\n",
       "4      AC3.2  C55A6.10  1.453145\n",
       "5      AC3.7   C36B7.6  1.720563\n",
       "6      AC3.7   F55F8.5  3.644694\n",
       "7      AC3.7    R166.2  3.624117\n",
       "8      AC3.8   C36B7.6  2.952636\n",
       "9      AC3.8   F55F8.5  3.645908\n",
       "10     AC3.8    R166.2  3.644450\n",
       "11     AC7.2   F59F5.6  3.644689\n",
       "12  B0024.11   K01G5.2  3.556066\n",
       "13  B0024.11   K08H2.6  1.436609\n",
       "14  B0024.11  Y74C9A.3  3.636081\n",
       "15  B0024.13    M142.1  3.645708\n",
       "16  B0024.14   D2021.2  3.645254\n",
       "17  B0024.14  T16H12.5  3.606645\n",
       "18   B0024.9  T27A10.3  1.772317\n",
       "19   B0024.9   T27E9.3  1.430968"
      ]
     },
     "execution_count": 4,
     "metadata": {},
     "output_type": "execute_result"
    }
   ],
   "source": [
    "file_fly_sampleDraw"
   ]
  },
  {
   "cell_type": "code",
   "execution_count": 5,
   "id": "17e8a564-f629-484d-9d76-b7eb9920f2f6",
   "metadata": {},
   "outputs": [],
   "source": [
    "#add data into directed graphs with weights\n",
    "for row in file_fly.iterrows():\n",
    "    graph_fly.add_edge(row[1][0],row[1][1],weight=row[1][2])\n",
    "for row in file_sworm.iterrows():\n",
    "    graph_sworm.add_edge(row[1][0],row[1][1],weight=row[1][2])\n",
    "for row in file_fly_sampleDraw.iterrows():\n",
    "    graph_fly_sampleDraw.add_edge(row[1][0],row[1][1],weight=round(float(row[1][2]),2))\n",
    "    graph_fly_sampleDraw_connected.add_edge(row[1][0],row[1][1],weight=round(float(row[1][2]),2))\n",
    "for row in file_sworm_sampleDraw.iterrows():\n",
    "    graph_sworm_sampleDraw.add_edge(row[1][0],row[1][1],weight=row[1][2])\n",
    "graph_fly_sampleDraw_connected.add_edge(\"AC3.2\",\"4R79.2\",weight=round(float(1.98),2))"
   ]
  },
  {
   "cell_type": "code",
   "execution_count": 6,
   "id": "d425006c-de83-442e-b351-1d415c81f9ed",
   "metadata": {},
   "outputs": [],
   "source": [
    "#draw the sample subgraph in matplotlib\n",
    "pos_graph_fly_sampleDraw=nx.spring_layout(graph_fly_sampleDraw)\n",
    "pos_graph_fly=nx.spring_layout(graph_fly)\n",
    "labels = nx.get_edge_attributes(graph_fly_sampleDraw,'weight')\n",
    "nx.draw(graph_fly_sampleDraw,with_labels=True,pos=pos_graph_fly_sampleDraw)\n",
    "nx.draw_networkx_edge_labels(graph_fly_sampleDraw,pos=pos_graph_fly_sampleDraw,edge_labels=labels,verticalalignment=\"bottom\",font_size=10)\n",
    "ax = plt.gca()\n",
    "ax.margins(0.1)\n",
    "plt.axis(\"on\")\n",
    "plt.title(\"Subgraph of Flies' Protein-protien Interactions\")\n",
    "plt.show()"
   ]
  },
  {
   "cell_type": "code",
   "execution_count": null,
   "id": "b1dd2a8b",
   "metadata": {},
   "outputs": [],
   "source": [
    "graph_fly_sampleDraw_undirected=graph_fly_sampleDraw.to_undirected()\n",
    "nx.draw(graph_fly_sampleDraw_undirected,with_labels=True,pos=pos_graph_fly_sampleDraw)"
   ]
  },
  {
   "cell_type": "markdown",
   "id": "930ae4bf-423c-4373-9a26-d5b20595bcbd",
   "metadata": {},
   "source": [
    "## Graph algorithms\n",
    "references:\n",
    "https://networkx.org/documentation/networkx-1.10/reference/algorithms.centrality.html"
   ]
  },
  {
   "cell_type": "code",
   "execution_count": null,
   "id": "6d534418-ca45-44fe-a8fd-583da6d94f9f",
   "metadata": {},
   "outputs": [],
   "source": [
    "degree_centrality_graph_fly=nx.degree_centrality(graph_fly)"
   ]
  },
  {
   "cell_type": "markdown",
   "id": "c932bb43",
   "metadata": {},
   "source": [
    "## Plot the graph via Plotly"
   ]
  },
  {
   "cell_type": "code",
   "execution_count": null,
   "id": "d16f321d",
   "metadata": {},
   "outputs": [],
   "source": [
    "import plotly.graph_objects as go"
   ]
  },
  {
   "cell_type": "code",
   "execution_count": null,
   "id": "7696083b",
   "metadata": {},
   "outputs": [],
   "source": [
    "print(pos_graph_fly_sampleDraw)"
   ]
  },
  {
   "cell_type": "code",
   "execution_count": null,
   "id": "de7896b8",
   "metadata": {},
   "outputs": [],
   "source": [
    "edge_x = []\n",
    "edge_y = []\n",
    "for edge in graph_fly.edges():\n",
    "    x0=pos_graph_fly[edge[0]][0]\n",
    "    y0=pos_graph_fly[edge[0]][1]\n",
    "    x1=pos_graph_fly[edge[1]][0]\n",
    "    y1=pos_graph_fly[edge[1]][1]\n",
    "    edge_x.append(x0)\n",
    "    edge_x.append(x1)\n",
    "    edge_x.append(None)\n",
    "    edge_y.append(y0)\n",
    "    edge_y.append(y1)\n",
    "    edge_y.append(None)\n",
    "edge_trace = go.Scatter(\n",
    "    x=edge_x, y=edge_y,\n",
    "    line=dict(width=0.5, color='#888'),\n",
    "    hoverinfo='none',\n",
    "    mode='lines')"
   ]
  },
  {
   "cell_type": "code",
   "execution_count": null,
   "id": "c03c82ac",
   "metadata": {},
   "outputs": [],
   "source": [
    "node_x = []\n",
    "node_y = []\n",
    "for node in graph_fly.nodes():\n",
    "    x, y =pos_graph_fly[node][0],pos_graph_fly[node][1]\n",
    "    node_x.append(x)\n",
    "    node_y.append(y)\n",
    "\n",
    "node_trace = go.Scatter(\n",
    "    x=node_x, y=node_y,\n",
    "    mode='markers',\n",
    "    hoverinfo='text',\n",
    "    marker=dict(\n",
    "        showscale=True,\n",
    "        # colorscale options\n",
    "        #'Greys' | 'YlGnBu' | 'Greens' | 'YlOrRd' | 'Bluered' | 'RdBu' |\n",
    "        #'Reds' | 'Blues' | 'Picnic' | 'Rainbow' | 'Portland' | 'Jet' |\n",
    "        #'Hot' | 'Blackbody' | 'Earth' | 'Electric' | 'Viridis' |\n",
    "        colorscale='YlGnBu',\n",
    "        reversescale=True,\n",
    "        color=[],\n",
    "        size=10,\n",
    "        colorbar=dict(\n",
    "            thickness=15,\n",
    "            title='Node Connections',\n",
    "            xanchor='left',\n",
    "            titleside='right'\n",
    "        ),\n",
    "        line_width=2))"
   ]
  },
  {
   "cell_type": "code",
   "execution_count": null,
   "id": "27d6a4d0",
   "metadata": {},
   "outputs": [],
   "source": [
    "node_degree_centrality = []\n",
    "node_text = []\n",
    "\n",
    "for node in graph_fly.nodes():\n",
    "    node_degree_centrality.append(degree_centrality_graph_fly[node])\n",
    "    node_text.append('# of degrees: '+ str(degree_centrality_graph_fly[node]))\n",
    "node_trace.marker.color = node_degree_centrality\n",
    "node_trace.text = node_text"
   ]
  },
  {
   "cell_type": "code",
   "execution_count": null,
   "id": "f5bcf8d1",
   "metadata": {},
   "outputs": [],
   "source": [
    "fig = go.Figure(data=[edge_trace, node_trace],\n",
    "             layout=go.Layout(\n",
    "                title='<br>Network graph made with Python',\n",
    "                titlefont_size=16,\n",
    "                showlegend=False,\n",
    "                hovermode='closest',\n",
    "                margin=dict(b=20,l=5,r=5,t=40),\n",
    "                annotations=[ dict(\n",
    "                    text=\"Python code: <a href='https://plotly.com/ipython-notebooks/network-graphs/'> https://plotly.com/ipython-notebooks/network-graphs/</a>\",\n",
    "                    showarrow=False,\n",
    "                    xref=\"paper\", yref=\"paper\",\n",
    "                    x=0.005, y=-0.002 ) ],\n",
    "                xaxis=dict(showgrid=False, zeroline=False, showticklabels=False),\n",
    "                yaxis=dict(showgrid=False, zeroline=False, showticklabels=False))\n",
    "                )\n",
    "fig.show()"
   ]
  },
  {
   "cell_type": "code",
   "execution_count": null,
   "id": "b550d3c5",
   "metadata": {},
   "outputs": [],
   "source": [
    "nx.communicability_betweenness_centrality(graph_fly_sampleDraw_undirected)"
   ]
  },
  {
   "cell_type": "code",
   "execution_count": null,
   "id": "a3b909f0-1734-48c9-8cff-001739d137bb",
   "metadata": {},
   "outputs": [],
   "source": [
    "nx.in_degree_centrality(graph_fly_sampleDraw)"
   ]
  },
  {
   "cell_type": "code",
   "execution_count": null,
   "id": "68f93332-bb6f-49f6-8915-280c864130fa",
   "metadata": {},
   "outputs": [],
   "source": [
    "nx.betweenness_centrality(graph_fly_sampleDraw)"
   ]
  },
  {
   "cell_type": "code",
   "execution_count": null,
   "id": "dd95b6ef-bf99-446a-955b-317b13123340",
   "metadata": {},
   "outputs": [],
   "source": [
    "#nx.current_flow_betweenness_centrality(graph_fly_sampleDraw)\n",
    "#for undirected graphs only"
   ]
  },
  {
   "cell_type": "code",
   "execution_count": null,
   "id": "328e1db6-36ef-4574-bf94-25fa9a139ea0",
   "metadata": {},
   "outputs": [],
   "source": [
    "nx.closeness_centrality(graph_fly_sampleDraw)"
   ]
  },
  {
   "cell_type": "code",
   "execution_count": null,
   "id": "92f4800d-bf56-4519-82e4-bb08408cea08",
   "metadata": {},
   "outputs": [],
   "source": [
    "# nx.eigenvector_centrality(graph_fly_sampleDraw)\n",
    "# for connected graphs only"
   ]
  },
  {
   "cell_type": "code",
   "execution_count": null,
   "id": "fff395a4-2918-44ba-b5c7-5933f00b9d3f",
   "metadata": {},
   "outputs": [],
   "source": [
    "#nx.current_flow_closeness_centrality(graph_fly_sampleDraw)\n",
    "#for undirected graphs only"
   ]
  },
  {
   "cell_type": "code",
   "execution_count": null,
   "id": "ee6c9d52-3f85-48ec-a5b0-aecdbd743545",
   "metadata": {},
   "outputs": [],
   "source": [
    "#nx.communicability(graph_fly_sampleDraw)\n",
    "#for undirected graphs only"
   ]
  },
  {
   "cell_type": "code",
   "execution_count": null,
   "id": "a8710800-fc5c-4f67-a5d2-fcd5f7b716cc",
   "metadata": {},
   "outputs": [],
   "source": [
    "nx.load_centrality(graph_fly_sampleDraw)"
   ]
  },
  {
   "cell_type": "code",
   "execution_count": null,
   "id": "5f317c2c",
   "metadata": {},
   "outputs": [],
   "source": []
  }
 ],
 "metadata": {
  "kernelspec": {
   "display_name": "Python 3.9.13 ('mgma')",
   "language": "python",
   "name": "python3"
  },
  "language_info": {
   "codemirror_mode": {
    "name": "ipython",
    "version": 3
   },
   "file_extension": ".py",
   "mimetype": "text/x-python",
   "name": "python",
   "nbconvert_exporter": "python",
   "pygments_lexer": "ipython3",
   "version": "3.9.13"
  },
  "vscode": {
   "interpreter": {
    "hash": "92ef103fe91e85206b7889fe480710be6f2a014beb113cc84edd8d6030adeb48"
   }
  }
 },
 "nbformat": 4,
 "nbformat_minor": 5
}
