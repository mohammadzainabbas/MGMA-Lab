{
 "cells": [
  {
   "cell_type": "code",
   "execution_count": 1,
   "id": "8477c89f-d8b1-48a2-a44e-ad2a4b41ae6e",
   "metadata": {},
   "outputs": [],
   "source": [
    "import pandas as pd\n",
    "import numpy as np\n",
    "import networkx as nx\n",
    "import matplotlib.pyplot as plt\n",
    "import logging as log\n",
    "from enum import Enum\n",
    "from os.path import join, exists, isfile, isdir, abspath, dirname, basename, realpath\n",
    "from os import makedirs, listdir, pardir, getcwd\n",
    "from dataclasses import dataclass, field\n",
    "from typing import Union\n",
    "\n",
    "import plotly.graph_objects as go\n",
    "\n",
    "from IPython.core.interactiveshell import InteractiveShell\n",
    "InteractiveShell.ast_node_interactivity = \"all\""
   ]
  },
  {
   "cell_type": "markdown",
   "id": "f5a8edfd",
   "metadata": {},
   "source": [
    "#### Helper classes and functions"
   ]
  },
  {
   "cell_type": "code",
   "execution_count": 2,
   "id": "ed4553a9",
   "metadata": {},
   "outputs": [],
   "source": [
    "#--------------------------------------------------\n",
    "# Helper classes and enums\n",
    "#--------------------------------------------------\n",
    "@dataclass(frozen=False, order=False)\n",
    "class CentralityAlgorithm:\n",
    "    \"\"\"\n",
    "    A data-class to store centrality measures arguments and other options\n",
    "    \"\"\"\n",
    "    name: str = field(default=\"\")\n",
    "    func: object = field(default=print)\n",
    "    args: dict = field(default_factory=dict)\n",
    "    options: dict = field(default_factory=dict)\n",
    "\n",
    "@dataclass(frozen=False, order=False)\n",
    "class CentralityAlgorithmOutput:\n",
    "    \"\"\"\n",
    "    A data-class to store centrality measures results\n",
    "    \"\"\"\n",
    "    name: str = field(default=\"\")\n",
    "    result: dict = field(default_factory=dict)\n",
    "    options: dict = field(default_factory=dict)\n",
    "\n",
    "class GRAPH_TYPE(str, Enum):\n",
    "    BOTH = \"both\"\n",
    "    DIRECTED = \"directed\"\n",
    "    def __str__(self) -> str:\n",
    "        return self.value\n",
    "\n",
    "#--------------------------------------------------\n",
    "# Helper functions\n",
    "#--------------------------------------------------\n",
    "def convert_to_normal(snake_case: str) -> str:\n",
    "    \"\"\"\n",
    "    Converts a snake case string to a normal title string\n",
    "\n",
    "    Input:  \"in_degree_centrality\"\n",
    "    Output: \"In Degree Centrality\"\n",
    "    \"\"\"\n",
    "    components = snake_case.split('_')\n",
    "    return \" \".join(x.title() for x in components)\n",
    "\n",
    "def print_log(text: str):\n",
    "    \"\"\"\n",
    "    Prints the log\n",
    "    \"\"\"\n",
    "    print(f\"[ log ]: {text}\")\n",
    "    # log.info(f\"[ log ]: {text}\")\n",
    "\n",
    "def print_error(text: str):\n",
    "    \"\"\"\n",
    "    Prints the error\n",
    "    \"\"\"\n",
    "    print(f\"[ error ]: {text}\")\n",
    "    # log.warn(f\"[ error ]: {text}\")\n",
    "\n",
    "def undirected_to_directed(graph: nx.Graph) -> nx.DiGraph:\n",
    "    \"\"\"\n",
    "    Converts an undirected graph to a directed graph\n",
    "    \"\"\"\n",
    "    di_graph = nx.DiGraph()\n",
    "    di_graph.add_edges_from(graph.edges())\n",
    "    return di_graph\n",
    "\n",
    "def get_graph(graph: nx.Graph, graph_type: str) -> Union[nx.Graph, nx.DiGraph]:\n",
    "    \"\"\"\n",
    "    Returns the graph based on the graph type\n",
    "    \"\"\"\n",
    "    if graph_type == str(GRAPH_TYPE.DIRECTED):\n",
    "        return undirected_to_directed(graph)\n",
    "    elif graph_type == str(GRAPH_TYPE.BOTH):\n",
    "        return graph\n",
    "    else:\n",
    "        print_error(f\"Unknown graph type: {graph_type}\")\n",
    "        return graph\n",
    "\n",
    "def downsample_connected_graph(graph: nx.Graph, largest_cc: set, sample_size: int = 25, verbose: bool = False, plot: bool = False) -> nx.Graph:\n",
    "    \"\"\"\n",
    "    Down-samples the graph to only contain \"sample_size\" number of nodes\n",
    "    \"\"\"\n",
    "    # pick a random node from the largest connected component\n",
    "    __node = np.random.choice(list(largest_cc))\n",
    "    __total_nodes, __graph = 0, nx.Graph()\n",
    "    \n",
    "    for i, _ in enumerate(range(1, sample_size)):\n",
    "        # get the ego graph of the node\n",
    "        __ego_graph = nx.ego_graph(graph, __node, radius=i)\n",
    "        __total_nodes = len(__ego_graph)\n",
    "        if (__total_nodes >= sample_size) and not nx.is_empty(__graph): break\n",
    "        if verbose: print_log(f\"Node: '{__node}' yields '{__total_nodes}' ego-graph nodes after radius '{i}'\")\n",
    "        __graph = __ego_graph\n",
    "    \n",
    "    if plot: nx.draw(__graph, with_labels=True)\n",
    "    return __graph\n",
    "\n",
    "def make_graph_connected(graph: nx.Graph, sample_size: int = 25, sorted_cc: list = list(), verbose: bool = False, plot: bool = False) -> nx.Graph:\n",
    "    \"\"\"\n",
    "    Connect the graph by adding more edges between the nodes of connected components\n",
    "    \"\"\"\n",
    "    if sample_size <= 0: raise ValueError(f\"Invalid sample size: {sample_size}\")\n",
    "    if len(sorted_cc) <= 1: raise ValueError(f\"Invalid connected component list\")\n",
    "    \n",
    "    largest_cc = sorted_cc[0]\n",
    "    __first_node = list(largest_cc)[0]\n",
    "\n",
    "    __graph = nx.subgraph(graph, largest_cc).copy()\n",
    "\n",
    "    for i, cc in enumerate(sorted_cc[1:]):\n",
    "        # return if adding another connected component will make the graph bigger than sample size\n",
    "        if (len(__graph) + len(cc)) > sample_size:\n",
    "            if verbose: print_log(f\"Graph size: {len(__graph)} + CC({i + 1}): {len(cc)} > Sample Size: {sample_size}\")\n",
    "            break\n",
    "        # add new edge to make the graph connected\n",
    "        if verbose: print_log(f\"Adding edge between '{__first_node}' and '{list(cc)[0]}'\")\n",
    "        __graph.add_edge(__first_node, list(cc)[0])\n",
    "\n",
    "        # add the new connected component to the graph\n",
    "        if verbose: print_log(f\"Adding {len(cc)} nodes from CC({i + 1}) to the graph\")\n",
    "        __graph.add_edges_from(nx.subgraph(graph, cc).edges())\n",
    "\n",
    "    if plot:\n",
    "        fig, axes = plt.subplots(nrows=1, ncols=2)\n",
    "        axes[0].set_title(\"Original Graph\")\n",
    "        nx.draw(graph, with_labels=True, ax=axes[0])\n",
    "        axes[1].set_title(\"Final Graph\")\n",
    "        nx.draw(__graph, with_labels=True, ax=axes[1])\n",
    "    return __graph\n",
    "\n",
    "def sample_graph(graph: Union[nx.Graph, nx.DiGraph], sample_size: int = 25, verbose: bool = False, plot: bool = False) -> Union[nx.Graph, nx.DiGraph]:\n",
    "    \"\"\"\n",
    "    Returns a sample graph of the given 'sample_size'\n",
    "    \"\"\"\n",
    "    if sample_size <= 0: raise ValueError(f\"Invalid sample size: {sample_size}\")\n",
    "\n",
    "    is_directed = nx.is_directed(graph) and isinstance(graph, nx.DiGraph)\n",
    "    if is_directed: graph = graph.to_undirected()\n",
    "\n",
    "    sorted_cc = sorted(nx.connected_components(graph), key=len, reverse=True)\n",
    "    largest_cc = sorted_cc[0]\n",
    "\n",
    "    __graph = nx.Graph()\n",
    "\n",
    "    if sample_size > len(largest_cc):\n",
    "        if verbose: print_error(f\"Sample size {sample_size} is greater than the largest connected component size {len(largest_cc)}\")\n",
    "        if nx.is_connected(graph):\n",
    "            if verbose: print_log(f\"Graph is connected\")\n",
    "            __graph = graph.copy()\n",
    "        else:\n",
    "            # make graph bigger by connecting the connected components\n",
    "            if verbose: print_log(f\"Making graph connected\")\n",
    "            __graph = make_graph_connected(graph=graph, sample_size=sample_size, sorted_cc=sorted_cc, verbose=verbose, plot=plot)\n",
    "    else:\n",
    "        # make graph shorter by keeping 'sample_size' elements only and connecting them\n",
    "        if verbose: print_log(f\"Downsampling a larger graph\")\n",
    "        __graph = downsample_connected_graph(graph=graph, largest_cc=largest_cc, sample_size=sample_size, verbose=verbose, plot=plot)\n",
    "    \n",
    "    return undirected_to_directed(__graph) if is_directed else __graph\n",
    "\n",
    "def compute_algorithms(graph: nx.Graph, algorithms: list, verbose: bool) -> list:\n",
    "    \"\"\"\n",
    "    Computes the centrality measures for the given graph\n",
    "    \"\"\"\n",
    "    centrality_measures = list()\n",
    "    for i, algorithm in enumerate(algorithms):\n",
    "        algorithm_name = convert_to_normal(algorithm.name)\n",
    "        graph_direction = algorithm.options[\"direction\"]\n",
    "\n",
    "        if verbose:\n",
    "            print_log(f\"Running '{algorithm_name}' ({i+1}/{len(algorithms)})\")\n",
    "            print_log(f\"Option: '{algorithm.options}'\")\n",
    "\n",
    "        # if graph is not directed or undirected, then skip -> invalid direction option\n",
    "        if graph_direction != str(GRAPH_TYPE.BOTH) and graph_direction != str(GRAPH_TYPE.DIRECTED):\n",
    "            if verbose: print_error(f\"Invalid direction: '{graph_direction}'\")\n",
    "            continue\n",
    "\n",
    "        __graph = get_graph(graph=graph, graph_type=graph_direction)\n",
    "\n",
    "        try:\n",
    "            __centrality = algorithm.func(__graph, **algorithm.args)\n",
    "        except Exception as e:\n",
    "            if verbose: print_error(f\"Error while running '{algorithm_name}': {e}\")\n",
    "            continue\n",
    "\n",
    "        # return the degree as the weight\n",
    "        if isinstance(__centrality, list):\n",
    "            __centrality = {node: __graph.degree(node) for node in __centrality}\n",
    "\n",
    "        centrality_measures.append(CentralityAlgorithmOutput(algorithm.name, __centrality, algorithm.options))\n",
    "\n",
    "        if verbose:\n",
    "            print_log(f\"Result: '{__centrality}'\")\n",
    "            print_log(f\"=\"*50)\n",
    "    return centrality_measures"
   ]
  },
  {
   "cell_type": "code",
   "execution_count": 46,
   "id": "3696b752-a9e0-4052-9c9b-73a6382f5701",
   "metadata": {},
   "outputs": [
    {
     "name": "stdout",
     "output_type": "stream",
     "text": [
      "Graph with 33 nodes and 32 edges\n"
     ]
    }
   ],
   "source": [
    "# list of all the algorithms\n",
    "algorithms_to_run = [\n",
    "    CentralityAlgorithm(\"degree_centrality\", nx.degree_centrality, {}, {\"direction\":\"both\"}), \n",
    "    CentralityAlgorithm(\"in_degree_centrality\", nx.in_degree_centrality, {}, {\"direction\":\"directed\"}), \n",
    "    CentralityAlgorithm(\"out_degree_centrality\", nx.out_degree_centrality, {}, {\"direction\":\"directed\"}), \n",
    "    CentralityAlgorithm(\"eigenvector_centrality\", nx.eigenvector_centrality, {\"max_iter\":100,\"tol\":1.0e-6,\"weight\":\"weight\"}, {\"direction\":\"both\"}), \n",
    "    CentralityAlgorithm(\"katz_centrality\", nx.katz_centrality, {\"alpha\":0.1,\"beta\":1.0,\"max_iter\":1000,\"tol\":1.0e-6,\"normalized\":True,\"weight\":\"weight\"}, {\"direction\":\"both\"}), \n",
    "    CentralityAlgorithm(\"pagerank\", nx.pagerank, {\"alpha\":0.85,\"max_iter\":100,\"tol\":1.0e-6,\"weight\":\"weight\"}, {\"direction\":\"both\"}), \n",
    "    CentralityAlgorithm(\"voterank\", nx.voterank, {\"number_of_nodes\":10}, {\"direction\":\"both\"}), \n",
    "    CentralityAlgorithm(\"closeness_centrality\", nx.closeness_centrality, {\"distance\":\"weight\"}, {\"direction\":\"both\"}), \n",
    "    CentralityAlgorithm(\"harmonic_centrality\", nx.harmonic_centrality, {\"distance\":\"weight\"}, {\"direction\":\"both\"}), \n",
    "    CentralityAlgorithm(\"betweenness_centrality\", nx.betweenness_centrality, {\"k\":None,\"seed\":7,\"normalized\":True,\"weight\":\"weight\"}, {\"direction\":\"both\"})\n",
    "]\n",
    "\n",
    "# # total sample size\n",
    "sample_size = 50\n",
    "verbose = False\n",
    "plot = False\n",
    "\n",
    "# config. dir for input graph\n",
    "parent_dir = abspath(join(join(getcwd(), pardir), pardir))\n",
    "data_dir = join(parent_dir, 'data')\n",
    "data_file = join(data_dir, 'DM-HT.txt')\n",
    "# data_file = join(data_dir, 'DM-HT_small.txt')\n",
    "\n",
    "graph = nx.read_edgelist(data_file, nodetype=str, data=((\"weight\", float),))\n",
    "graph = sample_graph(graph=graph, sample_size=sample_size, verbose=verbose, plot=plot)\n",
    "di_graph = undirected_to_directed(graph)\n",
    "\n",
    "print(f\"{graph}\")"
   ]
  },
  {
   "cell_type": "code",
   "execution_count": 47,
   "id": "5528e09d",
   "metadata": {},
   "outputs": [],
   "source": [
    "centrality_measures = compute_algorithms(graph=di_graph, algorithms=algorithms_to_run, verbose=False)"
   ]
  },
  {
   "cell_type": "code",
   "execution_count": 60,
   "id": "fa90a5da",
   "metadata": {},
   "outputs": [],
   "source": [
    "def plot_network_graph(graph: nx.Graph, centrality_result: CentralityAlgorithmOutput) -> go.Figure:\n",
    "    \"\"\"\n",
    "    Plot the network graph\n",
    "    \"\"\"\n",
    "    pos = nx.spring_layout(graph)\n",
    "    edge_x, node_x, edge_y, node_y = [], [], [], []\n",
    "    \n",
    "    for edge in graph.edges():\n",
    "        x, y = edge\n",
    "        x0, y0 = pos[x]\n",
    "        x1, y1 = pos[y]\n",
    "        edge_x.append(x0)\n",
    "        edge_x.append(x1)\n",
    "        edge_y.append(y0)\n",
    "        edge_y.append(y1)\n",
    "\n",
    "    for node in graph.nodes():\n",
    "        x, y = pos[node][0], pos[node][1]\n",
    "        node_x.append(x)\n",
    "        node_y.append(y)\n",
    "    \n",
    "    edge_trace = go.Scatter(\n",
    "        x=edge_x, y=edge_y,\n",
    "        line=dict(width=0.5, color='#888'),\n",
    "        hoverinfo='none',\n",
    "        mode='lines'\n",
    "    )\n",
    "\n",
    "    node_trace = go.Scatter(\n",
    "        x=node_x, y=node_y,\n",
    "        mode='markers',\n",
    "        hoverinfo='text',\n",
    "        marker=dict(\n",
    "            showscale=True,\n",
    "            # colorscale options\n",
    "            #'Greys' | 'YlGnBu' | 'Greens' | 'YlOrRd' | 'Bluered' | 'RdBu' |\n",
    "            #'Reds' | 'Blues' | 'Picnic' | 'Rainbow' | 'Portland' | 'Jet' |\n",
    "            #'Hot' | 'Blackbody' | 'Earth' | 'Electric' | 'Viridis' |\n",
    "            colorscale='YlOrRd',\n",
    "            reversescale=True,\n",
    "            color=[],\n",
    "            size=10,\n",
    "            colorbar=dict(\n",
    "                thickness=15,\n",
    "                title='Node Connections',\n",
    "                xanchor='left',\n",
    "                titleside='right'\n",
    "            ),\n",
    "            line_width=2))\n",
    "    \n",
    "    node_centrality = []\n",
    "    node_text = []\n",
    "\n",
    "    for node in graph.nodes():\n",
    "        if node not in centrality_result.result:\n",
    "            node_centrality.append(float(0))\n",
    "            node_text.append(f\"Node: '{node}'<br>{convert_to_normal(centrality_result.name)}: {str(0)}\")\n",
    "        else:\n",
    "            node_centrality.append(centrality_result.result[node])\n",
    "            node_text.append(f\"Node: '{node}'<br>{convert_to_normal(centrality_result.name)}: {str(centrality_result.result[node])}\")\n",
    "    \n",
    "    node_trace.marker.color = node_centrality\n",
    "    node_trace.marker.cmax = max(node_centrality)\n",
    "    node_trace.marker.cmin = min(node_centrality)\n",
    "    node_trace.text = node_text\n",
    "\n",
    "    fig = go.Figure(data=[edge_trace, node_trace],\n",
    "                    layout=go.Layout(\n",
    "                        title=f'Output for \"{convert_to_normal(centrality_result.name)}\"',\n",
    "                        titlefont_size=16,\n",
    "                        showlegend=False,\n",
    "                        hovermode='closest',\n",
    "                        margin=dict(b=20, l=5, r=5, t=40),\n",
    "                        xaxis=dict(showgrid=False, zeroline=False, showticklabels=False),\n",
    "                        yaxis=dict(showgrid=False, zeroline=False, showticklabels=False))\n",
    "                    )\n",
    "    return fig"
   ]
  },
  {
   "cell_type": "code",
   "execution_count": 61,
   "id": "30deedda",
   "metadata": {},
   "outputs": [
    {
     "data": {
      "text/plain": [
       "{'Y116A8C.12': 12,\n",
       " 'C47E12.4': 5,\n",
       " 'Y47D3A.4': 7,\n",
       " 'E01B7.1': 1,\n",
       " 'R10E4.4': 3,\n",
       " 'C38C3.5': 1,\n",
       " 'B0285.1': 2}"
      ]
     },
     "execution_count": 61,
     "metadata": {},
     "output_type": "execute_result"
    }
   ],
   "source": [
    "centrality_measures[5].result"
   ]
  },
  {
   "cell_type": "code",
   "execution_count": 64,
   "id": "0b371499",
   "metadata": {},
   "outputs": [
    {
     "ename": "TypeError",
     "evalue": "'AxesSubplot' object is not subscriptable",
     "output_type": "error",
     "traceback": [
      "\u001b[0;31m---------------------------------------------------------------------------\u001b[0m",
      "\u001b[0;31mTypeError\u001b[0m                                 Traceback (most recent call last)",
      "Cell \u001b[0;32mIn [64], line 3\u001b[0m\n\u001b[1;32m      1\u001b[0m fig, axes \u001b[38;5;241m=\u001b[39m plt\u001b[38;5;241m.\u001b[39msubplots(\u001b[38;5;28mlen\u001b[39m(centrality_measures), \u001b[38;5;241m1\u001b[39m, figsize\u001b[38;5;241m=\u001b[39m(\u001b[38;5;241m20\u001b[39m, \u001b[38;5;241m10\u001b[39m))\n\u001b[1;32m      2\u001b[0m \u001b[38;5;28;01mfor\u001b[39;00m i, centrality_measure \u001b[38;5;129;01min\u001b[39;00m \u001b[38;5;28menumerate\u001b[39m(centrality_measures):\n\u001b[0;32m----> 3\u001b[0m     axes[i][\u001b[38;5;241m0\u001b[39m]\u001b[38;5;241m.\u001b[39mset_title(\u001b[38;5;124mf\u001b[39m\u001b[38;5;124m\"\u001b[39m\u001b[38;5;132;01m{\u001b[39;00mconvert_to_normal(centrality_measure\u001b[38;5;241m.\u001b[39mname)\u001b[38;5;132;01m}\u001b[39;00m\u001b[38;5;124m\"\u001b[39m)\n\u001b[1;32m      4\u001b[0m     axes[i][\u001b[38;5;241m0\u001b[39m] \u001b[38;5;241m=\u001b[39m plot_network_graph(graph\u001b[38;5;241m=\u001b[39mgraph, centrality_result\u001b[38;5;241m=\u001b[39mcentrality_measure)\n\u001b[1;32m      5\u001b[0m plt\u001b[38;5;241m.\u001b[39mshow()\n",
      "\u001b[0;31mTypeError\u001b[0m: 'AxesSubplot' object is not subscriptable"
     ]
    },
    {
     "data": {
      "image/png": "[encoded data removed]",
      "text/plain": [
       "<Figure size 2000x1000 with 9 Axes>"
      ]
     },
     "metadata": {},
     "output_type": "display_data"
    }
   ],
   "source": [
    "fig, axes = plt.subplots(len(centrality_measures), 1, figsize=(20, 10))\n",
    "for i, centrality_measure in enumerate(centrality_measures):\n",
    "    axes[i][0].set_title(f\"{convert_to_normal(centrality_measure.name)}\")\n",
    "    axes[i][0] = plot_network_graph(graph=graph, centrality_result=centrality_measure)\n",
    "plt.show()"
   ]
  },
  {
   "cell_type": "code",
   "execution_count": 44,
   "id": "0de8bdf6",
   "metadata": {},
   "outputs": [
    {
     "data": {
      "application/vnd.plotly.v1+json": {
       "config": {
        "plotlyServerURL": "https://plot.ly"
       },
       "data": [
        {
         "hoverinfo": "none",
         "line": {
          "color": "#888",
          "width": 0.5
         },
         "mode": "lines",
         "type": "scatter",
         "x": [
          0.17207176134527596,
          0.13071522788941872,
          -0.106346232627763,
          0.13071522788941872,
          -0.12039902805508058,
          -0.22321960973597282,
          -0.12039902805508058,
          -0.036459525150042485,
          -0.12039902805508058,
          -0.0777688969406885,
          0.16280934292408517,
          -0.036459525150042485,
          0.16280934292408517,
          0.42714225145854035,
          -0.37015838022244524,
          -0.5552153311187716,
          -0.37015838022244524,
          -0.5978740513971498,
          -0.37015838022244524,
          -0.036459525150042485,
          0.2130621414275189,
          0.13071522788941872,
          0.13071522788941872,
          0.3605960901294793,
          0.13071522788941872,
          0.022272560778907984,
          0.13071522788941872,
          0.30835879316046944,
          0.13071522788941872,
          -0.036459525150042485,
          0.13071522788941872,
          0.38260323612964925,
          0.13071522788941872,
          -0.09219034999543277
         ],
         "y": [
          0.5813933845417482,
          0.34360145912217244,
          0.6920046544702989,
          0.34360145912217244,
          -0.6414728405590983,
          -0.8253203340333384,
          -0.6414728405590983,
          -0.10304727651495153,
          -0.6414728405590983,
          -1,
          -0.3035280559593371,
          -0.10304727651495153,
          -0.3035280559593371,
          -0.5259905463745425,
          -0.17284772656879713,
          -0.30556647992038866,
          -0.17284772656879713,
          -0.1216058245407242,
          -0.17284772656879713,
          -0.10304727651495153,
          0.1756479879138977,
          0.34360145912217244,
          0.34360145912217244,
          0.2811510840562466,
          0.34360145912217244,
          0.5537903368780287,
          0.34360145912217244,
          0.562124619760651,
          0.34360145912217244,
          -0.10304727651495153,
          0.34360145912217244,
          0.42978998168419646,
          0.34360145912217244,
          0.3798755760439373
         ]
        },
        {
         "hoverinfo": "text",
         "marker": {
          "cmax": 0.3529411764705882,
          "cmin": 0,
          "color": [
           0.058823529411764705,
           0.058823529411764705,
           0.1764705882352941,
           0,
           0.11764705882352941,
           0.1764705882352941,
           0,
           0.058823529411764705,
           0,
           0.3529411764705882,
           0,
           0,
           0,
           0,
           0,
           0,
           0,
           0
          ],
          "colorbar": {
           "thickness": 15,
           "title": {
            "side": "right",
            "text": "Node Connections"
           },
           "xanchor": "left"
          },
          "colorscale": [
           [
            0,
            "rgb(255,255,204)"
           ],
           [
            0.125,
            "rgb(255,237,160)"
           ],
           [
            0.25,
            "rgb(254,217,118)"
           ],
           [
            0.375,
            "rgb(254,178,76)"
           ],
           [
            0.5,
            "rgb(253,141,60)"
           ],
           [
            0.625,
            "rgb(252,78,42)"
           ],
           [
            0.75,
            "rgb(227,26,28)"
           ],
           [
            0.875,
            "rgb(189,0,38)"
           ],
           [
            1,
            "rgb(128,0,38)"
           ]
          ],
          "line": {
           "width": 2
          },
          "reversescale": true,
          "showscale": true,
          "size": 10
         },
         "mode": "markers",
         "text": [
          "Node: 'C02D5.3'<br>Out Degree Centrality: 0.058823529411764705",
          "Node: 'C29E4.7'<br>Out Degree Centrality: 0.058823529411764705",
          "Node: 'C08F8.8'<br>Out Degree Centrality: 0.1764705882352941",
          "Node: 'K02F3.5'<br>Out Degree Centrality: 0.0",
          "Node: 'C34C6.5'<br>Out Degree Centrality: 0.11764705882352941",
          "Node: 'ZK686.4'<br>Out Degree Centrality: 0.1764705882352941",
          "Node: 'ZC518.2'<br>Out Degree Centrality: 0.0",
          "Node: 'W02D3.11'<br>Out Degree Centrality: 0.058823529411764705",
          "Node: 'C09D4.5'<br>Out Degree Centrality: 0.0",
          "Node: 'VC5.4'<br>Out Degree Centrality: 0.3529411764705882",
          "Node: 'F55C5.8'<br>Out Degree Centrality: 0.0",
          "Node: 'C13F10.7'<br>Out Degree Centrality: 0.0",
          "Node: 'F45E1.6'<br>Out Degree Centrality: 0.0",
          "Node: 'C06A5.11'<br>Out Degree Centrality: 0.0",
          "Node: 'C02D5.4'<br>Out Degree Centrality: 0.0",
          "Node: 'F13A7.10'<br>Out Degree Centrality: 0.0",
          "Node: 'F32E10.4'<br>Out Degree Centrality: 0.0",
          "Node: 'F20D1.9'<br>Out Degree Centrality: 0.0"
         ],
         "type": "scatter",
         "x": [
          0.17207176134527596,
          -0.106346232627763,
          -0.12039902805508058,
          -0.0777688969406885,
          0.16280934292408517,
          -0.37015838022244524,
          0.42714225145854035,
          0.2130621414275189,
          -0.5978740513971498,
          0.13071522788941872,
          -0.09219034999543277,
          0.022272560778907984,
          0.38260323612964925,
          -0.5552153311187716,
          0.3605960901294793,
          0.30835879316046944,
          -0.036459525150042485,
          -0.22321960973597282
         ],
         "y": [
          0.5813933845417482,
          0.6920046544702989,
          -0.6414728405590983,
          -1,
          -0.3035280559593371,
          -0.17284772656879713,
          -0.5259905463745425,
          0.1756479879138977,
          -0.1216058245407242,
          0.34360145912217244,
          0.3798755760439373,
          0.5537903368780287,
          0.42978998168419646,
          -0.30556647992038866,
          0.2811510840562466,
          0.562124619760651,
          -0.10304727651495153,
          -0.8253203340333384
         ]
        }
       ],
       "layout": {
        "hovermode": "closest",
        "margin": {
         "b": 20,
         "l": 5,
         "r": 5,
         "t": 40
        },
        "showlegend": false,
        "template": {
         "data": {
          "bar": [
           {
            "error_x": {
             "color": "#2a3f5f"
            },
            "error_y": {
             "color": "#2a3f5f"
            },
            "marker": {
             "line": {
              "color": "#E5ECF6",
              "width": 0.5
             },
             "pattern": {
              "fillmode": "overlay",
              "size": 10,
              "solidity": 0.2
             }
            },
            "type": "bar"
           }
          ],
          "barpolar": [
           {
            "marker": {
             "line": {
              "color": "#E5ECF6",
              "width": 0.5
             },
             "pattern": {
              "fillmode": "overlay",
              "size": 10,
              "solidity": 0.2
             }
            },
            "type": "barpolar"
           }
          ],
          "carpet": [
           {
            "aaxis": {
             "endlinecolor": "#2a3f5f",
             "gridcolor": "white",
             "linecolor": "white",
             "minorgridcolor": "white",
             "startlinecolor": "#2a3f5f"
            },
            "baxis": {
             "endlinecolor": "#2a3f5f",
             "gridcolor": "white",
             "linecolor": "white",
             "minorgridcolor": "white",
             "startlinecolor": "#2a3f5f"
            },
            "type": "carpet"
           }
          ],
          "choropleth": [
           {
            "colorbar": {
             "outlinewidth": 0,
             "ticks": ""
            },
            "type": "choropleth"
           }
          ],
          "contour": [
           {
            "colorbar": {
             "outlinewidth": 0,
             "ticks": ""
            },
            "colorscale": [
             [
              0,
              "#0d0887"
             ],
             [
              0.1111111111111111,
              "#46039f"
             ],
             [
              0.2222222222222222,
              "#7201a8"
             ],
             [
              0.3333333333333333,
              "#9c179e"
             ],
             [
              0.4444444444444444,
              "#bd3786"
             ],
             [
              0.5555555555555556,
              "#d8576b"
             ],
             [
              0.6666666666666666,
              "#ed7953"
             ],
             [
              0.7777777777777778,
              "#fb9f3a"
             ],
             [
              0.8888888888888888,
              "#fdca26"
             ],
             [
              1,
              "#f0f921"
             ]
            ],
            "type": "contour"
           }
          ],
          "contourcarpet": [
           {
            "colorbar": {
             "outlinewidth": 0,
             "ticks": ""
            },
            "type": "contourcarpet"
           }
          ],
          "heatmap": [
           {
            "colorbar": {
             "outlinewidth": 0,
             "ticks": ""
            },
            "colorscale": [
             [
              0,
              "#0d0887"
             ],
             [
              0.1111111111111111,
              "#46039f"
             ],
             [
              0.2222222222222222,
              "#7201a8"
             ],
             [
              0.3333333333333333,
              "#9c179e"
             ],
             [
              0.4444444444444444,
              "#bd3786"
             ],
             [
              0.5555555555555556,
              "#d8576b"
             ],
             [
              0.6666666666666666,
              "#ed7953"
             ],
             [
              0.7777777777777778,
              "#fb9f3a"
             ],
             [
              0.8888888888888888,
              "#fdca26"
             ],
             [
              1,
              "#f0f921"
             ]
            ],
            "type": "heatmap"
           }
          ],
          "heatmapgl": [
           {
            "colorbar": {
             "outlinewidth": 0,
             "ticks": ""
            },
            "colorscale": [
             [
              0,
              "#0d0887"
             ],
             [
              0.1111111111111111,
              "#46039f"
             ],
             [
              0.2222222222222222,
              "#7201a8"
             ],
             [
              0.3333333333333333,
              "#9c179e"
             ],
             [
              0.4444444444444444,
              "#bd3786"
             ],
             [
              0.5555555555555556,
              "#d8576b"
             ],
             [
              0.6666666666666666,
              "#ed7953"
             ],
             [
              0.7777777777777778,
              "#fb9f3a"
             ],
             [
              0.8888888888888888,
              "#fdca26"
             ],
             [
              1,
              "#f0f921"
             ]
            ],
            "type": "heatmapgl"
           }
          ],
          "histogram": [
           {
            "marker": {
             "pattern": {
              "fillmode": "overlay",
              "size": 10,
              "solidity": 0.2
             }
            },
            "type": "histogram"
           }
          ],
          "histogram2d": [
           {
            "colorbar": {
             "outlinewidth": 0,
             "ticks": ""
            },
            "colorscale": [
             [
              0,
              "#0d0887"
             ],
             [
              0.1111111111111111,
              "#46039f"
             ],
             [
              0.2222222222222222,
              "#7201a8"
             ],
             [
              0.3333333333333333,
              "#9c179e"
             ],
             [
              0.4444444444444444,
              "#bd3786"
             ],
             [
              0.5555555555555556,
              "#d8576b"
             ],
             [
              0.6666666666666666,
              "#ed7953"
             ],
             [
              0.7777777777777778,
              "#fb9f3a"
             ],
             [
              0.8888888888888888,
              "#fdca26"
             ],
             [
              1,
              "#f0f921"
             ]
            ],
            "type": "histogram2d"
           }
          ],
          "histogram2dcontour": [
           {
            "colorbar": {
             "outlinewidth": 0,
             "ticks": ""
            },
            "colorscale": [
             [
              0,
              "#0d0887"
             ],
             [
              0.1111111111111111,
              "#46039f"
             ],
             [
              0.2222222222222222,
              "#7201a8"
             ],
             [
              0.3333333333333333,
              "#9c179e"
             ],
             [
              0.4444444444444444,
              "#bd3786"
             ],
             [
              0.5555555555555556,
              "#d8576b"
             ],
             [
              0.6666666666666666,
              "#ed7953"
             ],
             [
              0.7777777777777778,
              "#fb9f3a"
             ],
             [
              0.8888888888888888,
              "#fdca26"
             ],
             [
              1,
              "#f0f921"
             ]
            ],
            "type": "histogram2dcontour"
           }
          ],
          "mesh3d": [
           {
            "colorbar": {
             "outlinewidth": 0,
             "ticks": ""
            },
            "type": "mesh3d"
           }
          ],
          "parcoords": [
           {
            "line": {
             "colorbar": {
              "outlinewidth": 0,
              "ticks": ""
             }
            },
            "type": "parcoords"
           }
          ],
          "pie": [
           {
            "automargin": true,
            "type": "pie"
           }
          ],
          "scatter": [
           {
            "fillpattern": {
             "fillmode": "overlay",
             "size": 10,
             "solidity": 0.2
            },
            "type": "scatter"
           }
          ],
          "scatter3d": [
           {
            "line": {
             "colorbar": {
              "outlinewidth": 0,
              "ticks": ""
             }
            },
            "marker": {
             "colorbar": {
              "outlinewidth": 0,
              "ticks": ""
             }
            },
            "type": "scatter3d"
           }
          ],
          "scattercarpet": [
           {
            "marker": {
             "colorbar": {
              "outlinewidth": 0,
              "ticks": ""
             }
            },
            "type": "scattercarpet"
           }
          ],
          "scattergeo": [
           {
            "marker": {
             "colorbar": {
              "outlinewidth": 0,
              "ticks": ""
             }
            },
            "type": "scattergeo"
           }
          ],
          "scattergl": [
           {
            "marker": {
             "colorbar": {
              "outlinewidth": 0,
              "ticks": ""
             }
            },
            "type": "scattergl"
           }
          ],
          "scattermapbox": [
           {
            "marker": {
             "colorbar": {
              "outlinewidth": 0,
              "ticks": ""
             }
            },
            "type": "scattermapbox"
           }
          ],
          "scatterpolar": [
           {
            "marker": {
             "colorbar": {
              "outlinewidth": 0,
              "ticks": ""
             }
            },
            "type": "scatterpolar"
           }
          ],
          "scatterpolargl": [
           {
            "marker": {
             "colorbar": {
              "outlinewidth": 0,
              "ticks": ""
             }
            },
            "type": "scatterpolargl"
           }
          ],
          "scatterternary": [
           {
            "marker": {
             "colorbar": {
              "outlinewidth": 0,
              "ticks": ""
             }
            },
            "type": "scatterternary"
           }
          ],
          "surface": [
           {
            "colorbar": {
             "outlinewidth": 0,
             "ticks": ""
            },
            "colorscale": [
             [
              0,
              "#0d0887"
             ],
             [
              0.1111111111111111,
              "#46039f"
             ],
             [
              0.2222222222222222,
              "#7201a8"
             ],
             [
              0.3333333333333333,
              "#9c179e"
             ],
             [
              0.4444444444444444,
              "#bd3786"
             ],
             [
              0.5555555555555556,
              "#d8576b"
             ],
             [
              0.6666666666666666,
              "#ed7953"
             ],
             [
              0.7777777777777778,
              "#fb9f3a"
             ],
             [
              0.8888888888888888,
              "#fdca26"
             ],
             [
              1,
              "#f0f921"
             ]
            ],
            "type": "surface"
           }
          ],
          "table": [
           {
            "cells": {
             "fill": {
              "color": "#EBF0F8"
             },
             "line": {
              "color": "white"
             }
            },
            "header": {
             "fill": {
              "color": "#C8D4E3"
             },
             "line": {
              "color": "white"
             }
            },
            "type": "table"
           }
          ]
         },
         "layout": {
          "annotationdefaults": {
           "arrowcolor": "#2a3f5f",
           "arrowhead": 0,
           "arrowwidth": 1
          },
          "autotypenumbers": "strict",
          "coloraxis": {
           "colorbar": {
            "outlinewidth": 0,
            "ticks": ""
           }
          },
          "colorscale": {
           "diverging": [
            [
             0,
             "#8e0152"
            ],
            [
             0.1,
             "#c51b7d"
            ],
            [
             0.2,
             "#de77ae"
            ],
            [
             0.3,
             "#f1b6da"
            ],
            [
             0.4,
             "#fde0ef"
            ],
            [
             0.5,
             "#f7f7f7"
            ],
            [
             0.6,
             "#e6f5d0"
            ],
            [
             0.7,
             "#b8e186"
            ],
            [
             0.8,
             "#7fbc41"
            ],
            [
             0.9,
             "#4d9221"
            ],
            [
             1,
             "#276419"
            ]
           ],
           "sequential": [
            [
             0,
             "#0d0887"
            ],
            [
             0.1111111111111111,
             "#46039f"
            ],
            [
             0.2222222222222222,
             "#7201a8"
            ],
            [
             0.3333333333333333,
             "#9c179e"
            ],
            [
             0.4444444444444444,
             "#bd3786"
            ],
            [
             0.5555555555555556,
             "#d8576b"
            ],
            [
             0.6666666666666666,
             "#ed7953"
            ],
            [
             0.7777777777777778,
             "#fb9f3a"
            ],
            [
             0.8888888888888888,
             "#fdca26"
            ],
            [
             1,
             "#f0f921"
            ]
           ],
           "sequentialminus": [
            [
             0,
             "#0d0887"
            ],
            [
             0.1111111111111111,
             "#46039f"
            ],
            [
             0.2222222222222222,
             "#7201a8"
            ],
            [
             0.3333333333333333,
             "#9c179e"
            ],
            [
             0.4444444444444444,
             "#bd3786"
            ],
            [
             0.5555555555555556,
             "#d8576b"
            ],
            [
             0.6666666666666666,
             "#ed7953"
            ],
            [
             0.7777777777777778,
             "#fb9f3a"
            ],
            [
             0.8888888888888888,
             "#fdca26"
            ],
            [
             1,
             "#f0f921"
            ]
           ]
          },
          "colorway": [
           "#636efa",
           "#EF553B",
           "#00cc96",
           "#ab63fa",
           "#FFA15A",
           "#19d3f3",
           "#FF6692",
           "#B6E880",
           "#FF97FF",
           "#FECB52"
          ],
          "font": {
           "color": "#2a3f5f"
          },
          "geo": {
           "bgcolor": "white",
           "lakecolor": "white",
           "landcolor": "#E5ECF6",
           "showlakes": true,
           "showland": true,
           "subunitcolor": "white"
          },
          "hoverlabel": {
           "align": "left"
          },
          "hovermode": "closest",
          "mapbox": {
           "style": "light"
          },
          "paper_bgcolor": "white",
          "plot_bgcolor": "#E5ECF6",
          "polar": {
           "angularaxis": {
            "gridcolor": "white",
            "linecolor": "white",
            "ticks": ""
           },
           "bgcolor": "#E5ECF6",
           "radialaxis": {
            "gridcolor": "white",
            "linecolor": "white",
            "ticks": ""
           }
          },
          "scene": {
           "xaxis": {
            "backgroundcolor": "#E5ECF6",
            "gridcolor": "white",
            "gridwidth": 2,
            "linecolor": "white",
            "showbackground": true,
            "ticks": "",
            "zerolinecolor": "white"
           },
           "yaxis": {
            "backgroundcolor": "#E5ECF6",
            "gridcolor": "white",
            "gridwidth": 2,
            "linecolor": "white",
            "showbackground": true,
            "ticks": "",
            "zerolinecolor": "white"
           },
           "zaxis": {
            "backgroundcolor": "#E5ECF6",
            "gridcolor": "white",
            "gridwidth": 2,
            "linecolor": "white",
            "showbackground": true,
            "ticks": "",
            "zerolinecolor": "white"
           }
          },
          "shapedefaults": {
           "line": {
            "color": "#2a3f5f"
           }
          },
          "ternary": {
           "aaxis": {
            "gridcolor": "white",
            "linecolor": "white",
            "ticks": ""
           },
           "baxis": {
            "gridcolor": "white",
            "linecolor": "white",
            "ticks": ""
           },
           "bgcolor": "#E5ECF6",
           "caxis": {
            "gridcolor": "white",
            "linecolor": "white",
            "ticks": ""
           }
          },
          "title": {
           "x": 0.05
          },
          "xaxis": {
           "automargin": true,
           "gridcolor": "white",
           "linecolor": "white",
           "ticks": "",
           "title": {
            "standoff": 15
           },
           "zerolinecolor": "white",
           "zerolinewidth": 2
          },
          "yaxis": {
           "automargin": true,
           "gridcolor": "white",
           "linecolor": "white",
           "ticks": "",
           "title": {
            "standoff": 15
           },
           "zerolinecolor": "white",
           "zerolinewidth": 2
          }
         }
        },
        "title": {
         "font": {
          "size": 16
         },
         "text": "Output for \"Out Degree Centrality\""
        },
        "xaxis": {
         "showgrid": false,
         "showticklabels": false,
         "zeroline": false
        },
        "yaxis": {
         "showgrid": false,
         "showticklabels": false,
         "zeroline": false
        }
       }
      }
     },
     "metadata": {},
     "output_type": "display_data"
    }
   ],
   "source": [
    "plot_network_graph(graph, centrality_measures[2])"
   ]
  },
  {
   "cell_type": "code",
   "execution_count": 22,
   "id": "0c85606e",
   "metadata": {},
   "outputs": [
    {
     "data": {
      "text/plain": [
       "plotly.graph_objs._scatter.Scatter"
      ]
     },
     "execution_count": 22,
     "metadata": {},
     "output_type": "execute_result"
    }
   ],
   "source": [
    "type(node_trace)"
   ]
  },
  {
   "cell_type": "code",
   "execution_count": 23,
   "id": "f5bcf8d1",
   "metadata": {},
   "outputs": [
    {
     "data": {
      "application/vnd.plotly.v1+json": {
       "config": {
        "plotlyServerURL": "https://plot.ly"
       },
       "data": [
        {
         "hoverinfo": "none",
         "line": {
          "color": "#888",
          "width": 0.5
         },
         "mode": "lines",
         "type": "scatter",
         "x": [
          -0.661647655472077,
          -0.453748201474495,
          0.7542328945940602,
          0.45780424793274066,
          0.19027153698553437,
          0.06739068170279942,
          0.9018212773801693,
          0.4638837186993375,
          0.5840432036002944,
          0.43257769434260623,
          -0.5986631605076346,
          -0.31161348147153645,
          -0.9379093022439051,
          -0.453748201474495,
          0.07854965195987065,
          0.10312426045991374,
          0.07854965195987065,
          0.06739068170279942,
          0.45780424793274066,
          0.06739068170279942,
          -0.13726273022971308,
          0.031589027437222084,
          0.12864222056611807,
          0.06739068170279942,
          -0.453748201474495,
          -0.485997878316457,
          -0.453748201474495,
          -0.8815545783171518,
          -0.453748201474495,
          -0.6952415242189656,
          -0.453748201474495,
          0.06739068170279942,
          0.17586970425654053,
          0.031589027437222084,
          -0.5004994355477904,
          -0.31161348147153645,
          0.031589027437222084,
          0.06739068170279942,
          0.031589027437222084,
          -0.015791455091789697,
          0.7322473742894505,
          0.4638837186993375,
          0.43257769434260623,
          0.7118999184886915,
          0.43257769434260623,
          0.06739068170279942,
          0.06739068170279942,
          0.4638837186993375,
          0.06739068170279942,
          -0.13401800980383566,
          0.06739068170279942,
          -0.31161348147153645
         ],
         "y": [
          -0.6922936061323914,
          -0.35473767719447585,
          -0.01756700002950581,
          -0.012282754641093161,
          -0.16873025644358305,
          -0.009126284935879294,
          0.43559845010050396,
          0.2814564561899618,
          -0.6190722830843911,
          -0.3528966195370915,
          0.3088830092865428,
          0.23447862843071485,
          -0.337560806412209,
          -0.35473767719447585,
          -0.40098276293978735,
          -0.7043068802258313,
          -0.40098276293978735,
          -0.009126284935879294,
          -0.012282754641093161,
          -0.009126284935879294,
          1,
          0.5337498230611248,
          0.191533418807399,
          -0.009126284935879294,
          -0.35473767719447585,
          -0.6361810423603033,
          -0.35473767719447585,
          -0.6260541255387069,
          -0.35473767719447585,
          -0.3845393614110206,
          -0.35473767719447585,
          -0.009126284935879294,
          0.9950923077843998,
          0.5337498230611248,
          0.4663710002040955,
          0.23447862843071485,
          0.5337498230611248,
          -0.009126284935879294,
          0.5337498230611248,
          0.7941887114352014,
          0.6142934680128456,
          0.2814564561899618,
          -0.3528966195370915,
          -0.48419759354564124,
          -0.3528966195370915,
          -0.009126284935879294,
          -0.009126284935879294,
          0.2814564561899618,
          -0.009126284935879294,
          -0.05511621888087983,
          -0.009126284935879294,
          0.23447862843071485
         ]
        },
        {
         "hoverinfo": "text",
         "marker": {
          "cmax": 0.5294117647058824,
          "cmin": 0.058823529411764705,
          "color": [
           0.058823529411764705,
           0.058823529411764705,
           0.1764705882352941,
           0.058823529411764705,
           0.11764705882352941,
           0.1764705882352941,
           0.058823529411764705,
           0.058823529411764705,
           0.058823529411764705,
           0.5294117647058824,
           0.058823529411764705,
           0.058823529411764705,
           0.058823529411764705,
           0.058823529411764705,
           0.058823529411764705,
           0.058823529411764705,
           0.23529411764705882,
           0.058823529411764705
          ],
          "colorbar": {
           "thickness": 15,
           "title": {
            "side": "right",
            "text": "Node Connections"
           },
           "xanchor": "left"
          },
          "colorscale": [
           [
            0,
            "rgb(255,255,217)"
           ],
           [
            0.125,
            "rgb(237,248,177)"
           ],
           [
            0.25,
            "rgb(199,233,180)"
           ],
           [
            0.375,
            "rgb(127,205,187)"
           ],
           [
            0.5,
            "rgb(65,182,196)"
           ],
           [
            0.625,
            "rgb(29,145,192)"
           ],
           [
            0.75,
            "rgb(34,94,168)"
           ],
           [
            0.875,
            "rgb(37,52,148)"
           ],
           [
            1,
            "rgb(8,29,88)"
           ]
          ],
          "line": {
           "width": 2
          },
          "reversescale": true,
          "showscale": true,
          "size": 10
         },
         "mode": "markers",
         "text": [
          "Node: 'C02D5.3'\n# of degrees: 0.058823529411764705",
          "Node: 'C29E4.7'\n# of degrees: 0.058823529411764705",
          "Node: 'C08F8.8'\n# of degrees: 0.1764705882352941",
          "Node: 'K02F3.5'\n# of degrees: 0.058823529411764705",
          "Node: 'C34C6.5'\n# of degrees: 0.11764705882352941",
          "Node: 'ZK686.4'\n# of degrees: 0.1764705882352941",
          "Node: 'ZC518.2'\n# of degrees: 0.058823529411764705",
          "Node: 'W02D3.11'\n# of degrees: 0.058823529411764705",
          "Node: 'C09D4.5'\n# of degrees: 0.058823529411764705",
          "Node: 'VC5.4'\n# of degrees: 0.5294117647058824",
          "Node: 'F55C5.8'\n# of degrees: 0.058823529411764705",
          "Node: 'C13F10.7'\n# of degrees: 0.058823529411764705",
          "Node: 'F45E1.6'\n# of degrees: 0.058823529411764705",
          "Node: 'C06A5.11'\n# of degrees: 0.058823529411764705",
          "Node: 'C02D5.4'\n# of degrees: 0.058823529411764705",
          "Node: 'F13A7.10'\n# of degrees: 0.058823529411764705",
          "Node: 'F32E10.4'\n# of degrees: 0.23529411764705882",
          "Node: 'F20D1.9'\n# of degrees: 0.058823529411764705"
         ],
         "type": "scatter",
         "x": [
          -0.661647655472077,
          0.7542328945940602,
          0.19027153698553437,
          0.9018212773801693,
          0.5840432036002944,
          -0.5986631605076346,
          -0.9379093022439051,
          0.07854965195987065,
          0.45780424793274066,
          -0.13726273022971308,
          0.12864222056611807,
          -0.453748201474495,
          0.17586970425654053,
          0.10312426045991374,
          -0.5004994355477904,
          0.031589027437222084,
          0.7322473742894505,
          0.43257769434260623,
          0.06739068170279942,
          0.7118999184886915,
          -0.8815545783171518,
          -0.485997878316457,
          -0.6952415242189656,
          -0.015791455091789697,
          0.4638837186993375,
          -0.31161348147153645,
          -0.13401800980383566
         ],
         "y": [
          -0.6922936061323914,
          -0.01756700002950581,
          -0.16873025644358305,
          0.43559845010050396,
          -0.6190722830843911,
          0.3088830092865428,
          -0.337560806412209,
          -0.40098276293978735,
          -0.012282754641093161,
          1,
          0.191533418807399,
          -0.35473767719447585,
          0.9950923077843998,
          -0.7043068802258313,
          0.4663710002040955,
          0.5337498230611248,
          0.6142934680128456,
          -0.3528966195370915,
          -0.009126284935879294,
          -0.48419759354564124,
          -0.6260541255387069,
          -0.6361810423603033,
          -0.3845393614110206,
          0.7941887114352014,
          0.2814564561899618,
          0.23447862843071485,
          -0.05511621888087983
         ]
        }
       ],
       "layout": {
        "hovermode": "closest",
        "margin": {
         "b": 20,
         "l": 5,
         "r": 5,
         "t": 40
        },
        "showlegend": false,
        "template": {
         "data": {
          "bar": [
           {
            "error_x": {
             "color": "#2a3f5f"
            },
            "error_y": {
             "color": "#2a3f5f"
            },
            "marker": {
             "line": {
              "color": "#E5ECF6",
              "width": 0.5
             },
             "pattern": {
              "fillmode": "overlay",
              "size": 10,
              "solidity": 0.2
             }
            },
            "type": "bar"
           }
          ],
          "barpolar": [
           {
            "marker": {
             "line": {
              "color": "#E5ECF6",
              "width": 0.5
             },
             "pattern": {
              "fillmode": "overlay",
              "size": 10,
              "solidity": 0.2
             }
            },
            "type": "barpolar"
           }
          ],
          "carpet": [
           {
            "aaxis": {
             "endlinecolor": "#2a3f5f",
             "gridcolor": "white",
             "linecolor": "white",
             "minorgridcolor": "white",
             "startlinecolor": "#2a3f5f"
            },
            "baxis": {
             "endlinecolor": "#2a3f5f",
             "gridcolor": "white",
             "linecolor": "white",
             "minorgridcolor": "white",
             "startlinecolor": "#2a3f5f"
            },
            "type": "carpet"
           }
          ],
          "choropleth": [
           {
            "colorbar": {
             "outlinewidth": 0,
             "ticks": ""
            },
            "type": "choropleth"
           }
          ],
          "contour": [
           {
            "colorbar": {
             "outlinewidth": 0,
             "ticks": ""
            },
            "colorscale": [
             [
              0,
              "#0d0887"
             ],
             [
              0.1111111111111111,
              "#46039f"
             ],
             [
              0.2222222222222222,
              "#7201a8"
             ],
             [
              0.3333333333333333,
              "#9c179e"
             ],
             [
              0.4444444444444444,
              "#bd3786"
             ],
             [
              0.5555555555555556,
              "#d8576b"
             ],
             [
              0.6666666666666666,
              "#ed7953"
             ],
             [
              0.7777777777777778,
              "#fb9f3a"
             ],
             [
              0.8888888888888888,
              "#fdca26"
             ],
             [
              1,
              "#f0f921"
             ]
            ],
            "type": "contour"
           }
          ],
          "contourcarpet": [
           {
            "colorbar": {
             "outlinewidth": 0,
             "ticks": ""
            },
            "type": "contourcarpet"
           }
          ],
          "heatmap": [
           {
            "colorbar": {
             "outlinewidth": 0,
             "ticks": ""
            },
            "colorscale": [
             [
              0,
              "#0d0887"
             ],
             [
              0.1111111111111111,
              "#46039f"
             ],
             [
              0.2222222222222222,
              "#7201a8"
             ],
             [
              0.3333333333333333,
              "#9c179e"
             ],
             [
              0.4444444444444444,
              "#bd3786"
             ],
             [
              0.5555555555555556,
              "#d8576b"
             ],
             [
              0.6666666666666666,
              "#ed7953"
             ],
             [
              0.7777777777777778,
              "#fb9f3a"
             ],
             [
              0.8888888888888888,
              "#fdca26"
             ],
             [
              1,
              "#f0f921"
             ]
            ],
            "type": "heatmap"
           }
          ],
          "heatmapgl": [
           {
            "colorbar": {
             "outlinewidth": 0,
             "ticks": ""
            },
            "colorscale": [
             [
              0,
              "#0d0887"
             ],
             [
              0.1111111111111111,
              "#46039f"
             ],
             [
              0.2222222222222222,
              "#7201a8"
             ],
             [
              0.3333333333333333,
              "#9c179e"
             ],
             [
              0.4444444444444444,
              "#bd3786"
             ],
             [
              0.5555555555555556,
              "#d8576b"
             ],
             [
              0.6666666666666666,
              "#ed7953"
             ],
             [
              0.7777777777777778,
              "#fb9f3a"
             ],
             [
              0.8888888888888888,
              "#fdca26"
             ],
             [
              1,
              "#f0f921"
             ]
            ],
            "type": "heatmapgl"
           }
          ],
          "histogram": [
           {
            "marker": {
             "pattern": {
              "fillmode": "overlay",
              "size": 10,
              "solidity": 0.2
             }
            },
            "type": "histogram"
           }
          ],
          "histogram2d": [
           {
            "colorbar": {
             "outlinewidth": 0,
             "ticks": ""
            },
            "colorscale": [
             [
              0,
              "#0d0887"
             ],
             [
              0.1111111111111111,
              "#46039f"
             ],
             [
              0.2222222222222222,
              "#7201a8"
             ],
             [
              0.3333333333333333,
              "#9c179e"
             ],
             [
              0.4444444444444444,
              "#bd3786"
             ],
             [
              0.5555555555555556,
              "#d8576b"
             ],
             [
              0.6666666666666666,
              "#ed7953"
             ],
             [
              0.7777777777777778,
              "#fb9f3a"
             ],
             [
              0.8888888888888888,
              "#fdca26"
             ],
             [
              1,
              "#f0f921"
             ]
            ],
            "type": "histogram2d"
           }
          ],
          "histogram2dcontour": [
           {
            "colorbar": {
             "outlinewidth": 0,
             "ticks": ""
            },
            "colorscale": [
             [
              0,
              "#0d0887"
             ],
             [
              0.1111111111111111,
              "#46039f"
             ],
             [
              0.2222222222222222,
              "#7201a8"
             ],
             [
              0.3333333333333333,
              "#9c179e"
             ],
             [
              0.4444444444444444,
              "#bd3786"
             ],
             [
              0.5555555555555556,
              "#d8576b"
             ],
             [
              0.6666666666666666,
              "#ed7953"
             ],
             [
              0.7777777777777778,
              "#fb9f3a"
             ],
             [
              0.8888888888888888,
              "#fdca26"
             ],
             [
              1,
              "#f0f921"
             ]
            ],
            "type": "histogram2dcontour"
           }
          ],
          "mesh3d": [
           {
            "colorbar": {
             "outlinewidth": 0,
             "ticks": ""
            },
            "type": "mesh3d"
           }
          ],
          "parcoords": [
           {
            "line": {
             "colorbar": {
              "outlinewidth": 0,
              "ticks": ""
             }
            },
            "type": "parcoords"
           }
          ],
          "pie": [
           {
            "automargin": true,
            "type": "pie"
           }
          ],
          "scatter": [
           {
            "fillpattern": {
             "fillmode": "overlay",
             "size": 10,
             "solidity": 0.2
            },
            "type": "scatter"
           }
          ],
          "scatter3d": [
           {
            "line": {
             "colorbar": {
              "outlinewidth": 0,
              "ticks": ""
             }
            },
            "marker": {
             "colorbar": {
              "outlinewidth": 0,
              "ticks": ""
             }
            },
            "type": "scatter3d"
           }
          ],
          "scattercarpet": [
           {
            "marker": {
             "colorbar": {
              "outlinewidth": 0,
              "ticks": ""
             }
            },
            "type": "scattercarpet"
           }
          ],
          "scattergeo": [
           {
            "marker": {
             "colorbar": {
              "outlinewidth": 0,
              "ticks": ""
             }
            },
            "type": "scattergeo"
           }
          ],
          "scattergl": [
           {
            "marker": {
             "colorbar": {
              "outlinewidth": 0,
              "ticks": ""
             }
            },
            "type": "scattergl"
           }
          ],
          "scattermapbox": [
           {
            "marker": {
             "colorbar": {
              "outlinewidth": 0,
              "ticks": ""
             }
            },
            "type": "scattermapbox"
           }
          ],
          "scatterpolar": [
           {
            "marker": {
             "colorbar": {
              "outlinewidth": 0,
              "ticks": ""
             }
            },
            "type": "scatterpolar"
           }
          ],
          "scatterpolargl": [
           {
            "marker": {
             "colorbar": {
              "outlinewidth": 0,
              "ticks": ""
             }
            },
            "type": "scatterpolargl"
           }
          ],
          "scatterternary": [
           {
            "marker": {
             "colorbar": {
              "outlinewidth": 0,
              "ticks": ""
             }
            },
            "type": "scatterternary"
           }
          ],
          "surface": [
           {
            "colorbar": {
             "outlinewidth": 0,
             "ticks": ""
            },
            "colorscale": [
             [
              0,
              "#0d0887"
             ],
             [
              0.1111111111111111,
              "#46039f"
             ],
             [
              0.2222222222222222,
              "#7201a8"
             ],
             [
              0.3333333333333333,
              "#9c179e"
             ],
             [
              0.4444444444444444,
              "#bd3786"
             ],
             [
              0.5555555555555556,
              "#d8576b"
             ],
             [
              0.6666666666666666,
              "#ed7953"
             ],
             [
              0.7777777777777778,
              "#fb9f3a"
             ],
             [
              0.8888888888888888,
              "#fdca26"
             ],
             [
              1,
              "#f0f921"
             ]
            ],
            "type": "surface"
           }
          ],
          "table": [
           {
            "cells": {
             "fill": {
              "color": "#EBF0F8"
             },
             "line": {
              "color": "white"
             }
            },
            "header": {
             "fill": {
              "color": "#C8D4E3"
             },
             "line": {
              "color": "white"
             }
            },
            "type": "table"
           }
          ]
         },
         "layout": {
          "annotationdefaults": {
           "arrowcolor": "#2a3f5f",
           "arrowhead": 0,
           "arrowwidth": 1
          },
          "autotypenumbers": "strict",
          "coloraxis": {
           "colorbar": {
            "outlinewidth": 0,
            "ticks": ""
           }
          },
          "colorscale": {
           "diverging": [
            [
             0,
             "#8e0152"
            ],
            [
             0.1,
             "#c51b7d"
            ],
            [
             0.2,
             "#de77ae"
            ],
            [
             0.3,
             "#f1b6da"
            ],
            [
             0.4,
             "#fde0ef"
            ],
            [
             0.5,
             "#f7f7f7"
            ],
            [
             0.6,
             "#e6f5d0"
            ],
            [
             0.7,
             "#b8e186"
            ],
            [
             0.8,
             "#7fbc41"
            ],
            [
             0.9,
             "#4d9221"
            ],
            [
             1,
             "#276419"
            ]
           ],
           "sequential": [
            [
             0,
             "#0d0887"
            ],
            [
             0.1111111111111111,
             "#46039f"
            ],
            [
             0.2222222222222222,
             "#7201a8"
            ],
            [
             0.3333333333333333,
             "#9c179e"
            ],
            [
             0.4444444444444444,
             "#bd3786"
            ],
            [
             0.5555555555555556,
             "#d8576b"
            ],
            [
             0.6666666666666666,
             "#ed7953"
            ],
            [
             0.7777777777777778,
             "#fb9f3a"
            ],
            [
             0.8888888888888888,
             "#fdca26"
            ],
            [
             1,
             "#f0f921"
            ]
           ],
           "sequentialminus": [
            [
             0,
             "#0d0887"
            ],
            [
             0.1111111111111111,
             "#46039f"
            ],
            [
             0.2222222222222222,
             "#7201a8"
            ],
            [
             0.3333333333333333,
             "#9c179e"
            ],
            [
             0.4444444444444444,
             "#bd3786"
            ],
            [
             0.5555555555555556,
             "#d8576b"
            ],
            [
             0.6666666666666666,
             "#ed7953"
            ],
            [
             0.7777777777777778,
             "#fb9f3a"
            ],
            [
             0.8888888888888888,
             "#fdca26"
            ],
            [
             1,
             "#f0f921"
            ]
           ]
          },
          "colorway": [
           "#636efa",
           "#EF553B",
           "#00cc96",
           "#ab63fa",
           "#FFA15A",
           "#19d3f3",
           "#FF6692",
           "#B6E880",
           "#FF97FF",
           "#FECB52"
          ],
          "font": {
           "color": "#2a3f5f"
          },
          "geo": {
           "bgcolor": "white",
           "lakecolor": "white",
           "landcolor": "#E5ECF6",
           "showlakes": true,
           "showland": true,
           "subunitcolor": "white"
          },
          "hoverlabel": {
           "align": "left"
          },
          "hovermode": "closest",
          "mapbox": {
           "style": "light"
          },
          "paper_bgcolor": "white",
          "plot_bgcolor": "#E5ECF6",
          "polar": {
           "angularaxis": {
            "gridcolor": "white",
            "linecolor": "white",
            "ticks": ""
           },
           "bgcolor": "#E5ECF6",
           "radialaxis": {
            "gridcolor": "white",
            "linecolor": "white",
            "ticks": ""
           }
          },
          "scene": {
           "xaxis": {
            "backgroundcolor": "#E5ECF6",
            "gridcolor": "white",
            "gridwidth": 2,
            "linecolor": "white",
            "showbackground": true,
            "ticks": "",
            "zerolinecolor": "white"
           },
           "yaxis": {
            "backgroundcolor": "#E5ECF6",
            "gridcolor": "white",
            "gridwidth": 2,
            "linecolor": "white",
            "showbackground": true,
            "ticks": "",
            "zerolinecolor": "white"
           },
           "zaxis": {
            "backgroundcolor": "#E5ECF6",
            "gridcolor": "white",
            "gridwidth": 2,
            "linecolor": "white",
            "showbackground": true,
            "ticks": "",
            "zerolinecolor": "white"
           }
          },
          "shapedefaults": {
           "line": {
            "color": "#2a3f5f"
           }
          },
          "ternary": {
           "aaxis": {
            "gridcolor": "white",
            "linecolor": "white",
            "ticks": ""
           },
           "baxis": {
            "gridcolor": "white",
            "linecolor": "white",
            "ticks": ""
           },
           "bgcolor": "#E5ECF6",
           "caxis": {
            "gridcolor": "white",
            "linecolor": "white",
            "ticks": ""
           }
          },
          "title": {
           "x": 0.05
          },
          "xaxis": {
           "automargin": true,
           "gridcolor": "white",
           "linecolor": "white",
           "ticks": "",
           "title": {
            "standoff": 15
           },
           "zerolinecolor": "white",
           "zerolinewidth": 2
          },
          "yaxis": {
           "automargin": true,
           "gridcolor": "white",
           "linecolor": "white",
           "ticks": "",
           "title": {
            "standoff": 15
           },
           "zerolinecolor": "white",
           "zerolinewidth": 2
          }
         }
        },
        "title": {
         "font": {
          "size": 16
         },
         "text": "<br>Network graph made with Python"
        },
        "xaxis": {
         "showgrid": false,
         "showticklabels": false,
         "zeroline": false
        },
        "yaxis": {
         "showgrid": false,
         "showticklabels": false,
         "zeroline": false
        }
       }
      }
     },
     "metadata": {},
     "output_type": "display_data"
    }
   ],
   "source": [
    "fig = go.Figure(data=[edge_trace, node_trace],\n",
    "             layout=go.Layout(\n",
    "                title='<br>Network graph made with Python',\n",
    "                titlefont_size=16,\n",
    "                showlegend=False,\n",
    "                hovermode='closest',\n",
    "                margin=dict(b=20,l=5,r=5,t=40),\n",
    "                # annotations=[ dict(\n",
    "                #     text=\"Python code: <a href='https://plotly.com/ipython-notebooks/network-graphs/'> https://plotly.com/ipython-notebooks/network-graphs/</a>\",\n",
    "                #     showarrow=False,\n",
    "                #     xref=\"paper\", yref=\"paper\",\n",
    "                #     x=0.005, y=-0.002 ) ],\n",
    "                xaxis=dict(showgrid=False, zeroline=False, showticklabels=False),\n",
    "                yaxis=dict(showgrid=False, zeroline=False, showticklabels=False))\n",
    "                )\n",
    "fig.show()"
   ]
  },
  {
   "cell_type": "code",
   "execution_count": null,
   "id": "b550d3c5",
   "metadata": {},
   "outputs": [],
   "source": [
    "nx.communicability_betweenness_centrality(graph_fly_sampleDraw_undirected)"
   ]
  },
  {
   "cell_type": "code",
   "execution_count": null,
   "id": "a3b909f0-1734-48c9-8cff-001739d137bb",
   "metadata": {},
   "outputs": [],
   "source": [
    "nx.in_degree_centrality(graph_fly_sampleDraw)"
   ]
  },
  {
   "cell_type": "code",
   "execution_count": null,
   "id": "68f93332-bb6f-49f6-8915-280c864130fa",
   "metadata": {},
   "outputs": [],
   "source": [
    "nx.betweenness_centrality(graph_fly_sampleDraw)"
   ]
  },
  {
   "cell_type": "code",
   "execution_count": null,
   "id": "dd95b6ef-bf99-446a-955b-317b13123340",
   "metadata": {},
   "outputs": [],
   "source": [
    "#nx.current_flow_betweenness_centrality(graph_fly_sampleDraw)\n",
    "#for undirected graphs only"
   ]
  },
  {
   "cell_type": "code",
   "execution_count": null,
   "id": "328e1db6-36ef-4574-bf94-25fa9a139ea0",
   "metadata": {},
   "outputs": [],
   "source": [
    "nx.closeness_centrality(graph_fly_sampleDraw)"
   ]
  },
  {
   "cell_type": "code",
   "execution_count": null,
   "id": "92f4800d-bf56-4519-82e4-bb08408cea08",
   "metadata": {},
   "outputs": [],
   "source": [
    "# nx.eigenvector_centrality(graph_fly_sampleDraw)\n",
    "# for connected graphs only"
   ]
  },
  {
   "cell_type": "code",
   "execution_count": null,
   "id": "fff395a4-2918-44ba-b5c7-5933f00b9d3f",
   "metadata": {},
   "outputs": [],
   "source": [
    "#nx.current_flow_closeness_centrality(graph_fly_sampleDraw)\n",
    "#for undirected graphs only"
   ]
  },
  {
   "cell_type": "code",
   "execution_count": null,
   "id": "ee6c9d52-3f85-48ec-a5b0-aecdbd743545",
   "metadata": {},
   "outputs": [],
   "source": [
    "#nx.communicability(graph_fly_sampleDraw)\n",
    "#for undirected graphs only"
   ]
  },
  {
   "cell_type": "code",
   "execution_count": null,
   "id": "a8710800-fc5c-4f67-a5d2-fcd5f7b716cc",
   "metadata": {},
   "outputs": [],
   "source": [
    "nx.load_centrality(graph_fly_sampleDraw)"
   ]
  },
  {
   "cell_type": "code",
   "execution_count": null,
   "id": "5f317c2c",
   "metadata": {},
   "outputs": [],
   "source": []
  }
 ],
 "metadata": {
  "kernelspec": {
   "display_name": "Python 3.9.13 ('mgma')",
   "language": "python",
   "name": "python3"
  },
  "language_info": {
   "codemirror_mode": {
    "name": "ipython",
    "version": 3
   },
   "file_extension": ".py",
   "mimetype": "text/x-python",
   "name": "python",
   "nbconvert_exporter": "python",
   "pygments_lexer": "ipython3",
   "version": "3.9.13"
  },
  "vscode": {
   "interpreter": {
    "hash": "92ef103fe91e85206b7889fe480710be6f2a014beb113cc84edd8d6030adeb48"
   }
  }
 },
 "nbformat": 4,
 "nbformat_minor": 5
}
