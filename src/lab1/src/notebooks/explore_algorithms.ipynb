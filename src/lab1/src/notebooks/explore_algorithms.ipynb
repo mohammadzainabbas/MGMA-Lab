{
 "cells": [
  {
   "cell_type": "code",
   "execution_count": 1,
   "id": "8477c89f-d8b1-48a2-a44e-ad2a4b41ae6e",
   "metadata": {},
   "outputs": [],
   "source": [
    "import pandas as pd\n",
    "import numpy as np\n",
    "import networkx as nx\n",
    "import matplotlib.pyplot as plt\n",
    "import logging as log\n",
    "from enum import Enum\n",
    "from os.path import join, exists, isfile, isdir, abspath, dirname, basename, realpath\n",
    "from os import makedirs, listdir, pardir, getcwd\n",
    "from dataclasses import dataclass, field\n",
    "from typing import Union\n",
    "\n",
    "import plotly.graph_objects as go\n",
    "\n",
    "from IPython.core.interactiveshell import InteractiveShell\n",
    "InteractiveShell.ast_node_interactivity = \"all\""
   ]
  },
  {
   "cell_type": "markdown",
   "id": "f5a8edfd",
   "metadata": {},
   "source": [
    "#### Helper classes and functions"
   ]
  },
  {
   "cell_type": "code",
   "execution_count": 2,
   "id": "ed4553a9",
   "metadata": {},
   "outputs": [],
   "source": [
    "#--------------------------------------------------\n",
    "# Helper classes and enums\n",
    "#--------------------------------------------------\n",
    "@dataclass(frozen=False, order=False)\n",
    "class CentralityAlgorithm:\n",
    "    \"\"\"\n",
    "    A data-class to store centrality measures arguments and other options\n",
    "    \"\"\"\n",
    "    name: str = field(default=\"\")\n",
    "    func: object = field(default=print)\n",
    "    args: dict = field(default_factory=dict)\n",
    "    options: dict = field(default_factory=dict)\n",
    "\n",
    "@dataclass(frozen=False, order=False)\n",
    "class CentralityAlgorithmOutput:\n",
    "    \"\"\"\n",
    "    A data-class to store centrality measures results\n",
    "    \"\"\"\n",
    "    name: str = field(default=\"\")\n",
    "    result: dict = field(default_factory=dict)\n",
    "    options: dict = field(default_factory=dict)\n",
    "\n",
    "class GRAPH_TYPE(str, Enum):\n",
    "    BOTH = \"both\"\n",
    "    DIRECTED = \"directed\"\n",
    "    def __str__(self) -> str:\n",
    "        return self.value\n",
    "\n",
    "#--------------------------------------------------\n",
    "# Helper functions\n",
    "#--------------------------------------------------\n",
    "def convert_to_normal(snake_case: str) -> str:\n",
    "    \"\"\"\n",
    "    Converts a snake case string to a normal title string\n",
    "\n",
    "    Input:  \"in_degree_centrality\"\n",
    "    Output: \"In Degree Centrality\"\n",
    "    \"\"\"\n",
    "    components = snake_case.split('_')\n",
    "    return \" \".join(x.title() for x in components)\n",
    "\n",
    "def print_log(text: str):\n",
    "    \"\"\"\n",
    "    Prints the log\n",
    "    \"\"\"\n",
    "    print(f\"[ log ]: {text}\")\n",
    "    # log.info(f\"[ log ]: {text}\")\n",
    "\n",
    "def print_error(text: str):\n",
    "    \"\"\"\n",
    "    Prints the error\n",
    "    \"\"\"\n",
    "    print(f\"[ error ]: {text}\")\n",
    "    # log.warn(f\"[ error ]: {text}\")\n",
    "\n",
    "def undirected_to_directed(graph: nx.Graph) -> nx.DiGraph:\n",
    "    \"\"\"\n",
    "    Converts an undirected graph to a directed graph\n",
    "    \"\"\"\n",
    "    di_graph = nx.DiGraph()\n",
    "    di_graph.add_edges_from(graph.edges())\n",
    "    return di_graph\n",
    "\n",
    "def get_graph(graph: nx.Graph, graph_type: str) -> Union[nx.Graph, nx.DiGraph]:\n",
    "    \"\"\"\n",
    "    Returns the graph based on the graph type\n",
    "    \"\"\"\n",
    "    if graph_type == str(GRAPH_TYPE.DIRECTED):\n",
    "        return undirected_to_directed(graph)\n",
    "    elif graph_type == str(GRAPH_TYPE.BOTH):\n",
    "        return graph\n",
    "    else:\n",
    "        print_error(f\"Unknown graph type: {graph_type}\")\n",
    "        return graph\n",
    "\n",
    "def downsample_connected_graph(graph: nx.Graph, largest_cc: set, sample_size: int = 25, verbose: bool = False, plot: bool = False) -> nx.Graph:\n",
    "    \"\"\"\n",
    "    Down-samples the graph to only contain \"sample_size\" number of nodes\n",
    "    \"\"\"\n",
    "    # pick a random node from the largest connected component\n",
    "    __node = np.random.choice(list(largest_cc))\n",
    "    __total_nodes, __graph = 0, nx.Graph()\n",
    "    \n",
    "    for i, _ in enumerate(range(1, sample_size)):\n",
    "        # get the ego graph of the node\n",
    "        __ego_graph = nx.ego_graph(graph, __node, radius=i)\n",
    "        __total_nodes = len(__ego_graph)\n",
    "        if (__total_nodes >= sample_size) and not nx.is_empty(__graph): break\n",
    "        if verbose: print_log(f\"Node: '{__node}' yields '{__total_nodes}' ego-graph nodes after radius '{i}'\")\n",
    "        __graph = __ego_graph\n",
    "    \n",
    "    if plot: nx.draw(__graph, with_labels=True)\n",
    "    return __graph\n",
    "\n",
    "def make_graph_connected(graph: nx.Graph, sample_size: int = 25, sorted_cc: list = list(), verbose: bool = False, plot: bool = False) -> nx.Graph:\n",
    "    \"\"\"\n",
    "    Connect the graph by adding more edges between the nodes of connected components\n",
    "    \"\"\"\n",
    "    if sample_size <= 0: raise ValueError(f\"Invalid sample size: {sample_size}\")\n",
    "    if len(sorted_cc) <= 1: raise ValueError(f\"Invalid connected component list\")\n",
    "    \n",
    "    largest_cc = sorted_cc[0]\n",
    "    __first_node = list(largest_cc)[0]\n",
    "\n",
    "    __graph = nx.subgraph(graph, largest_cc).copy()\n",
    "\n",
    "    for i, cc in enumerate(sorted_cc[1:]):\n",
    "        # return if adding another connected component will make the graph bigger than sample size\n",
    "        if (len(__graph) + len(cc)) > sample_size:\n",
    "            if verbose: print_log(f\"Graph size: {len(__graph)} + CC({i + 1}): {len(cc)} > Sample Size: {sample_size}\")\n",
    "            break\n",
    "        # add new edge to make the graph connected\n",
    "        if verbose: print_log(f\"Adding edge between '{__first_node}' and '{list(cc)[0]}'\")\n",
    "        __graph.add_edge(__first_node, list(cc)[0])\n",
    "\n",
    "        # add the new connected component to the graph\n",
    "        if verbose: print_log(f\"Adding {len(cc)} nodes from CC({i + 1}) to the graph\")\n",
    "        __graph.add_edges_from(nx.subgraph(graph, cc).edges())\n",
    "\n",
    "    if plot:\n",
    "        fig, axes = plt.subplots(nrows=1, ncols=2)\n",
    "        axes[0].set_title(\"Original Graph\")\n",
    "        nx.draw(graph, with_labels=True, ax=axes[0])\n",
    "        axes[1].set_title(\"Final Graph\")\n",
    "        nx.draw(__graph, with_labels=True, ax=axes[1])\n",
    "    return __graph\n",
    "\n",
    "def sample_graph(graph: Union[nx.Graph, nx.DiGraph], sample_size: int = 25, verbose: bool = False, plot: bool = False) -> Union[nx.Graph, nx.DiGraph]:\n",
    "    \"\"\"\n",
    "    Returns a sample graph of the given 'sample_size'\n",
    "    \"\"\"\n",
    "    if sample_size <= 0: raise ValueError(f\"Invalid sample size: {sample_size}\")\n",
    "\n",
    "    is_directed = nx.is_directed(graph) and isinstance(graph, nx.DiGraph)\n",
    "    if is_directed: graph = graph.to_undirected()\n",
    "\n",
    "    sorted_cc = sorted(nx.connected_components(graph), key=len, reverse=True)\n",
    "    largest_cc = sorted_cc[0]\n",
    "\n",
    "    __graph = nx.Graph()\n",
    "\n",
    "    if sample_size > len(largest_cc):\n",
    "        if verbose: print_error(f\"Sample size {sample_size} is greater than the largest connected component size {len(largest_cc)}\")\n",
    "        if nx.is_connected(graph):\n",
    "            if verbose: print_log(f\"Graph is connected\")\n",
    "            __graph = graph.copy()\n",
    "        else:\n",
    "            # make graph bigger by connecting the connected components\n",
    "            if verbose: print_log(f\"Making graph connected\")\n",
    "            __graph = make_graph_connected(graph=graph, sample_size=sample_size, sorted_cc=sorted_cc, verbose=verbose, plot=plot)\n",
    "    else:\n",
    "        # make graph shorter by keeping 'sample_size' elements only and connecting them\n",
    "        if verbose: print_log(f\"Downsampling a larger graph\")\n",
    "        __graph = downsample_connected_graph(graph=graph, largest_cc=largest_cc, sample_size=sample_size, verbose=verbose, plot=plot)\n",
    "    \n",
    "    return undirected_to_directed(__graph) if is_directed else __graph\n",
    "\n",
    "def compute_algorithms(graph: nx.Graph, algorithms: list, verbose: bool) -> list:\n",
    "    \"\"\"\n",
    "    Computes the centrality measures for the given graph\n",
    "    \"\"\"\n",
    "    centrality_measures = list()\n",
    "    for i, algorithm in enumerate(algorithms):\n",
    "        algorithm_name = convert_to_normal(algorithm.name)\n",
    "        graph_direction = algorithm.options[\"direction\"]\n",
    "\n",
    "        if verbose:\n",
    "            print_log(f\"Running '{algorithm_name}' ({i+1}/{len(algorithms)})\")\n",
    "            print_log(f\"Option: '{algorithm.options}'\")\n",
    "\n",
    "        # if graph is not directed or undirected, then skip -> invalid direction option\n",
    "        if graph_direction != str(GRAPH_TYPE.BOTH) and graph_direction != str(GRAPH_TYPE.DIRECTED):\n",
    "            if verbose: print_error(f\"Invalid direction: '{graph_direction}'\")\n",
    "            continue\n",
    "\n",
    "        __graph = get_graph(graph=graph, graph_type=graph_direction)\n",
    "\n",
    "        try:\n",
    "            __centrality = algorithm.func(__graph, **algorithm.args)\n",
    "        except Exception as e:\n",
    "            if verbose: print_error(f\"Error while running '{algorithm_name}': {e}\")\n",
    "            continue\n",
    "\n",
    "        # return the degree as the weight\n",
    "        if isinstance(__centrality, list):\n",
    "            __centrality = {node: __graph.degree(node) for node in __centrality}\n",
    "\n",
    "        centrality_measures.append(CentralityAlgorithmOutput(algorithm.name, __centrality, algorithm.options))\n",
    "\n",
    "        if verbose:\n",
    "            print_log(f\"Result: '{__centrality}'\")\n",
    "            print_log(f\"=\"*50)\n",
    "    return centrality_measures"
   ]
  },
  {
   "cell_type": "code",
   "execution_count": 46,
   "id": "3696b752-a9e0-4052-9c9b-73a6382f5701",
   "metadata": {},
   "outputs": [
    {
     "name": "stdout",
     "output_type": "stream",
     "text": [
      "Graph with 33 nodes and 32 edges\n"
     ]
    }
   ],
   "source": [
    "# list of all the algorithms\n",
    "algorithms_to_run = [\n",
    "    CentralityAlgorithm(\"degree_centrality\", nx.degree_centrality, {}, {\"direction\":\"both\"}), \n",
    "    CentralityAlgorithm(\"in_degree_centrality\", nx.in_degree_centrality, {}, {\"direction\":\"directed\"}), \n",
    "    CentralityAlgorithm(\"out_degree_centrality\", nx.out_degree_centrality, {}, {\"direction\":\"directed\"}), \n",
    "    CentralityAlgorithm(\"eigenvector_centrality\", nx.eigenvector_centrality, {\"max_iter\":100,\"tol\":1.0e-6,\"weight\":\"weight\"}, {\"direction\":\"both\"}), \n",
    "    CentralityAlgorithm(\"katz_centrality\", nx.katz_centrality, {\"alpha\":0.1,\"beta\":1.0,\"max_iter\":1000,\"tol\":1.0e-6,\"normalized\":True,\"weight\":\"weight\"}, {\"direction\":\"both\"}), \n",
    "    CentralityAlgorithm(\"pagerank\", nx.pagerank, {\"alpha\":0.85,\"max_iter\":100,\"tol\":1.0e-6,\"weight\":\"weight\"}, {\"direction\":\"both\"}), \n",
    "    CentralityAlgorithm(\"voterank\", nx.voterank, {\"number_of_nodes\":10}, {\"direction\":\"both\"}), \n",
    "    CentralityAlgorithm(\"closeness_centrality\", nx.closeness_centrality, {\"distance\":\"weight\"}, {\"direction\":\"both\"}), \n",
    "    CentralityAlgorithm(\"harmonic_centrality\", nx.harmonic_centrality, {\"distance\":\"weight\"}, {\"direction\":\"both\"}), \n",
    "    CentralityAlgorithm(\"betweenness_centrality\", nx.betweenness_centrality, {\"k\":None,\"seed\":7,\"normalized\":True,\"weight\":\"weight\"}, {\"direction\":\"both\"})\n",
    "]\n",
    "\n",
    "# # total sample size\n",
    "sample_size = 50\n",
    "verbose = False\n",
    "plot = False\n",
    "\n",
    "# config. dir for input graph\n",
    "parent_dir = abspath(join(join(getcwd(), pardir), pardir))\n",
    "data_dir = join(parent_dir, 'data')\n",
    "data_file = join(data_dir, 'DM-HT.txt')\n",
    "# data_file = join(data_dir, 'DM-HT_small.txt')\n",
    "\n",
    "graph = nx.read_edgelist(data_file, nodetype=str, data=((\"weight\", float),))\n",
    "graph = sample_graph(graph=graph, sample_size=sample_size, verbose=verbose, plot=plot)\n",
    "di_graph = undirected_to_directed(graph)\n",
    "\n",
    "print(f\"{graph}\")"
   ]
  },
  {
   "cell_type": "code",
   "execution_count": 47,
   "id": "5528e09d",
   "metadata": {},
   "outputs": [],
   "source": [
    "centrality_measures = compute_algorithms(graph=di_graph, algorithms=algorithms_to_run, verbose=False)"
   ]
  },
  {
   "cell_type": "code",
   "execution_count": 68,
   "id": "2fba4471",
   "metadata": {},
   "outputs": [],
   "source": [
    "import plotly.tools as tls\n",
    "from plotly.offline import plot, iplot"
   ]
  },
  {
   "cell_type": "code",
   "execution_count": 69,
   "id": "fa90a5da",
   "metadata": {},
   "outputs": [],
   "source": [
    "def plot_network_graph(graph: nx.Graph, centrality_result: CentralityAlgorithmOutput) -> go.Figure:\n",
    "    \"\"\"\n",
    "    Plot the network graph\n",
    "    \"\"\"\n",
    "    pos = nx.spring_layout(graph)\n",
    "    edge_x, node_x, edge_y, node_y = [], [], [], []\n",
    "    \n",
    "    for edge in graph.edges():\n",
    "        x, y = edge\n",
    "        x0, y0 = pos[x]\n",
    "        x1, y1 = pos[y]\n",
    "        edge_x.append(x0)\n",
    "        edge_x.append(x1)\n",
    "        edge_y.append(y0)\n",
    "        edge_y.append(y1)\n",
    "\n",
    "    for node in graph.nodes():\n",
    "        x, y = pos[node][0], pos[node][1]\n",
    "        node_x.append(x)\n",
    "        node_y.append(y)\n",
    "    \n",
    "    edge_trace = go.Scatter(\n",
    "        x=edge_x, y=edge_y,\n",
    "        line=dict(width=0.5, color='#888'),\n",
    "        hoverinfo='none',\n",
    "        mode='lines'\n",
    "    )\n",
    "\n",
    "    node_trace = go.Scatter(\n",
    "        x=node_x, y=node_y,\n",
    "        mode='markers',\n",
    "        hoverinfo='text',\n",
    "        marker=dict(\n",
    "            showscale=True,\n",
    "            # colorscale options\n",
    "            #'Greys' | 'YlGnBu' | 'Greens' | 'YlOrRd' | 'Bluered' | 'RdBu' |\n",
    "            #'Reds' | 'Blues' | 'Picnic' | 'Rainbow' | 'Portland' | 'Jet' |\n",
    "            #'Hot' | 'Blackbody' | 'Earth' | 'Electric' | 'Viridis' |\n",
    "            colorscale='YlOrRd',\n",
    "            reversescale=True,\n",
    "            color=[],\n",
    "            size=10,\n",
    "            colorbar=dict(\n",
    "                thickness=15,\n",
    "                title='Node Connections',\n",
    "                xanchor='left',\n",
    "                titleside='right'\n",
    "            ),\n",
    "            line_width=2))\n",
    "    \n",
    "    node_centrality = []\n",
    "    node_text = []\n",
    "\n",
    "    for node in graph.nodes():\n",
    "        if node not in centrality_result.result:\n",
    "            node_centrality.append(float(0))\n",
    "            node_text.append(f\"Node: '{node}'<br>{convert_to_normal(centrality_result.name)}: {str(0)}\")\n",
    "        else:\n",
    "            node_centrality.append(centrality_result.result[node])\n",
    "            node_text.append(f\"Node: '{node}'<br>{convert_to_normal(centrality_result.name)}: {str(centrality_result.result[node])}\")\n",
    "    \n",
    "    node_trace.marker.color = node_centrality\n",
    "    node_trace.marker.cmax = max(node_centrality)\n",
    "    node_trace.marker.cmin = min(node_centrality)\n",
    "    node_trace.text = node_text\n",
    "\n",
    "    return go.Figure(data=[edge_trace, node_trace],\n",
    "                    layout=go.Layout(\n",
    "                        title=f'Output for \"{convert_to_normal(centrality_result.name)}\"',\n",
    "                        titlefont_size=16,\n",
    "                        showlegend=False,\n",
    "                        hovermode='closest',\n",
    "                        margin=dict(b=20, l=5, r=5, t=40),\n",
    "                        xaxis=dict(showgrid=False, zeroline=False, showticklabels=False),\n",
    "                        yaxis=dict(showgrid=False, zeroline=False, showticklabels=False))\n",
    "                    )"
   ]
  },
  {
   "cell_type": "code",
   "execution_count": 61,
   "id": "30deedda",
   "metadata": {},
   "outputs": [
    {
     "data": {
      "text/plain": [
       "{'Y116A8C.12': 12,\n",
       " 'C47E12.4': 5,\n",
       " 'Y47D3A.4': 7,\n",
       " 'E01B7.1': 1,\n",
       " 'R10E4.4': 3,\n",
       " 'C38C3.5': 1,\n",
       " 'B0285.1': 2}"
      ]
     },
     "execution_count": 61,
     "metadata": {},
     "output_type": "execute_result"
    }
   ],
   "source": [
    "centrality_measures[5].result"
   ]
  },
  {
   "cell_type": "code",
   "execution_count": 70,
   "id": "0b371499",
   "metadata": {},
   "outputs": [
    {
     "name": "stderr",
     "output_type": "stream",
     "text": [
      "/opt/homebrew/Caskroom/mambaforge/base/envs/mgma/lib/python3.9/site-packages/plotly/tools.py:460: DeprecationWarning:\n",
      "\n",
      "plotly.tools.make_subplots is deprecated, please use plotly.subplots.make_subplots instead\n",
      "\n"
     ]
    },
    {
     "data": {
      "application/vnd.plotly.v1+json": {
       "config": {
        "plotlyServerURL": "https://plot.ly"
       },
       "data": [
        {
         "hoverinfo": "none",
         "line": {
          "color": "#888",
          "width": 0.5
         },
         "mode": "lines",
         "type": "scatter",
         "x": [
          -0.38850140151397156,
          -0.5279088386102624,
          -0.07614994319002728,
          0.09094250599811872,
          0.5189475699861157,
          0.46354312720509055,
          0.5984255842737308,
          0.410192139656355,
          0.036223015357112115,
          0.09094250599811872,
          0.46354312720509055,
          0.27925364465746433,
          0.46354312720509055,
          0.6266298476383194,
          0.29482582637800026,
          0.27925364465746433,
          0.09094250599811872,
          0.27925364465746433,
          0.09094250599811872,
          -0.21766217818305217,
          0.09094250599811872,
          0.1657619338141537,
          0.09094250599811872,
          0.3456677866758881,
          0.09094250599811872,
          0.01704743327305185,
          0.6859554917662661,
          0.8490036011478986,
          0.6859554917662661,
          0.7255890694518695,
          0.6859554917662661,
          0.8714401024852647,
          0.6859554917662661,
          0.3456677866758881,
          0.6859554917662661,
          0.5976132935730738,
          -0.379513400672083,
          -0.5279088386102624,
          -0.6840466796577166,
          -0.5279088386102624,
          -0.5279088386102624,
          -0.5420624275058223,
          -0.5279088386102624,
          -0.7766390992257893,
          -0.5279088386102624,
          -0.6780510484665573,
          -0.5279088386102624,
          -0.4663588361836502,
          -0.5279088386102624,
          -0.6252909125315732,
          -0.5279088386102624,
          -0.21766217818305217,
          -0.5279088386102624,
          -0.6855797210016156,
          -0.5279088386102624,
          -0.7600603901482926,
          -0.5279088386102624,
          -0.5551251894725003,
          0.410192139656355,
          0.1657619338141537,
          -0.03455842129563444,
          -0.17955348567922594,
          -0.03455842129563444,
          0.1657619338141537
         ],
         "xaxis": "x",
         "y": [
          0.5611213028675736,
          0.4289501411371121,
          -0.2355074020259939,
          -0.22436362007619853,
          -1,
          -0.8114621849651681,
          -0.45787017608453795,
          -0.44597484090004924,
          -0.5056598352701319,
          -0.22436362007619853,
          -0.8114621849651681,
          -0.5611394737284645,
          -0.8114621849651681,
          -0.9178106097348874,
          -0.7390651172688872,
          -0.5611394737284645,
          -0.22436362007619853,
          -0.5611394737284645,
          -0.22436362007619853,
          0.09894268870157567,
          -0.22436362007619853,
          -0.4427767715431794,
          -0.22436362007619853,
          0.006904489681903058,
          -0.22436362007619853,
          -0.311576304595627,
          0.33853871390067364,
          0.4429231510177647,
          0.33853871390067364,
          0.5090919945918083,
          0.33853871390067364,
          0.3173037507855853,
          0.33853871390067364,
          0.006904489681903058,
          0.33853871390067364,
          0.4604248726611716,
          0.4342886793856535,
          0.4289501411371121,
          0.37877696981698306,
          0.4289501411371121,
          0.4289501411371121,
          0.27474596795507117,
          0.4289501411371121,
          0.6167147460317931,
          0.4289501411371121,
          0.2823759922444007,
          0.4289501411371121,
          0.6236111319913751,
          0.4289501411371121,
          0.603006531812783,
          0.4289501411371121,
          0.09894268870157567,
          0.4289501411371121,
          0.5211871317122874,
          0.4289501411371121,
          0.43556340076191447,
          0.4289501411371121,
          0.659967081836421,
          -0.44597484090004924,
          -0.4427767715431794,
          -0.6091849923682455,
          -0.7320474103324816,
          -0.6091849923682455,
          -0.4427767715431794
         ],
         "yaxis": "y"
        },
        {
         "hoverinfo": "none",
         "line": {
          "color": "#888",
          "width": 0.5
         },
         "mode": "lines",
         "type": "scatter",
         "x": [
          -0.23485498578073105,
          -0.4035040722967447,
          0.28806921447997325,
          0.14486249071208734,
          -0.7091986852252732,
          -0.5553083980017791,
          0.5543184996557267,
          0.48230438215220034,
          0.44161772749719314,
          0.14486249071208734,
          -0.5553083980017791,
          -0.2219428077368494,
          -0.5553083980017791,
          -0.7756516105247442,
          -0.3590867432945085,
          -0.2219428077368494,
          0.14486249071208734,
          -0.2219428077368494,
          0.14486249071208734,
          -0.12079923043887845,
          0.14486249071208734,
          0.3983537331223986,
          0.14486249071208734,
          0.3849510494948942,
          0.14486249071208734,
          0.13884960981491767,
          0.6769951025707042,
          0.6274709320047299,
          0.6769951025707042,
          0.8681644446439364,
          0.6769951025707042,
          0.8439772480972798,
          0.6769951025707042,
          0.3849510494948942,
          0.6769951025707042,
          0.7456426109638876,
          -0.33284519455544337,
          -0.4035040722967447,
          -0.22919367223835296,
          -0.4035040722967447,
          -0.4035040722967447,
          -0.5396662273317069,
          -0.4035040722967447,
          -0.4177230622854433,
          -0.4035040722967447,
          -0.5341908220591667,
          -0.4035040722967447,
          -0.5857684489952099,
          -0.4035040722967447,
          -0.6429844312554356,
          -0.4035040722967447,
          -0.12079923043887845,
          -0.4035040722967447,
          -0.6230463605286898,
          -0.4035040722967447,
          -0.3272773861397559,
          -0.4035040722967447,
          -0.43157956086217397,
          0.48230438215220034,
          0.3983537331223986,
          0.6349169311292211,
          0.8141277232117343,
          0.6349169311292211,
          0.3983537331223986
         ],
         "xaxis": "x2",
         "y": [
          -0.42985905938035396,
          -0.29531204431905134,
          0.3146490056870105,
          0.24401175599931138,
          0.7145843660586284,
          0.5651116680745286,
          0.9999999999999999,
          0.8071276980785701,
          0.2297058417044143,
          0.24401175599931138,
          0.5651116680745286,
          0.4419704114750831,
          0.5651116680745286,
          0.5873014461712244,
          0.5532775929785302,
          0.4419704114750831,
          0.24401175599931138,
          0.4419704114750831,
          0.24401175599931138,
          -0.021092439432871483,
          0.24401175599931138,
          0.5510405689862177,
          0.24401175599931138,
          -0.1194452810193328,
          0.24401175599931138,
          0.41977245985074696,
          -0.6525560191662515,
          -0.8359048158291201,
          -0.6525560191662515,
          -0.6573870999639694,
          -0.6525560191662515,
          -0.7904991531666007,
          -0.6525560191662515,
          -0.1194452810193328,
          -0.6525560191662515,
          -0.8639633942585028,
          -0.16875089064052962,
          -0.29531204431905134,
          -0.3129329157917535,
          -0.29531204431905134,
          -0.29531204431905134,
          -0.15527534705904375,
          -0.29531204431905134,
          -0.02430861101818978,
          -0.29531204431905134,
          -0.5070090310736015,
          -0.29531204431905134,
          -0.4239330192697046,
          -0.29531204431905134,
          -0.3442599359256384,
          -0.29531204431905134,
          -0.021092439432871483,
          -0.29531204431905134,
          -0.2393116393760989,
          -0.29531204431905134,
          -0.4968378698171438,
          -0.29531204431905134,
          -0.521311123923022,
          0.8071276980785701,
          0.5510405689862177,
          0.6654249188066735,
          0.7659719565598432,
          0.6654249188066735,
          0.5510405689862177
         ],
         "yaxis": "y2"
        },
        {
         "hoverinfo": "none",
         "line": {
          "color": "#888",
          "width": 0.5
         },
         "mode": "lines",
         "type": "scatter",
         "x": [
          -0.5777270067027173,
          -0.5436429595013061,
          0.401583147266182,
          0.25807207467348664,
          0.1066075857473774,
          0.08913261846120656,
          0.7483151356154628,
          0.6537081925762693,
          0.5245623838775015,
          0.25807207467348664,
          0.08913261846120656,
          0.16734271606942794,
          0.08913261846120656,
          -0.016407009417124713,
          0.1959238806611738,
          0.16734271606942794,
          0.25807207467348664,
          0.16734271606942794,
          0.25807207467348664,
          -0.14172425436510816,
          0.25807207467348664,
          0.5383681252873533,
          0.25807207467348664,
          0.29270408985021557,
          0.25807207467348664,
          0.37136537503652484,
          0.29797306977125715,
          0.17885626187502124,
          0.29797306977125715,
          0.2584578054065,
          0.29797306977125715,
          0.439745638910248,
          0.29797306977125715,
          0.29270408985021557,
          0.29797306977125715,
          0.36302193347185413,
          -0.7060195228759383,
          -0.5436429595013061,
          -0.427204605078524,
          -0.5436429595013061,
          -0.5436429595013061,
          -0.7018785359068065,
          -0.5436429595013061,
          -0.8223093504016438,
          -0.5436429595013061,
          -0.6303906330051565,
          -0.5436429595013061,
          -0.6004709987043761,
          -0.5436429595013061,
          -0.4956257127001198,
          -0.5436429595013061,
          -0.14172425436510816,
          -0.5436429595013061,
          -0.5009146254470935,
          -0.5436429595013061,
          -0.73902111800376,
          -0.5436429595013061,
          -0.6838866447766389,
          0.6537081925762693,
          0.5383681252873533,
          0.7640511516311382,
          0.9374317906981156,
          0.7640511516311382,
          0.5383681252873533
         ],
         "xaxis": "x3",
         "y": [
          -0.38434510622754464,
          -0.259118169737041,
          -0.06976399909517121,
          -0.010649989697930582,
          0.22721574675792328,
          0.08621224615114886,
          -0.5503144198342554,
          -0.4044335501645131,
          0.08961238742886307,
          -0.010649989697930582,
          0.08621224615114886,
          -0.09151171586833846,
          0.08621224615114886,
          0.1854054094293244,
          -0.25703448530116674,
          -0.09151171586833846,
          -0.010649989697930582,
          -0.09151171586833846,
          -0.010649989697930582,
          -0.13965590708716066,
          -0.010649989697930582,
          -0.20977817453689393,
          -0.010649989697930582,
          0.34319063464427996,
          -0.010649989697930582,
          0.08380532700324246,
          0.8258153677100488,
          0.9302092170083706,
          0.8258153677100488,
          1,
          0.8258153677100488,
          0.909532390239178,
          0.8258153677100488,
          0.34319063464427996,
          0.8258153677100488,
          0.991462003224926,
          -0.3942130826041437,
          -0.259118169737041,
          -0.35351671543684243,
          -0.259118169737041,
          -0.259118169737041,
          -0.2270684781655211,
          -0.259118169737041,
          -0.20054444802071986,
          -0.259118169737041,
          -0.4582008911760435,
          -0.259118169737041,
          -0.08393677140049871,
          -0.259118169737041,
          -0.13568033719577277,
          -0.259118169737041,
          -0.13965590708716066,
          -0.259118169737041,
          -0.45145039903184675,
          -0.259118169737041,
          -0.3136384140797895,
          -0.259118169737041,
          -0.13019570806902875,
          -0.4044335501645131,
          -0.20977817453689393,
          -0.25360728178154546,
          -0.293802685085537,
          -0.25360728178154546,
          -0.20977817453689393
         ],
         "yaxis": "y3"
        },
        {
         "hoverinfo": "none",
         "line": {
          "color": "#888",
          "width": 0.5
         },
         "mode": "lines",
         "type": "scatter",
         "x": [
          -0.6459723440039693,
          -0.5764359105854019,
          0.1893085818740427,
          0.14805880339283486,
          0.41495455667274367,
          0.39810393774690356,
          -0.0008260705646761866,
          0.002486641486954366,
          0.28168679057153395,
          0.14805880339283486,
          0.39810393774690356,
          0.29343605278967283,
          0.39810393774690356,
          0.5095278545558379,
          0.39500502255429476,
          0.29343605278967283,
          0.14805880339283486,
          0.29343605278967283,
          0.14805880339283486,
          -0.21540452544200947,
          0.14805880339283486,
          0.022366274558715437,
          0.14805880339283486,
          0.44535765718455583,
          0.14805880339283486,
          0.2612857731675784,
          0.8491188297467871,
          0.9382599783554899,
          0.8491188297467871,
          0.9115027891389466,
          0.8491188297467871,
          1,
          0.8491188297467871,
          0.44535765718455583,
          0.8491188297467871,
          0.9897029964315539,
          -0.7032267089625256,
          -0.5764359105854019,
          -0.5137574448065739,
          -0.5764359105854019,
          -0.5764359105854019,
          -0.5009543556106838,
          -0.5764359105854019,
          -0.8212192594884216,
          -0.5764359105854019,
          -0.713665610716862,
          -0.5764359105854019,
          -0.5709099716703916,
          -0.5764359105854019,
          -0.7170082618029909,
          -0.5764359105854019,
          -0.21540452544200947,
          -0.5764359105854019,
          -0.7441131758169275,
          -0.5764359105854019,
          -0.6528752387032,
          -0.5764359105854019,
          -0.6009604694245707,
          0.002486641486954366,
          0.022366274558715437,
          -0.021685567968145646,
          -0.05114762466109672,
          -0.021685567968145646,
          0.022366274558715437
         ],
         "xaxis": "x4",
         "y": [
          0.19149768831926492,
          0.04715973245999302,
          0.12681036927920758,
          0.007326311549233144,
          -0.5687495815058433,
          -0.4231937091839676,
          0.38582987750377473,
          0.23986766587901778,
          0.2060601240552875,
          0.007326311549233144,
          -0.4231937091839676,
          -0.21831038504477943,
          -0.4231937091839676,
          -0.521197923735849,
          -0.2800804639943614,
          -0.21831038504477943,
          0.007326311549233144,
          -0.21831038504477943,
          0.007326311549233144,
          0.02990657567267444,
          0.007326311549233144,
          0.053513269454511014,
          0.007326311549233144,
          0.06132357174049712,
          0.007326311549233144,
          0.01564747611129228,
          0.1208066570808493,
          0.021760492362266248,
          0.1208066570808493,
          0.24324261766227767,
          0.1208066570808493,
          0.09329682111401287,
          0.1208066570808493,
          0.06132357174049712,
          0.1208066570808493,
          0.18738253691798962,
          -0.09307951700947802,
          0.04715973245999302,
          -0.061179164779008054,
          0.04715973245999302,
          0.04715973245999302,
          0.13946624445400332,
          0.04715973245999302,
          0.08108001814801473,
          0.04715973245999302,
          0.0816388924602572,
          0.04715973245999302,
          0.20626282256210066,
          0.04715973245999302,
          0.1629185737000451,
          0.04715973245999302,
          0.02990657567267444,
          0.04715973245999302,
          -0.006085927471004329,
          0.04715973245999302,
          -0.033597081191073415,
          0.04715973245999302,
          -0.11698562354003884,
          0.23986766587901778,
          0.053513269454511014,
          -0.12050064084732101,
          -0.2598383201838469,
          -0.12050064084732101,
          0.053513269454511014
         ],
         "yaxis": "y4"
        },
        {
         "hoverinfo": "none",
         "line": {
          "color": "#888",
          "width": 0.5
         },
         "mode": "lines",
         "type": "scatter",
         "x": [
          0.8738830980463806,
          0.689512807015127,
          -0.0226666230882096,
          -0.15169072550279375,
          -0.5041725549526149,
          -0.3765609956214485,
          -0.8638687587293736,
          -0.6930658828554842,
          -0.016907356920144036,
          -0.15169072550279375,
          -0.3765609956214485,
          -0.2523425604501277,
          -0.3765609956214485,
          -0.38050634383678095,
          -0.22169000476600567,
          -0.2523425604501277,
          -0.15169072550279375,
          -0.2523425604501277,
          -0.15169072550279375,
          0.26720834558267076,
          -0.15169072550279375,
          -0.47797591394375205,
          -0.15169072550279375,
          -0.34044393343750434,
          -0.15169072550279375,
          -0.23585512678009501,
          -0.6208470698676636,
          -0.7902932732239438,
          -0.6208470698676636,
          -0.6703020699319672,
          -0.6208470698676636,
          -0.7777597800197144,
          -0.6208470698676636,
          -0.34044393343750434,
          -0.6208470698676636,
          -0.5583601800814599,
          0.7115516024234554,
          0.689512807015127,
          0.7322941056871012,
          0.689512807015127,
          0.689512807015127,
          0.6175369686555991,
          0.689512807015127,
          1,
          0.689512807015127,
          0.8009209379927752,
          0.689512807015127,
          0.8562508466581903,
          0.689512807015127,
          0.8901745236807692,
          0.689512807015127,
          0.26720834558267076,
          0.689512807015127,
          0.6567322005343571,
          0.689512807015127,
          0.8306836075566415,
          0.689512807015127,
          0.5606642213024896,
          -0.6930658828554842,
          -0.47797591394375205,
          -0.6828087225085134,
          -0.8492953886179587,
          -0.6828087225085134,
          -0.47797591394375205
         ],
         "xaxis": "x5",
         "y": [
          -0.2651919215480121,
          -0.14361544431565137,
          0.16258125821442138,
          0.1418091817508676,
          0.9004200330901881,
          0.7586496758095848,
          0.3386975067019075,
          0.2661692561442594,
          0.35794489966564386,
          0.1418091817508676,
          0.7586496758095848,
          0.48885007476267633,
          0.7586496758095848,
          0.9472767859049293,
          0.648044354245442,
          0.48885007476267633,
          0.1418091817508676,
          0.48885007476267633,
          0.1418091817508676,
          0.003090896695764785,
          0.1418091817508676,
          0.16135490889028978,
          0.1418091817508676,
          -0.15991662716092353,
          0.1418091817508676,
          0.23071195739740447,
          -0.5732786736257182,
          -0.5810559026530558,
          -0.5732786736257182,
          -0.7410138556299597,
          -0.5732786736257182,
          -0.7038025202492949,
          -0.5732786736257182,
          -0.15991662716092353,
          -0.5732786736257182,
          -0.7352605004301397,
          -0.28454807405340893,
          -0.14361544431565137,
          0.03693261676592825,
          -0.14361544431565137,
          -0.14361544431565137,
          -0.007430196492655066,
          -0.14361544431565137,
          -0.17256473366591366,
          -0.14361544431565137,
          -0.34065409080002995,
          -0.14361544431565137,
          -0.16444955626847596,
          -0.14361544431565137,
          -0.06645934721203221,
          -0.14361544431565137,
          0.003090896695764785,
          -0.14361544431565137,
          -0.3621993053097459,
          -0.14361544431565137,
          0.013174963713785173,
          -0.14361544431565137,
          -0.2420311724317358,
          0.2661692561442594,
          0.16135490889028978,
          0.07399351169504738,
          0.013770040398610631,
          0.07399351169504738,
          0.16135490889028978
         ],
         "yaxis": "y5"
        },
        {
         "hoverinfo": "none",
         "line": {
          "color": "#888",
          "width": 0.5
         },
         "mode": "lines",
         "type": "scatter",
         "x": [
          -0.5617700928689623,
          -0.34155005347172174,
          0.16831588884427043,
          0.029207409535368965,
          -0.6464941195714482,
          -0.47073347398082266,
          0.6042862212688821,
          0.44776488964347694,
          0.009065301682531368,
          0.029207409535368965,
          -0.47073347398082266,
          -0.2521374660941228,
          -0.47073347398082266,
          -0.5441959142621361,
          -0.4015639271031793,
          -0.2521374660941228,
          0.029207409535368965,
          -0.2521374660941228,
          0.029207409535368965,
          -0.15815301049407274,
          0.029207409535368965,
          0.23847398706791212,
          0.029207409535368965,
          0.3579093605765936,
          0.029207409535368965,
          -0.09715560916300607,
          0.8034239612804535,
          0.9572947465443757,
          0.8034239612804535,
          0.8359115177791391,
          0.8034239612804535,
          1,
          0.8034239612804535,
          0.3579093605765936,
          0.8034239612804535,
          0.9497650605969695,
          -0.16112542996001059,
          -0.34155005347172174,
          -0.41711995885396536,
          -0.34155005347172174,
          -0.34155005347172174,
          -0.5442325887162474,
          -0.34155005347172174,
          -0.2510150735706029,
          -0.34155005347172174,
          -0.5245497009139762,
          -0.34155005347172174,
          -0.23041145972493698,
          -0.34155005347172174,
          -0.4715957566090495,
          -0.34155005347172174,
          -0.15815301049407274,
          -0.34155005347172174,
          -0.42034205763065796,
          -0.34155005347172174,
          -0.20569862211651951,
          -0.34155005347172174,
          -0.35540775928376467,
          0.44776488964347694,
          0.23847398706791212,
          0.29994335571444064,
          0.3538903738547891,
          0.29994335571444064,
          0.23847398706791212
         ],
         "xaxis": "x6",
         "y": [
          0.5323483739149699,
          0.5203008205368911,
          -0.2753820511521545,
          -0.25543675359572904,
          -0.8112966105087853,
          -0.7243646238337357,
          -0.7704618741911404,
          -0.6666694669526653,
          -0.5027728148396884,
          -0.25543675359572904,
          -0.7243646238337357,
          -0.5023497471049683,
          -0.7243646238337357,
          -0.9039586259059483,
          -0.5673025776018572,
          -0.5023497471049683,
          -0.25543675359572904,
          -0.5023497471049683,
          -0.25543675359572904,
          0.1286052571729492,
          -0.25543675359572904,
          -0.5418914999691281,
          -0.25543675359572904,
          -0.06133170073685727,
          -0.25543675359572904,
          -0.2927172322309323,
          0.2256740868204576,
          0.14511941299001502,
          0.2256740868204576,
          0.3938481977558329,
          0.2256740868204576,
          0.26211268097266405,
          0.2256740868204576,
          -0.06133170073685727,
          0.2256740868204576,
          0.36622637867087116,
          0.5893580100313358,
          0.5203008205368911,
          0.631643007277629,
          0.5203008205368911,
          0.5203008205368911,
          0.6326953721954847,
          0.5203008205368911,
          0.8145760359707538,
          0.5203008205368911,
          0.4351562371513598,
          0.5203008205368911,
          0.6762216132807729,
          0.5203008205368911,
          0.7236676334161084,
          0.5203008205368911,
          0.1286052571729492,
          0.5203008205368911,
          0.37409199192732046,
          0.5203008205368911,
          0.4515257374279031,
          0.5203008205368911,
          0.7358782339873975,
          -0.6666694669526653,
          -0.5418914999691281,
          -0.7905472128044113,
          -0.9725662900727133,
          -0.7905472128044113,
          -0.5418914999691281
         ],
         "yaxis": "y6"
        },
        {
         "hoverinfo": "none",
         "line": {
          "color": "#888",
          "width": 0.5
         },
         "mode": "lines",
         "type": "scatter",
         "x": [
          -0.21356499572626697,
          -0.07420991089969872,
          0.32353695661525533,
          0.1706913926386958,
          1,
          0.8074293369308096,
          -0.2915761078615625,
          -0.12018732260130759,
          0.3923462827353004,
          0.1706913926386958,
          0.8074293369308096,
          0.5275698973771202,
          0.8074293369308096,
          0.9431147104407892,
          0.6958501080011552,
          0.5275698973771202,
          0.1706913926386958,
          0.5275698973771202,
          0.1706913926386958,
          0.04952464063233208,
          0.1706913926386958,
          0.06945023836670794,
          0.1706913926386958,
          -0.16113218968169923,
          0.1706913926386958,
          0.22449878677511723,
          -0.6306135762898416,
          -0.8152715407453819,
          -0.6306135762898416,
          -0.6554389635395328,
          -0.6306135762898416,
          -0.7669648991185273,
          -0.6306135762898416,
          -0.16113218968169923,
          -0.6306135762898416,
          -0.7988617318150547,
          -0.08600374866177297,
          -0.07420991089969872,
          0.006172712375484017,
          -0.07420991089969872,
          -0.07420991089969872,
          -0.2588075900303137,
          -0.07420991089969872,
          -0.19816468121099703,
          -0.07420991089969872,
          -0.28504288252274923,
          -0.07420991089969872,
          0.07724608159882894,
          -0.07420991089969872,
          0.05990697187771961,
          -0.07420991089969872,
          0.04952464063233208,
          -0.07420991089969872,
          -0.20614555619771002,
          -0.07420991089969872,
          -0.11911993525106279,
          -0.07420991089969872,
          0.11311483980811055,
          -0.12018732260130759,
          0.06945023836670794,
          0.09900809166517535,
          0.12164458431487479,
          0.09900809166517535,
          0.06945023836670794
         ],
         "xaxis": "x7",
         "y": [
          0.7509545923202118,
          0.5748812951461645,
          -0.18769261707827825,
          -0.17563954247839075,
          0.10657086270767531,
          0.07790259805202511,
          -0.5927272989916874,
          -0.5700012868993919,
          -0.3776831449162048,
          -0.17563954247839075,
          0.07790259805202511,
          -0.06000328341124266,
          0.07790259805202511,
          0.21179358805829387,
          -0.07428982416419441,
          -0.06000328341124266,
          -0.17563954247839075,
          -0.06000328341124266,
          -0.17563954247839075,
          0.19514775545944607,
          -0.17563954247839075,
          -0.4751636300995144,
          -0.17563954247839075,
          -0.3508240937158147,
          -0.17563954247839075,
          -0.3066095486245203,
          -0.6257690184312353,
          -0.6766073946497136,
          -0.6257690184312353,
          -0.8015235904613525,
          -0.6257690184312353,
          -0.7748226178130403,
          -0.6257690184312353,
          -0.3508240937158147,
          -0.6257690184312353,
          -0.5645195076721238,
          0.7264379623585531,
          0.5748812951461645,
          0.788681735743233,
          0.5748812951461645,
          0.5748812951461645,
          0.6671042832869133,
          0.5748812951461645,
          0.3906163518884865,
          0.5748812951461645,
          0.5710307028049286,
          0.5748812951461645,
          0.7164582813804155,
          0.5748812951461645,
          0.5117630929287391,
          0.5748812951461645,
          0.19514775545944607,
          0.5748812951461645,
          0.5036488980755672,
          0.5748812951461645,
          0.813574354106143,
          0.5748812951461645,
          0.6200933363724385,
          -0.5700012868993919,
          -0.4751636300995144,
          -0.7149889275422903,
          -0.8977943637402402,
          -0.7149889275422903,
          -0.4751636300995144
         ],
         "yaxis": "y7"
        },
        {
         "hoverinfo": "none",
         "line": {
          "color": "#888",
          "width": 0.5
         },
         "mode": "lines",
         "type": "scatter",
         "x": [
          0.16054888574879214,
          0.2489472195996033,
          0.059415490515185486,
          -0.0644307239075385,
          -0.8121295637408051,
          -0.6461417081172677,
          -0.5388608664786492,
          -0.4186914644152896,
          0.15731563716770905,
          -0.0644307239075385,
          -0.6461417081172677,
          -0.37963024974616266,
          -0.6461417081172677,
          -0.7974238406279425,
          -0.5049021337079378,
          -0.37963024974616266,
          -0.0644307239075385,
          -0.37963024974616266,
          -0.0644307239075385,
          0.09207679818951515,
          -0.0644307239075385,
          -0.2721264230488234,
          -0.0644307239075385,
          0.07600234953679626,
          -0.0644307239075385,
          -0.031733685912077356,
          0.2603237936567521,
          0.3702500403189365,
          0.2603237936567521,
          0.27752601636512686,
          0.2603237936567521,
          0.1805068940477178,
          0.2603237936567521,
          0.07600234953679626,
          0.2603237936567521,
          0.40905012208802105,
          0.34326390761126035,
          0.2489472195996033,
          0.39730676477893984,
          0.2489472195996033,
          0.2489472195996033,
          0.29237243433995336,
          0.2489472195996033,
          0.43185770772204796,
          0.2489472195996033,
          0.4418493853029025,
          0.2489472195996033,
          0.2735864481501854,
          0.2489472195996033,
          0.11588870636045745,
          0.2489472195996033,
          0.09207679818951515,
          0.2489472195996033,
          0.08295612869912361,
          0.2489472195996033,
          0.3928877920659998,
          0.2489472195996033,
          0.18768545434400827,
          -0.4186914644152896,
          -0.2721264230488234,
          -0.3547323694533388,
          -0.43081494745320403,
          -0.3547323694533388,
          -0.2721264230488234
         ],
         "xaxis": "x8",
         "y": [
          0.6934720940587522,
          0.5764927625968099,
          -0.09573958917988694,
          -0.1262744769950824,
          -0.1605694859019735,
          -0.20041612595044023,
          0.06296358363777357,
          -0.040291377945325224,
          -0.21618179213585617,
          -0.1262744769950824,
          -0.20041612595044023,
          -0.18353499549491578,
          -0.20041612595044023,
          -0.27485431979187486,
          -0.2586938292455121,
          -0.18353499549491578,
          -0.1262744769950824,
          -0.18353499549491578,
          -0.1262744769950824,
          0.22138047175778497,
          -0.1262744769950824,
          -0.1876480390198734,
          -0.1262744769950824,
          -0.43018134910032585,
          -0.1262744769950824,
          -0.24704507716489335,
          -0.8381165501498724,
          -0.962333103993908,
          -0.8381165501498724,
          -1,
          -0.8381165501498724,
          -0.9684371081602445,
          -0.8381165501498724,
          -0.43018134910032585,
          -0.8381165501498724,
          -0.8655700331090125,
          0.7171932826419184,
          0.5764927625968099,
          0.6452661966375289,
          0.5764927625968099,
          0.5764927625968099,
          0.45224022450826556,
          0.5764927625968099,
          0.7813382821537689,
          0.5764927625968099,
          0.5759101587834532,
          0.5764927625968099,
          0.7654875029076892,
          0.5764927625968099,
          0.5473565082911754,
          0.5764927625968099,
          0.22138047175778497,
          0.5764927625968099,
          0.6598394687388193,
          0.5764927625968099,
          0.4961870051157363,
          0.5764927625968099,
          0.7718100796024541,
          -0.040291377945325224,
          -0.1876480390198734,
          -0.38304180617059397,
          -0.5280085619223374,
          -0.38304180617059397,
          -0.1876480390198734
         ],
         "yaxis": "y8"
        },
        {
         "hoverinfo": "none",
         "line": {
          "color": "#888",
          "width": 0.5
         },
         "mode": "lines",
         "type": "scatter",
         "x": [
          0.8098564092133762,
          0.6946539030619181,
          -0.09750245573343357,
          -0.2106226424881124,
          -0.5044174455805989,
          -0.4994995844354869,
          -1,
          -0.8076631117495624,
          -0.16401609119626792,
          -0.2106226424881124,
          -0.4994995844354869,
          -0.38402866672088676,
          -0.4994995844354869,
          -0.6331371347630305,
          -0.5152960805726502,
          -0.38402866672088676,
          -0.2106226424881124,
          -0.38402866672088676,
          -0.2106226424881124,
          0.23767968416730262,
          -0.2106226424881124,
          -0.5649436526793363,
          -0.2106226424881124,
          -0.26955805520778714,
          -0.2106226424881124,
          -0.34140561851568835,
          -0.35108676232838065,
          -0.44018347180747935,
          -0.35108676232838065,
          -0.22884880906171945,
          -0.35108676232838065,
          -0.5155800694685507,
          -0.35108676232838065,
          -0.26955805520778714,
          -0.35108676232838065,
          -0.3236558577164704,
          0.5926751464898334,
          0.6946539030619181,
          0.8365161517195144,
          0.6946539030619181,
          0.6946539030619181,
          0.7765988363287051,
          0.6946539030619181,
          0.9974853335208546,
          0.6946539030619181,
          0.6741456505836187,
          0.6946539030619181,
          0.5830498649806606,
          0.6946539030619181,
          0.8528815792466287,
          0.6946539030619181,
          0.23767968416730262,
          0.6946539030619181,
          0.693588675629859,
          0.6946539030619181,
          0.9239831722869218,
          0.6946539030619181,
          0.8932398475393114,
          -0.8076631117495624,
          -0.5649436526793363,
          -0.7720420949960635,
          -0.9428666497469994,
          -0.7720420949960635,
          -0.5649436526793363
         ],
         "xaxis": "x9",
         "y": [
          -0.12370673685079053,
          0.07691716188099076,
          0.12865034881241486,
          0.08239977972708008,
          0.8898654463195242,
          0.695876096547662,
          0.10512604748973327,
          0.07367200559030637,
          0.32399518671679833,
          0.08239977972708008,
          0.695876096547662,
          0.41007478730519953,
          0.695876096547662,
          0.8404827867020788,
          0.515292941942835,
          0.41007478730519953,
          0.08239977972708008,
          0.41007478730519953,
          0.08239977972708008,
          0.08108432186544848,
          0.08239977972708008,
          0.017882415122253727,
          0.08239977972708008,
          -0.2829034707916528,
          0.08239977972708008,
          0.0684965641492133,
          -0.7928447798353018,
          -0.9667083588524006,
          -0.7928447798353018,
          -0.9142808902647787,
          -0.7928447798353018,
          -0.8686421643505757,
          -0.7928447798353018,
          -0.2829034707916528,
          -0.7928447798353018,
          -0.9890760666935744,
          -0.04315782439213098,
          0.07691716188099076,
          -0.028850720315230158,
          0.07691716188099076,
          0.07691716188099076,
          0.2815015284832414,
          0.07691716188099076,
          -0.026945360011928852,
          0.07691716188099076,
          0.2697086587327331,
          0.07691716188099076,
          0.183990691431374,
          0.07691716188099076,
          0.22365871532803813,
          0.07691716188099076,
          0.08108432186544848,
          0.07691716188099076,
          -0.12462082633461079,
          0.07691716188099076,
          0.1583783261299802,
          0.07691716188099076,
          0.06406832023478329,
          0.07367200559030637,
          0.017882415122253727,
          -0.11731142361105051,
          -0.21207350820766732,
          -0.11731142361105051,
          0.017882415122253727
         ],
         "yaxis": "y9"
        }
       ],
       "layout": {
        "template": {
         "data": {
          "bar": [
           {
            "error_x": {
             "color": "#2a3f5f"
            },
            "error_y": {
             "color": "#2a3f5f"
            },
            "marker": {
             "line": {
              "color": "#E5ECF6",
              "width": 0.5
             },
             "pattern": {
              "fillmode": "overlay",
              "size": 10,
              "solidity": 0.2
             }
            },
            "type": "bar"
           }
          ],
          "barpolar": [
           {
            "marker": {
             "line": {
              "color": "#E5ECF6",
              "width": 0.5
             },
             "pattern": {
              "fillmode": "overlay",
              "size": 10,
              "solidity": 0.2
             }
            },
            "type": "barpolar"
           }
          ],
          "carpet": [
           {
            "aaxis": {
             "endlinecolor": "#2a3f5f",
             "gridcolor": "white",
             "linecolor": "white",
             "minorgridcolor": "white",
             "startlinecolor": "#2a3f5f"
            },
            "baxis": {
             "endlinecolor": "#2a3f5f",
             "gridcolor": "white",
             "linecolor": "white",
             "minorgridcolor": "white",
             "startlinecolor": "#2a3f5f"
            },
            "type": "carpet"
           }
          ],
          "choropleth": [
           {
            "colorbar": {
             "outlinewidth": 0,
             "ticks": ""
            },
            "type": "choropleth"
           }
          ],
          "contour": [
           {
            "colorbar": {
             "outlinewidth": 0,
             "ticks": ""
            },
            "colorscale": [
             [
              0,
              "#0d0887"
             ],
             [
              0.1111111111111111,
              "#46039f"
             ],
             [
              0.2222222222222222,
              "#7201a8"
             ],
             [
              0.3333333333333333,
              "#9c179e"
             ],
             [
              0.4444444444444444,
              "#bd3786"
             ],
             [
              0.5555555555555556,
              "#d8576b"
             ],
             [
              0.6666666666666666,
              "#ed7953"
             ],
             [
              0.7777777777777778,
              "#fb9f3a"
             ],
             [
              0.8888888888888888,
              "#fdca26"
             ],
             [
              1,
              "#f0f921"
             ]
            ],
            "type": "contour"
           }
          ],
          "contourcarpet": [
           {
            "colorbar": {
             "outlinewidth": 0,
             "ticks": ""
            },
            "type": "contourcarpet"
           }
          ],
          "heatmap": [
           {
            "colorbar": {
             "outlinewidth": 0,
             "ticks": ""
            },
            "colorscale": [
             [
              0,
              "#0d0887"
             ],
             [
              0.1111111111111111,
              "#46039f"
             ],
             [
              0.2222222222222222,
              "#7201a8"
             ],
             [
              0.3333333333333333,
              "#9c179e"
             ],
             [
              0.4444444444444444,
              "#bd3786"
             ],
             [
              0.5555555555555556,
              "#d8576b"
             ],
             [
              0.6666666666666666,
              "#ed7953"
             ],
             [
              0.7777777777777778,
              "#fb9f3a"
             ],
             [
              0.8888888888888888,
              "#fdca26"
             ],
             [
              1,
              "#f0f921"
             ]
            ],
            "type": "heatmap"
           }
          ],
          "heatmapgl": [
           {
            "colorbar": {
             "outlinewidth": 0,
             "ticks": ""
            },
            "colorscale": [
             [
              0,
              "#0d0887"
             ],
             [
              0.1111111111111111,
              "#46039f"
             ],
             [
              0.2222222222222222,
              "#7201a8"
             ],
             [
              0.3333333333333333,
              "#9c179e"
             ],
             [
              0.4444444444444444,
              "#bd3786"
             ],
             [
              0.5555555555555556,
              "#d8576b"
             ],
             [
              0.6666666666666666,
              "#ed7953"
             ],
             [
              0.7777777777777778,
              "#fb9f3a"
             ],
             [
              0.8888888888888888,
              "#fdca26"
             ],
             [
              1,
              "#f0f921"
             ]
            ],
            "type": "heatmapgl"
           }
          ],
          "histogram": [
           {
            "marker": {
             "pattern": {
              "fillmode": "overlay",
              "size": 10,
              "solidity": 0.2
             }
            },
            "type": "histogram"
           }
          ],
          "histogram2d": [
           {
            "colorbar": {
             "outlinewidth": 0,
             "ticks": ""
            },
            "colorscale": [
             [
              0,
              "#0d0887"
             ],
             [
              0.1111111111111111,
              "#46039f"
             ],
             [
              0.2222222222222222,
              "#7201a8"
             ],
             [
              0.3333333333333333,
              "#9c179e"
             ],
             [
              0.4444444444444444,
              "#bd3786"
             ],
             [
              0.5555555555555556,
              "#d8576b"
             ],
             [
              0.6666666666666666,
              "#ed7953"
             ],
             [
              0.7777777777777778,
              "#fb9f3a"
             ],
             [
              0.8888888888888888,
              "#fdca26"
             ],
             [
              1,
              "#f0f921"
             ]
            ],
            "type": "histogram2d"
           }
          ],
          "histogram2dcontour": [
           {
            "colorbar": {
             "outlinewidth": 0,
             "ticks": ""
            },
            "colorscale": [
             [
              0,
              "#0d0887"
             ],
             [
              0.1111111111111111,
              "#46039f"
             ],
             [
              0.2222222222222222,
              "#7201a8"
             ],
             [
              0.3333333333333333,
              "#9c179e"
             ],
             [
              0.4444444444444444,
              "#bd3786"
             ],
             [
              0.5555555555555556,
              "#d8576b"
             ],
             [
              0.6666666666666666,
              "#ed7953"
             ],
             [
              0.7777777777777778,
              "#fb9f3a"
             ],
             [
              0.8888888888888888,
              "#fdca26"
             ],
             [
              1,
              "#f0f921"
             ]
            ],
            "type": "histogram2dcontour"
           }
          ],
          "mesh3d": [
           {
            "colorbar": {
             "outlinewidth": 0,
             "ticks": ""
            },
            "type": "mesh3d"
           }
          ],
          "parcoords": [
           {
            "line": {
             "colorbar": {
              "outlinewidth": 0,
              "ticks": ""
             }
            },
            "type": "parcoords"
           }
          ],
          "pie": [
           {
            "automargin": true,
            "type": "pie"
           }
          ],
          "scatter": [
           {
            "fillpattern": {
             "fillmode": "overlay",
             "size": 10,
             "solidity": 0.2
            },
            "type": "scatter"
           }
          ],
          "scatter3d": [
           {
            "line": {
             "colorbar": {
              "outlinewidth": 0,
              "ticks": ""
             }
            },
            "marker": {
             "colorbar": {
              "outlinewidth": 0,
              "ticks": ""
             }
            },
            "type": "scatter3d"
           }
          ],
          "scattercarpet": [
           {
            "marker": {
             "colorbar": {
              "outlinewidth": 0,
              "ticks": ""
             }
            },
            "type": "scattercarpet"
           }
          ],
          "scattergeo": [
           {
            "marker": {
             "colorbar": {
              "outlinewidth": 0,
              "ticks": ""
             }
            },
            "type": "scattergeo"
           }
          ],
          "scattergl": [
           {
            "marker": {
             "colorbar": {
              "outlinewidth": 0,
              "ticks": ""
             }
            },
            "type": "scattergl"
           }
          ],
          "scattermapbox": [
           {
            "marker": {
             "colorbar": {
              "outlinewidth": 0,
              "ticks": ""
             }
            },
            "type": "scattermapbox"
           }
          ],
          "scatterpolar": [
           {
            "marker": {
             "colorbar": {
              "outlinewidth": 0,
              "ticks": ""
             }
            },
            "type": "scatterpolar"
           }
          ],
          "scatterpolargl": [
           {
            "marker": {
             "colorbar": {
              "outlinewidth": 0,
              "ticks": ""
             }
            },
            "type": "scatterpolargl"
           }
          ],
          "scatterternary": [
           {
            "marker": {
             "colorbar": {
              "outlinewidth": 0,
              "ticks": ""
             }
            },
            "type": "scatterternary"
           }
          ],
          "surface": [
           {
            "colorbar": {
             "outlinewidth": 0,
             "ticks": ""
            },
            "colorscale": [
             [
              0,
              "#0d0887"
             ],
             [
              0.1111111111111111,
              "#46039f"
             ],
             [
              0.2222222222222222,
              "#7201a8"
             ],
             [
              0.3333333333333333,
              "#9c179e"
             ],
             [
              0.4444444444444444,
              "#bd3786"
             ],
             [
              0.5555555555555556,
              "#d8576b"
             ],
             [
              0.6666666666666666,
              "#ed7953"
             ],
             [
              0.7777777777777778,
              "#fb9f3a"
             ],
             [
              0.8888888888888888,
              "#fdca26"
             ],
             [
              1,
              "#f0f921"
             ]
            ],
            "type": "surface"
           }
          ],
          "table": [
           {
            "cells": {
             "fill": {
              "color": "#EBF0F8"
             },
             "line": {
              "color": "white"
             }
            },
            "header": {
             "fill": {
              "color": "#C8D4E3"
             },
             "line": {
              "color": "white"
             }
            },
            "type": "table"
           }
          ]
         },
         "layout": {
          "annotationdefaults": {
           "arrowcolor": "#2a3f5f",
           "arrowhead": 0,
           "arrowwidth": 1
          },
          "autotypenumbers": "strict",
          "coloraxis": {
           "colorbar": {
            "outlinewidth": 0,
            "ticks": ""
           }
          },
          "colorscale": {
           "diverging": [
            [
             0,
             "#8e0152"
            ],
            [
             0.1,
             "#c51b7d"
            ],
            [
             0.2,
             "#de77ae"
            ],
            [
             0.3,
             "#f1b6da"
            ],
            [
             0.4,
             "#fde0ef"
            ],
            [
             0.5,
             "#f7f7f7"
            ],
            [
             0.6,
             "#e6f5d0"
            ],
            [
             0.7,
             "#b8e186"
            ],
            [
             0.8,
             "#7fbc41"
            ],
            [
             0.9,
             "#4d9221"
            ],
            [
             1,
             "#276419"
            ]
           ],
           "sequential": [
            [
             0,
             "#0d0887"
            ],
            [
             0.1111111111111111,
             "#46039f"
            ],
            [
             0.2222222222222222,
             "#7201a8"
            ],
            [
             0.3333333333333333,
             "#9c179e"
            ],
            [
             0.4444444444444444,
             "#bd3786"
            ],
            [
             0.5555555555555556,
             "#d8576b"
            ],
            [
             0.6666666666666666,
             "#ed7953"
            ],
            [
             0.7777777777777778,
             "#fb9f3a"
            ],
            [
             0.8888888888888888,
             "#fdca26"
            ],
            [
             1,
             "#f0f921"
            ]
           ],
           "sequentialminus": [
            [
             0,
             "#0d0887"
            ],
            [
             0.1111111111111111,
             "#46039f"
            ],
            [
             0.2222222222222222,
             "#7201a8"
            ],
            [
             0.3333333333333333,
             "#9c179e"
            ],
            [
             0.4444444444444444,
             "#bd3786"
            ],
            [
             0.5555555555555556,
             "#d8576b"
            ],
            [
             0.6666666666666666,
             "#ed7953"
            ],
            [
             0.7777777777777778,
             "#fb9f3a"
            ],
            [
             0.8888888888888888,
             "#fdca26"
            ],
            [
             1,
             "#f0f921"
            ]
           ]
          },
          "colorway": [
           "#636efa",
           "#EF553B",
           "#00cc96",
           "#ab63fa",
           "#FFA15A",
           "#19d3f3",
           "#FF6692",
           "#B6E880",
           "#FF97FF",
           "#FECB52"
          ],
          "font": {
           "color": "#2a3f5f"
          },
          "geo": {
           "bgcolor": "white",
           "lakecolor": "white",
           "landcolor": "#E5ECF6",
           "showlakes": true,
           "showland": true,
           "subunitcolor": "white"
          },
          "hoverlabel": {
           "align": "left"
          },
          "hovermode": "closest",
          "mapbox": {
           "style": "light"
          },
          "paper_bgcolor": "white",
          "plot_bgcolor": "#E5ECF6",
          "polar": {
           "angularaxis": {
            "gridcolor": "white",
            "linecolor": "white",
            "ticks": ""
           },
           "bgcolor": "#E5ECF6",
           "radialaxis": {
            "gridcolor": "white",
            "linecolor": "white",
            "ticks": ""
           }
          },
          "scene": {
           "xaxis": {
            "backgroundcolor": "#E5ECF6",
            "gridcolor": "white",
            "gridwidth": 2,
            "linecolor": "white",
            "showbackground": true,
            "ticks": "",
            "zerolinecolor": "white"
           },
           "yaxis": {
            "backgroundcolor": "#E5ECF6",
            "gridcolor": "white",
            "gridwidth": 2,
            "linecolor": "white",
            "showbackground": true,
            "ticks": "",
            "zerolinecolor": "white"
           },
           "zaxis": {
            "backgroundcolor": "#E5ECF6",
            "gridcolor": "white",
            "gridwidth": 2,
            "linecolor": "white",
            "showbackground": true,
            "ticks": "",
            "zerolinecolor": "white"
           }
          },
          "shapedefaults": {
           "line": {
            "color": "#2a3f5f"
           }
          },
          "ternary": {
           "aaxis": {
            "gridcolor": "white",
            "linecolor": "white",
            "ticks": ""
           },
           "baxis": {
            "gridcolor": "white",
            "linecolor": "white",
            "ticks": ""
           },
           "bgcolor": "#E5ECF6",
           "caxis": {
            "gridcolor": "white",
            "linecolor": "white",
            "ticks": ""
           }
          },
          "title": {
           "x": 0.05
          },
          "xaxis": {
           "automargin": true,
           "gridcolor": "white",
           "linecolor": "white",
           "ticks": "",
           "title": {
            "standoff": 15
           },
           "zerolinecolor": "white",
           "zerolinewidth": 2
          },
          "yaxis": {
           "automargin": true,
           "gridcolor": "white",
           "linecolor": "white",
           "ticks": "",
           "title": {
            "standoff": 15
           },
           "zerolinecolor": "white",
           "zerolinewidth": 2
          }
         }
        },
        "xaxis": {
         "anchor": "y",
         "domain": [
          0,
          1
         ]
        },
        "xaxis2": {
         "anchor": "y2",
         "domain": [
          0,
          1
         ]
        },
        "xaxis3": {
         "anchor": "y3",
         "domain": [
          0,
          1
         ]
        },
        "xaxis4": {
         "anchor": "y4",
         "domain": [
          0,
          1
         ]
        },
        "xaxis5": {
         "anchor": "y5",
         "domain": [
          0,
          1
         ]
        },
        "xaxis6": {
         "anchor": "y6",
         "domain": [
          0,
          1
         ]
        },
        "xaxis7": {
         "anchor": "y7",
         "domain": [
          0,
          1
         ]
        },
        "xaxis8": {
         "anchor": "y8",
         "domain": [
          0,
          1
         ]
        },
        "xaxis9": {
         "anchor": "y9",
         "domain": [
          0,
          1
         ]
        },
        "yaxis": {
         "anchor": "x",
         "domain": [
          0.9185185185185185,
          1
         ]
        },
        "yaxis2": {
         "anchor": "x2",
         "domain": [
          0.8037037037037038,
          0.8851851851851853
         ]
        },
        "yaxis3": {
         "anchor": "x3",
         "domain": [
          0.6888888888888889,
          0.7703703703703704
         ]
        },
        "yaxis4": {
         "anchor": "x4",
         "domain": [
          0.5740740740740741,
          0.6555555555555556
         ]
        },
        "yaxis5": {
         "anchor": "x5",
         "domain": [
          0.45925925925925926,
          0.5407407407407407
         ]
        },
        "yaxis6": {
         "anchor": "x6",
         "domain": [
          0.34444444444444444,
          0.42592592592592593
         ]
        },
        "yaxis7": {
         "anchor": "x7",
         "domain": [
          0.22962962962962963,
          0.3111111111111111
         ]
        },
        "yaxis8": {
         "anchor": "x8",
         "domain": [
          0.11481481481481481,
          0.1962962962962963
         ]
        },
        "yaxis9": {
         "anchor": "x9",
         "domain": [
          0,
          0.08148148148148149
         ]
        }
       }
      }
     },
     "metadata": {},
     "output_type": "display_data"
    }
   ],
   "source": [
    "# fig, axes = plt.subplots(len(centrality_measures), figsize=(10, 10))\n",
    "fig = tls.make_subplots(rows=len(centrality_measures))\n",
    "\n",
    "for i, centrality_measure in enumerate(centrality_measures):\n",
    "    _fig = plot_network_graph(graph=graph, centrality_result=centrality_measure)\n",
    "    fig.append_trace(_fig.data[0], i+1, 1)\n",
    "\n",
    "    # axes[i].set_title(f\"{convert_to_normal(centrality_measure.name)}\")\n",
    "fig.show()"
   ]
  },
  {
   "cell_type": "code",
   "execution_count": 71,
   "id": "0de8bdf6",
   "metadata": {},
   "outputs": [
    {
     "data": {
      "application/vnd.plotly.v1+json": {
       "config": {
        "plotlyServerURL": "https://plot.ly"
       },
       "data": [
        {
         "hoverinfo": "none",
         "line": {
          "color": "#888",
          "width": 0.5
         },
         "mode": "lines",
         "type": "scatter",
         "x": [
          0.3547909383194655,
          0.4306934557191249,
          0.021446238657176105,
          -0.09598564094467284,
          -0.7904710405551729,
          -0.6296981478143461,
          -0.6116797893782566,
          -0.49441787358190725,
          0.07672837821351708,
          -0.09598564094467284,
          -0.6296981478143461,
          -0.36144147454093023,
          -0.6296981478143461,
          -0.7872610656324799,
          -0.3884800302895781,
          -0.36144147454093023,
          -0.09598564094467284,
          -0.36144147454093023,
          -0.09598564094467284,
          0.166182371099573,
          -0.09598564094467284,
          -0.34842331962338363,
          -0.09598564094467284,
          -0.06844516223888526,
          -0.09598564094467284,
          -0.10370869974307884,
          -0.038016189390699125,
          -0.1520282168141737,
          -0.038016189390699125,
          -0.07690371263832324,
          -0.038016189390699125,
          0.021068033124363474,
          -0.038016189390699125,
          -0.06844516223888526,
          -0.038016189390699125,
          0.08580840904127587,
          0.543023835639549,
          0.4306934557191249,
          0.5463076109224303,
          0.4306934557191249,
          0.4306934557191249,
          0.4218451444970495,
          0.4306934557191249,
          0.2581199309889052,
          0.4306934557191249,
          0.6256064208217417,
          0.4306934557191249,
          0.45548062620555113,
          0.4306934557191249,
          0.6124858064879258,
          0.4306934557191249,
          0.166182371099573,
          0.4306934557191249,
          0.5790514205601115,
          0.4306934557191249,
          0.3426676371679743,
          0.4306934557191249,
          0.49729900914626435,
          -0.49441787358190725,
          -0.34842331962338363,
          -0.49372961847409397,
          -0.5979152849520171,
          -0.49372961847409397,
          -0.34842331962338363
         ],
         "y": [
          -0.3696069485165481,
          -0.45245671767901857,
          0.08303840242023784,
          0.08620149830399294,
          0.03961379728383858,
          -0.007005897341744956,
          0.38272243684708734,
          0.2761761290813465,
          0.23456801072705394,
          0.08620149830399294,
          -0.007005897341744956,
          -0.00007625099128825746,
          -0.007005897341744956,
          -0.07147758905089317,
          -0.1381934660842701,
          -0.00007625099128825746,
          0.08620149830399294,
          -0.00007625099128825746,
          0.08620149830399294,
          -0.1795299618255238,
          0.08620149830399294,
          0.1325603102565446,
          0.08620149830399294,
          0.4096909799339622,
          0.08620149830399294,
          0.2053087872738024,
          0.844308605790978,
          0.9359537263158834,
          0.844308605790978,
          0.998964983551539,
          0.844308605790978,
          1,
          0.844308605790978,
          0.4096909799339622,
          0.844308605790978,
          0.9195763577249539,
          -0.6134271020282986,
          -0.45245671767901857,
          -0.49927284583775505,
          -0.45245671767901857,
          -0.45245671767901857,
          -0.575530248544014,
          -0.45245671767901857,
          -0.6051418140546476,
          -0.45245671767901857,
          -0.440188974770752,
          -0.45245671767901857,
          -0.6515283320984314,
          -0.45245671767901857,
          -0.5447244311195928,
          -0.45245671767901857,
          -0.1795299618255238,
          -0.45245671767901857,
          -0.3637771104361228,
          -0.45245671767901857,
          -0.5845820152921186,
          -0.45245671767901857,
          -0.3173088952887256,
          0.2761761290813465,
          0.1325603102565446,
          -0.0034287976289022505,
          -0.13142662692257265,
          -0.0034287976289022505,
          0.1325603102565446
         ]
        },
        {
         "hoverinfo": "text",
         "marker": {
          "cmax": 0.28125,
          "cmin": 0,
          "color": [
           0.03125,
           0.03125,
           0.03125,
           0.03125,
           0.03125,
           0.0625,
           0.03125,
           0.15625,
           0.15625,
           0.03125,
           0.03125,
           0.28125,
           0,
           0.03125,
           0,
           0,
           0.0625,
           0,
           0,
           0,
           0,
           0,
           0,
           0,
           0,
           0,
           0,
           0,
           0,
           0,
           0,
           0,
           0
          ],
          "colorbar": {
           "thickness": 15,
           "title": {
            "side": "right",
            "text": "Node Connections"
           },
           "xanchor": "left"
          },
          "colorscale": [
           [
            0,
            "rgb(255,255,204)"
           ],
           [
            0.125,
            "rgb(255,237,160)"
           ],
           [
            0.25,
            "rgb(254,217,118)"
           ],
           [
            0.375,
            "rgb(254,178,76)"
           ],
           [
            0.5,
            "rgb(253,141,60)"
           ],
           [
            0.625,
            "rgb(252,78,42)"
           ],
           [
            0.75,
            "rgb(227,26,28)"
           ],
           [
            0.875,
            "rgb(189,0,38)"
           ],
           [
            1,
            "rgb(128,0,38)"
           ]
          ],
          "line": {
           "width": 2
          },
          "reversescale": true,
          "showscale": true,
          "size": 10
         },
         "mode": "markers",
         "text": [
          "Node: 'R12C12.2'<br>Out Degree Centrality: 0.03125",
          "Node: 'C26D10.6'<br>Out Degree Centrality: 0.03125",
          "Node: 'E01B7.1'<br>Out Degree Centrality: 0.03125",
          "Node: 'C38C3.5'<br>Out Degree Centrality: 0.03125",
          "Node: 'ZK1053.5'<br>Out Degree Centrality: 0.03125",
          "Node: 'R10E4.4'<br>Out Degree Centrality: 0.0625",
          "Node: 'F09G2.8'<br>Out Degree Centrality: 0.03125",
          "Node: 'Y47D3A.4'<br>Out Degree Centrality: 0.15625",
          "Node: 'C47E12.4'<br>Out Degree Centrality: 0.15625",
          "Node: 'H38K22.2'<br>Out Degree Centrality: 0.03125",
          "Node: 'Y71G12B.8'<br>Out Degree Centrality: 0.03125",
          "Node: 'Y116A8C.12'<br>Out Degree Centrality: 0.28125",
          "Node: 'Y48G8AR.1'<br>Out Degree Centrality: 0.0",
          "Node: 'C10G11.5'<br>Out Degree Centrality: 0.03125",
          "Node: 'T13H5.7'<br>Out Degree Centrality: 0.0",
          "Node: 'F21C3.3'<br>Out Degree Centrality: 0.0",
          "Node: 'B0285.1'<br>Out Degree Centrality: 0.0625",
          "Node: 'H08M01.2'<br>Out Degree Centrality: 0.0",
          "Node: 'T22H2.5'<br>Out Degree Centrality: 0.0",
          "Node: 'F34D10.2'<br>Out Degree Centrality: 0.0",
          "Node: 'C55F2.1'<br>Out Degree Centrality: 0.0",
          "Node: 'F07A11.6'<br>Out Degree Centrality: 0.0",
          "Node: 'F21H11.2'<br>Out Degree Centrality: 0.0",
          "Node: 'C56C10.10'<br>Out Degree Centrality: 0.0",
          "Node: 'Y63D3A.6'<br>Out Degree Centrality: 0.0",
          "Node: 'B0361.5'<br>Out Degree Centrality: 0.0",
          "Node: 'Y111B2A.22'<br>Out Degree Centrality: 0.0",
          "Node: 'F37A4.8'<br>Out Degree Centrality: 0.0",
          "Node: 'K02F2.2'<br>Out Degree Centrality: 0.0",
          "Node: 'R01H10.6'<br>Out Degree Centrality: 0.0",
          "Node: 'C35C5.6'<br>Out Degree Centrality: 0.0",
          "Node: 'B0495.7'<br>Out Degree Centrality: 0.0",
          "Node: 'B0205.6'<br>Out Degree Centrality: 0.0"
         ],
         "type": "scatter",
         "x": [
          0.3547909383194655,
          0.021446238657176105,
          -0.7904710405551729,
          -0.6116797893782566,
          0.07672837821351708,
          -0.6296981478143461,
          -0.3884800302895781,
          -0.09598564094467284,
          -0.038016189390699125,
          0.543023835639549,
          0.5463076109224303,
          0.4306934557191249,
          -0.10370869974307884,
          -0.49441787358190725,
          0.3426676371679743,
          0.6124858064879258,
          -0.49372961847409397,
          0.166182371099573,
          -0.06844516223888526,
          -0.7872610656324799,
          0.45548062620555113,
          -0.5979152849520171,
          -0.36144147454093023,
          -0.07690371263832324,
          0.49729900914626435,
          -0.1520282168141737,
          0.08580840904127587,
          0.021068033124363474,
          0.5790514205601115,
          -0.34842331962338363,
          0.6256064208217417,
          0.2581199309889052,
          0.4218451444970495
         ],
         "y": [
          -0.3696069485165481,
          0.08303840242023784,
          0.03961379728383858,
          0.38272243684708734,
          0.23456801072705394,
          -0.007005897341744956,
          -0.1381934660842701,
          0.08620149830399294,
          0.844308605790978,
          -0.6134271020282986,
          -0.49927284583775505,
          -0.45245671767901857,
          0.2053087872738024,
          0.2761761290813465,
          -0.5845820152921186,
          -0.5447244311195928,
          -0.0034287976289022505,
          -0.1795299618255238,
          0.4096909799339622,
          -0.07147758905089317,
          -0.6515283320984314,
          -0.13142662692257265,
          -0.00007625099128825746,
          0.998964983551539,
          -0.3173088952887256,
          0.9359537263158834,
          0.9195763577249539,
          1,
          -0.3637771104361228,
          0.1325603102565446,
          -0.440188974770752,
          -0.6051418140546476,
          -0.575530248544014
         ]
        }
       ],
       "layout": {
        "hovermode": "closest",
        "margin": {
         "b": 20,
         "l": 5,
         "r": 5,
         "t": 40
        },
        "showlegend": false,
        "template": {
         "data": {
          "bar": [
           {
            "error_x": {
             "color": "#2a3f5f"
            },
            "error_y": {
             "color": "#2a3f5f"
            },
            "marker": {
             "line": {
              "color": "#E5ECF6",
              "width": 0.5
             },
             "pattern": {
              "fillmode": "overlay",
              "size": 10,
              "solidity": 0.2
             }
            },
            "type": "bar"
           }
          ],
          "barpolar": [
           {
            "marker": {
             "line": {
              "color": "#E5ECF6",
              "width": 0.5
             },
             "pattern": {
              "fillmode": "overlay",
              "size": 10,
              "solidity": 0.2
             }
            },
            "type": "barpolar"
           }
          ],
          "carpet": [
           {
            "aaxis": {
             "endlinecolor": "#2a3f5f",
             "gridcolor": "white",
             "linecolor": "white",
             "minorgridcolor": "white",
             "startlinecolor": "#2a3f5f"
            },
            "baxis": {
             "endlinecolor": "#2a3f5f",
             "gridcolor": "white",
             "linecolor": "white",
             "minorgridcolor": "white",
             "startlinecolor": "#2a3f5f"
            },
            "type": "carpet"
           }
          ],
          "choropleth": [
           {
            "colorbar": {
             "outlinewidth": 0,
             "ticks": ""
            },
            "type": "choropleth"
           }
          ],
          "contour": [
           {
            "colorbar": {
             "outlinewidth": 0,
             "ticks": ""
            },
            "colorscale": [
             [
              0,
              "#0d0887"
             ],
             [
              0.1111111111111111,
              "#46039f"
             ],
             [
              0.2222222222222222,
              "#7201a8"
             ],
             [
              0.3333333333333333,
              "#9c179e"
             ],
             [
              0.4444444444444444,
              "#bd3786"
             ],
             [
              0.5555555555555556,
              "#d8576b"
             ],
             [
              0.6666666666666666,
              "#ed7953"
             ],
             [
              0.7777777777777778,
              "#fb9f3a"
             ],
             [
              0.8888888888888888,
              "#fdca26"
             ],
             [
              1,
              "#f0f921"
             ]
            ],
            "type": "contour"
           }
          ],
          "contourcarpet": [
           {
            "colorbar": {
             "outlinewidth": 0,
             "ticks": ""
            },
            "type": "contourcarpet"
           }
          ],
          "heatmap": [
           {
            "colorbar": {
             "outlinewidth": 0,
             "ticks": ""
            },
            "colorscale": [
             [
              0,
              "#0d0887"
             ],
             [
              0.1111111111111111,
              "#46039f"
             ],
             [
              0.2222222222222222,
              "#7201a8"
             ],
             [
              0.3333333333333333,
              "#9c179e"
             ],
             [
              0.4444444444444444,
              "#bd3786"
             ],
             [
              0.5555555555555556,
              "#d8576b"
             ],
             [
              0.6666666666666666,
              "#ed7953"
             ],
             [
              0.7777777777777778,
              "#fb9f3a"
             ],
             [
              0.8888888888888888,
              "#fdca26"
             ],
             [
              1,
              "#f0f921"
             ]
            ],
            "type": "heatmap"
           }
          ],
          "heatmapgl": [
           {
            "colorbar": {
             "outlinewidth": 0,
             "ticks": ""
            },
            "colorscale": [
             [
              0,
              "#0d0887"
             ],
             [
              0.1111111111111111,
              "#46039f"
             ],
             [
              0.2222222222222222,
              "#7201a8"
             ],
             [
              0.3333333333333333,
              "#9c179e"
             ],
             [
              0.4444444444444444,
              "#bd3786"
             ],
             [
              0.5555555555555556,
              "#d8576b"
             ],
             [
              0.6666666666666666,
              "#ed7953"
             ],
             [
              0.7777777777777778,
              "#fb9f3a"
             ],
             [
              0.8888888888888888,
              "#fdca26"
             ],
             [
              1,
              "#f0f921"
             ]
            ],
            "type": "heatmapgl"
           }
          ],
          "histogram": [
           {
            "marker": {
             "pattern": {
              "fillmode": "overlay",
              "size": 10,
              "solidity": 0.2
             }
            },
            "type": "histogram"
           }
          ],
          "histogram2d": [
           {
            "colorbar": {
             "outlinewidth": 0,
             "ticks": ""
            },
            "colorscale": [
             [
              0,
              "#0d0887"
             ],
             [
              0.1111111111111111,
              "#46039f"
             ],
             [
              0.2222222222222222,
              "#7201a8"
             ],
             [
              0.3333333333333333,
              "#9c179e"
             ],
             [
              0.4444444444444444,
              "#bd3786"
             ],
             [
              0.5555555555555556,
              "#d8576b"
             ],
             [
              0.6666666666666666,
              "#ed7953"
             ],
             [
              0.7777777777777778,
              "#fb9f3a"
             ],
             [
              0.8888888888888888,
              "#fdca26"
             ],
             [
              1,
              "#f0f921"
             ]
            ],
            "type": "histogram2d"
           }
          ],
          "histogram2dcontour": [
           {
            "colorbar": {
             "outlinewidth": 0,
             "ticks": ""
            },
            "colorscale": [
             [
              0,
              "#0d0887"
             ],
             [
              0.1111111111111111,
              "#46039f"
             ],
             [
              0.2222222222222222,
              "#7201a8"
             ],
             [
              0.3333333333333333,
              "#9c179e"
             ],
             [
              0.4444444444444444,
              "#bd3786"
             ],
             [
              0.5555555555555556,
              "#d8576b"
             ],
             [
              0.6666666666666666,
              "#ed7953"
             ],
             [
              0.7777777777777778,
              "#fb9f3a"
             ],
             [
              0.8888888888888888,
              "#fdca26"
             ],
             [
              1,
              "#f0f921"
             ]
            ],
            "type": "histogram2dcontour"
           }
          ],
          "mesh3d": [
           {
            "colorbar": {
             "outlinewidth": 0,
             "ticks": ""
            },
            "type": "mesh3d"
           }
          ],
          "parcoords": [
           {
            "line": {
             "colorbar": {
              "outlinewidth": 0,
              "ticks": ""
             }
            },
            "type": "parcoords"
           }
          ],
          "pie": [
           {
            "automargin": true,
            "type": "pie"
           }
          ],
          "scatter": [
           {
            "fillpattern": {
             "fillmode": "overlay",
             "size": 10,
             "solidity": 0.2
            },
            "type": "scatter"
           }
          ],
          "scatter3d": [
           {
            "line": {
             "colorbar": {
              "outlinewidth": 0,
              "ticks": ""
             }
            },
            "marker": {
             "colorbar": {
              "outlinewidth": 0,
              "ticks": ""
             }
            },
            "type": "scatter3d"
           }
          ],
          "scattercarpet": [
           {
            "marker": {
             "colorbar": {
              "outlinewidth": 0,
              "ticks": ""
             }
            },
            "type": "scattercarpet"
           }
          ],
          "scattergeo": [
           {
            "marker": {
             "colorbar": {
              "outlinewidth": 0,
              "ticks": ""
             }
            },
            "type": "scattergeo"
           }
          ],
          "scattergl": [
           {
            "marker": {
             "colorbar": {
              "outlinewidth": 0,
              "ticks": ""
             }
            },
            "type": "scattergl"
           }
          ],
          "scattermapbox": [
           {
            "marker": {
             "colorbar": {
              "outlinewidth": 0,
              "ticks": ""
             }
            },
            "type": "scattermapbox"
           }
          ],
          "scatterpolar": [
           {
            "marker": {
             "colorbar": {
              "outlinewidth": 0,
              "ticks": ""
             }
            },
            "type": "scatterpolar"
           }
          ],
          "scatterpolargl": [
           {
            "marker": {
             "colorbar": {
              "outlinewidth": 0,
              "ticks": ""
             }
            },
            "type": "scatterpolargl"
           }
          ],
          "scatterternary": [
           {
            "marker": {
             "colorbar": {
              "outlinewidth": 0,
              "ticks": ""
             }
            },
            "type": "scatterternary"
           }
          ],
          "surface": [
           {
            "colorbar": {
             "outlinewidth": 0,
             "ticks": ""
            },
            "colorscale": [
             [
              0,
              "#0d0887"
             ],
             [
              0.1111111111111111,
              "#46039f"
             ],
             [
              0.2222222222222222,
              "#7201a8"
             ],
             [
              0.3333333333333333,
              "#9c179e"
             ],
             [
              0.4444444444444444,
              "#bd3786"
             ],
             [
              0.5555555555555556,
              "#d8576b"
             ],
             [
              0.6666666666666666,
              "#ed7953"
             ],
             [
              0.7777777777777778,
              "#fb9f3a"
             ],
             [
              0.8888888888888888,
              "#fdca26"
             ],
             [
              1,
              "#f0f921"
             ]
            ],
            "type": "surface"
           }
          ],
          "table": [
           {
            "cells": {
             "fill": {
              "color": "#EBF0F8"
             },
             "line": {
              "color": "white"
             }
            },
            "header": {
             "fill": {
              "color": "#C8D4E3"
             },
             "line": {
              "color": "white"
             }
            },
            "type": "table"
           }
          ]
         },
         "layout": {
          "annotationdefaults": {
           "arrowcolor": "#2a3f5f",
           "arrowhead": 0,
           "arrowwidth": 1
          },
          "autotypenumbers": "strict",
          "coloraxis": {
           "colorbar": {
            "outlinewidth": 0,
            "ticks": ""
           }
          },
          "colorscale": {
           "diverging": [
            [
             0,
             "#8e0152"
            ],
            [
             0.1,
             "#c51b7d"
            ],
            [
             0.2,
             "#de77ae"
            ],
            [
             0.3,
             "#f1b6da"
            ],
            [
             0.4,
             "#fde0ef"
            ],
            [
             0.5,
             "#f7f7f7"
            ],
            [
             0.6,
             "#e6f5d0"
            ],
            [
             0.7,
             "#b8e186"
            ],
            [
             0.8,
             "#7fbc41"
            ],
            [
             0.9,
             "#4d9221"
            ],
            [
             1,
             "#276419"
            ]
           ],
           "sequential": [
            [
             0,
             "#0d0887"
            ],
            [
             0.1111111111111111,
             "#46039f"
            ],
            [
             0.2222222222222222,
             "#7201a8"
            ],
            [
             0.3333333333333333,
             "#9c179e"
            ],
            [
             0.4444444444444444,
             "#bd3786"
            ],
            [
             0.5555555555555556,
             "#d8576b"
            ],
            [
             0.6666666666666666,
             "#ed7953"
            ],
            [
             0.7777777777777778,
             "#fb9f3a"
            ],
            [
             0.8888888888888888,
             "#fdca26"
            ],
            [
             1,
             "#f0f921"
            ]
           ],
           "sequentialminus": [
            [
             0,
             "#0d0887"
            ],
            [
             0.1111111111111111,
             "#46039f"
            ],
            [
             0.2222222222222222,
             "#7201a8"
            ],
            [
             0.3333333333333333,
             "#9c179e"
            ],
            [
             0.4444444444444444,
             "#bd3786"
            ],
            [
             0.5555555555555556,
             "#d8576b"
            ],
            [
             0.6666666666666666,
             "#ed7953"
            ],
            [
             0.7777777777777778,
             "#fb9f3a"
            ],
            [
             0.8888888888888888,
             "#fdca26"
            ],
            [
             1,
             "#f0f921"
            ]
           ]
          },
          "colorway": [
           "#636efa",
           "#EF553B",
           "#00cc96",
           "#ab63fa",
           "#FFA15A",
           "#19d3f3",
           "#FF6692",
           "#B6E880",
           "#FF97FF",
           "#FECB52"
          ],
          "font": {
           "color": "#2a3f5f"
          },
          "geo": {
           "bgcolor": "white",
           "lakecolor": "white",
           "landcolor": "#E5ECF6",
           "showlakes": true,
           "showland": true,
           "subunitcolor": "white"
          },
          "hoverlabel": {
           "align": "left"
          },
          "hovermode": "closest",
          "mapbox": {
           "style": "light"
          },
          "paper_bgcolor": "white",
          "plot_bgcolor": "#E5ECF6",
          "polar": {
           "angularaxis": {
            "gridcolor": "white",
            "linecolor": "white",
            "ticks": ""
           },
           "bgcolor": "#E5ECF6",
           "radialaxis": {
            "gridcolor": "white",
            "linecolor": "white",
            "ticks": ""
           }
          },
          "scene": {
           "xaxis": {
            "backgroundcolor": "#E5ECF6",
            "gridcolor": "white",
            "gridwidth": 2,
            "linecolor": "white",
            "showbackground": true,
            "ticks": "",
            "zerolinecolor": "white"
           },
           "yaxis": {
            "backgroundcolor": "#E5ECF6",
            "gridcolor": "white",
            "gridwidth": 2,
            "linecolor": "white",
            "showbackground": true,
            "ticks": "",
            "zerolinecolor": "white"
           },
           "zaxis": {
            "backgroundcolor": "#E5ECF6",
            "gridcolor": "white",
            "gridwidth": 2,
            "linecolor": "white",
            "showbackground": true,
            "ticks": "",
            "zerolinecolor": "white"
           }
          },
          "shapedefaults": {
           "line": {
            "color": "#2a3f5f"
           }
          },
          "ternary": {
           "aaxis": {
            "gridcolor": "white",
            "linecolor": "white",
            "ticks": ""
           },
           "baxis": {
            "gridcolor": "white",
            "linecolor": "white",
            "ticks": ""
           },
           "bgcolor": "#E5ECF6",
           "caxis": {
            "gridcolor": "white",
            "linecolor": "white",
            "ticks": ""
           }
          },
          "title": {
           "x": 0.05
          },
          "xaxis": {
           "automargin": true,
           "gridcolor": "white",
           "linecolor": "white",
           "ticks": "",
           "title": {
            "standoff": 15
           },
           "zerolinecolor": "white",
           "zerolinewidth": 2
          },
          "yaxis": {
           "automargin": true,
           "gridcolor": "white",
           "linecolor": "white",
           "ticks": "",
           "title": {
            "standoff": 15
           },
           "zerolinecolor": "white",
           "zerolinewidth": 2
          }
         }
        },
        "title": {
         "font": {
          "size": 16
         },
         "text": "Output for \"Out Degree Centrality\""
        },
        "xaxis": {
         "showgrid": false,
         "showticklabels": false,
         "zeroline": false
        },
        "yaxis": {
         "showgrid": false,
         "showticklabels": false,
         "zeroline": false
        }
       }
      }
     },
     "metadata": {},
     "output_type": "display_data"
    }
   ],
   "source": [
    "plot_network_graph(graph, centrality_measures[2])"
   ]
  },
  {
   "cell_type": "code",
   "execution_count": 22,
   "id": "0c85606e",
   "metadata": {},
   "outputs": [
    {
     "data": {
      "text/plain": [
       "plotly.graph_objs._scatter.Scatter"
      ]
     },
     "execution_count": 22,
     "metadata": {},
     "output_type": "execute_result"
    }
   ],
   "source": [
    "type(node_trace)"
   ]
  },
  {
   "cell_type": "code",
   "execution_count": 23,
   "id": "f5bcf8d1",
   "metadata": {},
   "outputs": [
    {
     "data": {
      "application/vnd.plotly.v1+json": {
       "config": {
        "plotlyServerURL": "https://plot.ly"
       },
       "data": [
        {
         "hoverinfo": "none",
         "line": {
          "color": "#888",
          "width": 0.5
         },
         "mode": "lines",
         "type": "scatter",
         "x": [
          -0.661647655472077,
          -0.453748201474495,
          0.7542328945940602,
          0.45780424793274066,
          0.19027153698553437,
          0.06739068170279942,
          0.9018212773801693,
          0.4638837186993375,
          0.5840432036002944,
          0.43257769434260623,
          -0.5986631605076346,
          -0.31161348147153645,
          -0.9379093022439051,
          -0.453748201474495,
          0.07854965195987065,
          0.10312426045991374,
          0.07854965195987065,
          0.06739068170279942,
          0.45780424793274066,
          0.06739068170279942,
          -0.13726273022971308,
          0.031589027437222084,
          0.12864222056611807,
          0.06739068170279942,
          -0.453748201474495,
          -0.485997878316457,
          -0.453748201474495,
          -0.8815545783171518,
          -0.453748201474495,
          -0.6952415242189656,
          -0.453748201474495,
          0.06739068170279942,
          0.17586970425654053,
          0.031589027437222084,
          -0.5004994355477904,
          -0.31161348147153645,
          0.031589027437222084,
          0.06739068170279942,
          0.031589027437222084,
          -0.015791455091789697,
          0.7322473742894505,
          0.4638837186993375,
          0.43257769434260623,
          0.7118999184886915,
          0.43257769434260623,
          0.06739068170279942,
          0.06739068170279942,
          0.4638837186993375,
          0.06739068170279942,
          -0.13401800980383566,
          0.06739068170279942,
          -0.31161348147153645
         ],
         "y": [
          -0.6922936061323914,
          -0.35473767719447585,
          -0.01756700002950581,
          -0.012282754641093161,
          -0.16873025644358305,
          -0.009126284935879294,
          0.43559845010050396,
          0.2814564561899618,
          -0.6190722830843911,
          -0.3528966195370915,
          0.3088830092865428,
          0.23447862843071485,
          -0.337560806412209,
          -0.35473767719447585,
          -0.40098276293978735,
          -0.7043068802258313,
          -0.40098276293978735,
          -0.009126284935879294,
          -0.012282754641093161,
          -0.009126284935879294,
          1,
          0.5337498230611248,
          0.191533418807399,
          -0.009126284935879294,
          -0.35473767719447585,
          -0.6361810423603033,
          -0.35473767719447585,
          -0.6260541255387069,
          -0.35473767719447585,
          -0.3845393614110206,
          -0.35473767719447585,
          -0.009126284935879294,
          0.9950923077843998,
          0.5337498230611248,
          0.4663710002040955,
          0.23447862843071485,
          0.5337498230611248,
          -0.009126284935879294,
          0.5337498230611248,
          0.7941887114352014,
          0.6142934680128456,
          0.2814564561899618,
          -0.3528966195370915,
          -0.48419759354564124,
          -0.3528966195370915,
          -0.009126284935879294,
          -0.009126284935879294,
          0.2814564561899618,
          -0.009126284935879294,
          -0.05511621888087983,
          -0.009126284935879294,
          0.23447862843071485
         ]
        },
        {
         "hoverinfo": "text",
         "marker": {
          "cmax": 0.5294117647058824,
          "cmin": 0.058823529411764705,
          "color": [
           0.058823529411764705,
           0.058823529411764705,
           0.1764705882352941,
           0.058823529411764705,
           0.11764705882352941,
           0.1764705882352941,
           0.058823529411764705,
           0.058823529411764705,
           0.058823529411764705,
           0.5294117647058824,
           0.058823529411764705,
           0.058823529411764705,
           0.058823529411764705,
           0.058823529411764705,
           0.058823529411764705,
           0.058823529411764705,
           0.23529411764705882,
           0.058823529411764705
          ],
          "colorbar": {
           "thickness": 15,
           "title": {
            "side": "right",
            "text": "Node Connections"
           },
           "xanchor": "left"
          },
          "colorscale": [
           [
            0,
            "rgb(255,255,217)"
           ],
           [
            0.125,
            "rgb(237,248,177)"
           ],
           [
            0.25,
            "rgb(199,233,180)"
           ],
           [
            0.375,
            "rgb(127,205,187)"
           ],
           [
            0.5,
            "rgb(65,182,196)"
           ],
           [
            0.625,
            "rgb(29,145,192)"
           ],
           [
            0.75,
            "rgb(34,94,168)"
           ],
           [
            0.875,
            "rgb(37,52,148)"
           ],
           [
            1,
            "rgb(8,29,88)"
           ]
          ],
          "line": {
           "width": 2
          },
          "reversescale": true,
          "showscale": true,
          "size": 10
         },
         "mode": "markers",
         "text": [
          "Node: 'C02D5.3'\n# of degrees: 0.058823529411764705",
          "Node: 'C29E4.7'\n# of degrees: 0.058823529411764705",
          "Node: 'C08F8.8'\n# of degrees: 0.1764705882352941",
          "Node: 'K02F3.5'\n# of degrees: 0.058823529411764705",
          "Node: 'C34C6.5'\n# of degrees: 0.11764705882352941",
          "Node: 'ZK686.4'\n# of degrees: 0.1764705882352941",
          "Node: 'ZC518.2'\n# of degrees: 0.058823529411764705",
          "Node: 'W02D3.11'\n# of degrees: 0.058823529411764705",
          "Node: 'C09D4.5'\n# of degrees: 0.058823529411764705",
          "Node: 'VC5.4'\n# of degrees: 0.5294117647058824",
          "Node: 'F55C5.8'\n# of degrees: 0.058823529411764705",
          "Node: 'C13F10.7'\n# of degrees: 0.058823529411764705",
          "Node: 'F45E1.6'\n# of degrees: 0.058823529411764705",
          "Node: 'C06A5.11'\n# of degrees: 0.058823529411764705",
          "Node: 'C02D5.4'\n# of degrees: 0.058823529411764705",
          "Node: 'F13A7.10'\n# of degrees: 0.058823529411764705",
          "Node: 'F32E10.4'\n# of degrees: 0.23529411764705882",
          "Node: 'F20D1.9'\n# of degrees: 0.058823529411764705"
         ],
         "type": "scatter",
         "x": [
          -0.661647655472077,
          0.7542328945940602,
          0.19027153698553437,
          0.9018212773801693,
          0.5840432036002944,
          -0.5986631605076346,
          -0.9379093022439051,
          0.07854965195987065,
          0.45780424793274066,
          -0.13726273022971308,
          0.12864222056611807,
          -0.453748201474495,
          0.17586970425654053,
          0.10312426045991374,
          -0.5004994355477904,
          0.031589027437222084,
          0.7322473742894505,
          0.43257769434260623,
          0.06739068170279942,
          0.7118999184886915,
          -0.8815545783171518,
          -0.485997878316457,
          -0.6952415242189656,
          -0.015791455091789697,
          0.4638837186993375,
          -0.31161348147153645,
          -0.13401800980383566
         ],
         "y": [
          -0.6922936061323914,
          -0.01756700002950581,
          -0.16873025644358305,
          0.43559845010050396,
          -0.6190722830843911,
          0.3088830092865428,
          -0.337560806412209,
          -0.40098276293978735,
          -0.012282754641093161,
          1,
          0.191533418807399,
          -0.35473767719447585,
          0.9950923077843998,
          -0.7043068802258313,
          0.4663710002040955,
          0.5337498230611248,
          0.6142934680128456,
          -0.3528966195370915,
          -0.009126284935879294,
          -0.48419759354564124,
          -0.6260541255387069,
          -0.6361810423603033,
          -0.3845393614110206,
          0.7941887114352014,
          0.2814564561899618,
          0.23447862843071485,
          -0.05511621888087983
         ]
        }
       ],
       "layout": {
        "hovermode": "closest",
        "margin": {
         "b": 20,
         "l": 5,
         "r": 5,
         "t": 40
        },
        "showlegend": false,
        "template": {
         "data": {
          "bar": [
           {
            "error_x": {
             "color": "#2a3f5f"
            },
            "error_y": {
             "color": "#2a3f5f"
            },
            "marker": {
             "line": {
              "color": "#E5ECF6",
              "width": 0.5
             },
             "pattern": {
              "fillmode": "overlay",
              "size": 10,
              "solidity": 0.2
             }
            },
            "type": "bar"
           }
          ],
          "barpolar": [
           {
            "marker": {
             "line": {
              "color": "#E5ECF6",
              "width": 0.5
             },
             "pattern": {
              "fillmode": "overlay",
              "size": 10,
              "solidity": 0.2
             }
            },
            "type": "barpolar"
           }
          ],
          "carpet": [
           {
            "aaxis": {
             "endlinecolor": "#2a3f5f",
             "gridcolor": "white",
             "linecolor": "white",
             "minorgridcolor": "white",
             "startlinecolor": "#2a3f5f"
            },
            "baxis": {
             "endlinecolor": "#2a3f5f",
             "gridcolor": "white",
             "linecolor": "white",
             "minorgridcolor": "white",
             "startlinecolor": "#2a3f5f"
            },
            "type": "carpet"
           }
          ],
          "choropleth": [
           {
            "colorbar": {
             "outlinewidth": 0,
             "ticks": ""
            },
            "type": "choropleth"
           }
          ],
          "contour": [
           {
            "colorbar": {
             "outlinewidth": 0,
             "ticks": ""
            },
            "colorscale": [
             [
              0,
              "#0d0887"
             ],
             [
              0.1111111111111111,
              "#46039f"
             ],
             [
              0.2222222222222222,
              "#7201a8"
             ],
             [
              0.3333333333333333,
              "#9c179e"
             ],
             [
              0.4444444444444444,
              "#bd3786"
             ],
             [
              0.5555555555555556,
              "#d8576b"
             ],
             [
              0.6666666666666666,
              "#ed7953"
             ],
             [
              0.7777777777777778,
              "#fb9f3a"
             ],
             [
              0.8888888888888888,
              "#fdca26"
             ],
             [
              1,
              "#f0f921"
             ]
            ],
            "type": "contour"
           }
          ],
          "contourcarpet": [
           {
            "colorbar": {
             "outlinewidth": 0,
             "ticks": ""
            },
            "type": "contourcarpet"
           }
          ],
          "heatmap": [
           {
            "colorbar": {
             "outlinewidth": 0,
             "ticks": ""
            },
            "colorscale": [
             [
              0,
              "#0d0887"
             ],
             [
              0.1111111111111111,
              "#46039f"
             ],
             [
              0.2222222222222222,
              "#7201a8"
             ],
             [
              0.3333333333333333,
              "#9c179e"
             ],
             [
              0.4444444444444444,
              "#bd3786"
             ],
             [
              0.5555555555555556,
              "#d8576b"
             ],
             [
              0.6666666666666666,
              "#ed7953"
             ],
             [
              0.7777777777777778,
              "#fb9f3a"
             ],
             [
              0.8888888888888888,
              "#fdca26"
             ],
             [
              1,
              "#f0f921"
             ]
            ],
            "type": "heatmap"
           }
          ],
          "heatmapgl": [
           {
            "colorbar": {
             "outlinewidth": 0,
             "ticks": ""
            },
            "colorscale": [
             [
              0,
              "#0d0887"
             ],
             [
              0.1111111111111111,
              "#46039f"
             ],
             [
              0.2222222222222222,
              "#7201a8"
             ],
             [
              0.3333333333333333,
              "#9c179e"
             ],
             [
              0.4444444444444444,
              "#bd3786"
             ],
             [
              0.5555555555555556,
              "#d8576b"
             ],
             [
              0.6666666666666666,
              "#ed7953"
             ],
             [
              0.7777777777777778,
              "#fb9f3a"
             ],
             [
              0.8888888888888888,
              "#fdca26"
             ],
             [
              1,
              "#f0f921"
             ]
            ],
            "type": "heatmapgl"
           }
          ],
          "histogram": [
           {
            "marker": {
             "pattern": {
              "fillmode": "overlay",
              "size": 10,
              "solidity": 0.2
             }
            },
            "type": "histogram"
           }
          ],
          "histogram2d": [
           {
            "colorbar": {
             "outlinewidth": 0,
             "ticks": ""
            },
            "colorscale": [
             [
              0,
              "#0d0887"
             ],
             [
              0.1111111111111111,
              "#46039f"
             ],
             [
              0.2222222222222222,
              "#7201a8"
             ],
             [
              0.3333333333333333,
              "#9c179e"
             ],
             [
              0.4444444444444444,
              "#bd3786"
             ],
             [
              0.5555555555555556,
              "#d8576b"
             ],
             [
              0.6666666666666666,
              "#ed7953"
             ],
             [
              0.7777777777777778,
              "#fb9f3a"
             ],
             [
              0.8888888888888888,
              "#fdca26"
             ],
             [
              1,
              "#f0f921"
             ]
            ],
            "type": "histogram2d"
           }
          ],
          "histogram2dcontour": [
           {
            "colorbar": {
             "outlinewidth": 0,
             "ticks": ""
            },
            "colorscale": [
             [
              0,
              "#0d0887"
             ],
             [
              0.1111111111111111,
              "#46039f"
             ],
             [
              0.2222222222222222,
              "#7201a8"
             ],
             [
              0.3333333333333333,
              "#9c179e"
             ],
             [
              0.4444444444444444,
              "#bd3786"
             ],
             [
              0.5555555555555556,
              "#d8576b"
             ],
             [
              0.6666666666666666,
              "#ed7953"
             ],
             [
              0.7777777777777778,
              "#fb9f3a"
             ],
             [
              0.8888888888888888,
              "#fdca26"
             ],
             [
              1,
              "#f0f921"
             ]
            ],
            "type": "histogram2dcontour"
           }
          ],
          "mesh3d": [
           {
            "colorbar": {
             "outlinewidth": 0,
             "ticks": ""
            },
            "type": "mesh3d"
           }
          ],
          "parcoords": [
           {
            "line": {
             "colorbar": {
              "outlinewidth": 0,
              "ticks": ""
             }
            },
            "type": "parcoords"
           }
          ],
          "pie": [
           {
            "automargin": true,
            "type": "pie"
           }
          ],
          "scatter": [
           {
            "fillpattern": {
             "fillmode": "overlay",
             "size": 10,
             "solidity": 0.2
            },
            "type": "scatter"
           }
          ],
          "scatter3d": [
           {
            "line": {
             "colorbar": {
              "outlinewidth": 0,
              "ticks": ""
             }
            },
            "marker": {
             "colorbar": {
              "outlinewidth": 0,
              "ticks": ""
             }
            },
            "type": "scatter3d"
           }
          ],
          "scattercarpet": [
           {
            "marker": {
             "colorbar": {
              "outlinewidth": 0,
              "ticks": ""
             }
            },
            "type": "scattercarpet"
           }
          ],
          "scattergeo": [
           {
            "marker": {
             "colorbar": {
              "outlinewidth": 0,
              "ticks": ""
             }
            },
            "type": "scattergeo"
           }
          ],
          "scattergl": [
           {
            "marker": {
             "colorbar": {
              "outlinewidth": 0,
              "ticks": ""
             }
            },
            "type": "scattergl"
           }
          ],
          "scattermapbox": [
           {
            "marker": {
             "colorbar": {
              "outlinewidth": 0,
              "ticks": ""
             }
            },
            "type": "scattermapbox"
           }
          ],
          "scatterpolar": [
           {
            "marker": {
             "colorbar": {
              "outlinewidth": 0,
              "ticks": ""
             }
            },
            "type": "scatterpolar"
           }
          ],
          "scatterpolargl": [
           {
            "marker": {
             "colorbar": {
              "outlinewidth": 0,
              "ticks": ""
             }
            },
            "type": "scatterpolargl"
           }
          ],
          "scatterternary": [
           {
            "marker": {
             "colorbar": {
              "outlinewidth": 0,
              "ticks": ""
             }
            },
            "type": "scatterternary"
           }
          ],
          "surface": [
           {
            "colorbar": {
             "outlinewidth": 0,
             "ticks": ""
            },
            "colorscale": [
             [
              0,
              "#0d0887"
             ],
             [
              0.1111111111111111,
              "#46039f"
             ],
             [
              0.2222222222222222,
              "#7201a8"
             ],
             [
              0.3333333333333333,
              "#9c179e"
             ],
             [
              0.4444444444444444,
              "#bd3786"
             ],
             [
              0.5555555555555556,
              "#d8576b"
             ],
             [
              0.6666666666666666,
              "#ed7953"
             ],
             [
              0.7777777777777778,
              "#fb9f3a"
             ],
             [
              0.8888888888888888,
              "#fdca26"
             ],
             [
              1,
              "#f0f921"
             ]
            ],
            "type": "surface"
           }
          ],
          "table": [
           {
            "cells": {
             "fill": {
              "color": "#EBF0F8"
             },
             "line": {
              "color": "white"
             }
            },
            "header": {
             "fill": {
              "color": "#C8D4E3"
             },
             "line": {
              "color": "white"
             }
            },
            "type": "table"
           }
          ]
         },
         "layout": {
          "annotationdefaults": {
           "arrowcolor": "#2a3f5f",
           "arrowhead": 0,
           "arrowwidth": 1
          },
          "autotypenumbers": "strict",
          "coloraxis": {
           "colorbar": {
            "outlinewidth": 0,
            "ticks": ""
           }
          },
          "colorscale": {
           "diverging": [
            [
             0,
             "#8e0152"
            ],
            [
             0.1,
             "#c51b7d"
            ],
            [
             0.2,
             "#de77ae"
            ],
            [
             0.3,
             "#f1b6da"
            ],
            [
             0.4,
             "#fde0ef"
            ],
            [
             0.5,
             "#f7f7f7"
            ],
            [
             0.6,
             "#e6f5d0"
            ],
            [
             0.7,
             "#b8e186"
            ],
            [
             0.8,
             "#7fbc41"
            ],
            [
             0.9,
             "#4d9221"
            ],
            [
             1,
             "#276419"
            ]
           ],
           "sequential": [
            [
             0,
             "#0d0887"
            ],
            [
             0.1111111111111111,
             "#46039f"
            ],
            [
             0.2222222222222222,
             "#7201a8"
            ],
            [
             0.3333333333333333,
             "#9c179e"
            ],
            [
             0.4444444444444444,
             "#bd3786"
            ],
            [
             0.5555555555555556,
             "#d8576b"
            ],
            [
             0.6666666666666666,
             "#ed7953"
            ],
            [
             0.7777777777777778,
             "#fb9f3a"
            ],
            [
             0.8888888888888888,
             "#fdca26"
            ],
            [
             1,
             "#f0f921"
            ]
           ],
           "sequentialminus": [
            [
             0,
             "#0d0887"
            ],
            [
             0.1111111111111111,
             "#46039f"
            ],
            [
             0.2222222222222222,
             "#7201a8"
            ],
            [
             0.3333333333333333,
             "#9c179e"
            ],
            [
             0.4444444444444444,
             "#bd3786"
            ],
            [
             0.5555555555555556,
             "#d8576b"
            ],
            [
             0.6666666666666666,
             "#ed7953"
            ],
            [
             0.7777777777777778,
             "#fb9f3a"
            ],
            [
             0.8888888888888888,
             "#fdca26"
            ],
            [
             1,
             "#f0f921"
            ]
           ]
          },
          "colorway": [
           "#636efa",
           "#EF553B",
           "#00cc96",
           "#ab63fa",
           "#FFA15A",
           "#19d3f3",
           "#FF6692",
           "#B6E880",
           "#FF97FF",
           "#FECB52"
          ],
          "font": {
           "color": "#2a3f5f"
          },
          "geo": {
           "bgcolor": "white",
           "lakecolor": "white",
           "landcolor": "#E5ECF6",
           "showlakes": true,
           "showland": true,
           "subunitcolor": "white"
          },
          "hoverlabel": {
           "align": "left"
          },
          "hovermode": "closest",
          "mapbox": {
           "style": "light"
          },
          "paper_bgcolor": "white",
          "plot_bgcolor": "#E5ECF6",
          "polar": {
           "angularaxis": {
            "gridcolor": "white",
            "linecolor": "white",
            "ticks": ""
           },
           "bgcolor": "#E5ECF6",
           "radialaxis": {
            "gridcolor": "white",
            "linecolor": "white",
            "ticks": ""
           }
          },
          "scene": {
           "xaxis": {
            "backgroundcolor": "#E5ECF6",
            "gridcolor": "white",
            "gridwidth": 2,
            "linecolor": "white",
            "showbackground": true,
            "ticks": "",
            "zerolinecolor": "white"
           },
           "yaxis": {
            "backgroundcolor": "#E5ECF6",
            "gridcolor": "white",
            "gridwidth": 2,
            "linecolor": "white",
            "showbackground": true,
            "ticks": "",
            "zerolinecolor": "white"
           },
           "zaxis": {
            "backgroundcolor": "#E5ECF6",
            "gridcolor": "white",
            "gridwidth": 2,
            "linecolor": "white",
            "showbackground": true,
            "ticks": "",
            "zerolinecolor": "white"
           }
          },
          "shapedefaults": {
           "line": {
            "color": "#2a3f5f"
           }
          },
          "ternary": {
           "aaxis": {
            "gridcolor": "white",
            "linecolor": "white",
            "ticks": ""
           },
           "baxis": {
            "gridcolor": "white",
            "linecolor": "white",
            "ticks": ""
           },
           "bgcolor": "#E5ECF6",
           "caxis": {
            "gridcolor": "white",
            "linecolor": "white",
            "ticks": ""
           }
          },
          "title": {
           "x": 0.05
          },
          "xaxis": {
           "automargin": true,
           "gridcolor": "white",
           "linecolor": "white",
           "ticks": "",
           "title": {
            "standoff": 15
           },
           "zerolinecolor": "white",
           "zerolinewidth": 2
          },
          "yaxis": {
           "automargin": true,
           "gridcolor": "white",
           "linecolor": "white",
           "ticks": "",
           "title": {
            "standoff": 15
           },
           "zerolinecolor": "white",
           "zerolinewidth": 2
          }
         }
        },
        "title": {
         "font": {
          "size": 16
         },
         "text": "<br>Network graph made with Python"
        },
        "xaxis": {
         "showgrid": false,
         "showticklabels": false,
         "zeroline": false
        },
        "yaxis": {
         "showgrid": false,
         "showticklabels": false,
         "zeroline": false
        }
       }
      }
     },
     "metadata": {},
     "output_type": "display_data"
    }
   ],
   "source": [
    "fig = go.Figure(data=[edge_trace, node_trace],\n",
    "             layout=go.Layout(\n",
    "                title='<br>Network graph made with Python',\n",
    "                titlefont_size=16,\n",
    "                showlegend=False,\n",
    "                hovermode='closest',\n",
    "                margin=dict(b=20,l=5,r=5,t=40),\n",
    "                # annotations=[ dict(\n",
    "                #     text=\"Python code: <a href='https://plotly.com/ipython-notebooks/network-graphs/'> https://plotly.com/ipython-notebooks/network-graphs/</a>\",\n",
    "                #     showarrow=False,\n",
    "                #     xref=\"paper\", yref=\"paper\",\n",
    "                #     x=0.005, y=-0.002 ) ],\n",
    "                xaxis=dict(showgrid=False, zeroline=False, showticklabels=False),\n",
    "                yaxis=dict(showgrid=False, zeroline=False, showticklabels=False))\n",
    "                )\n",
    "fig.show()"
   ]
  },
  {
   "cell_type": "code",
   "execution_count": null,
   "id": "b550d3c5",
   "metadata": {},
   "outputs": [],
   "source": [
    "nx.communicability_betweenness_centrality(graph_fly_sampleDraw_undirected)"
   ]
  },
  {
   "cell_type": "code",
   "execution_count": null,
   "id": "a3b909f0-1734-48c9-8cff-001739d137bb",
   "metadata": {},
   "outputs": [],
   "source": [
    "nx.in_degree_centrality(graph_fly_sampleDraw)"
   ]
  },
  {
   "cell_type": "code",
   "execution_count": null,
   "id": "68f93332-bb6f-49f6-8915-280c864130fa",
   "metadata": {},
   "outputs": [],
   "source": [
    "nx.betweenness_centrality(graph_fly_sampleDraw)"
   ]
  },
  {
   "cell_type": "code",
   "execution_count": null,
   "id": "dd95b6ef-bf99-446a-955b-317b13123340",
   "metadata": {},
   "outputs": [],
   "source": [
    "#nx.current_flow_betweenness_centrality(graph_fly_sampleDraw)\n",
    "#for undirected graphs only"
   ]
  },
  {
   "cell_type": "code",
   "execution_count": null,
   "id": "328e1db6-36ef-4574-bf94-25fa9a139ea0",
   "metadata": {},
   "outputs": [],
   "source": [
    "nx.closeness_centrality(graph_fly_sampleDraw)"
   ]
  },
  {
   "cell_type": "code",
   "execution_count": null,
   "id": "92f4800d-bf56-4519-82e4-bb08408cea08",
   "metadata": {},
   "outputs": [],
   "source": [
    "# nx.eigenvector_centrality(graph_fly_sampleDraw)\n",
    "# for connected graphs only"
   ]
  },
  {
   "cell_type": "code",
   "execution_count": null,
   "id": "fff395a4-2918-44ba-b5c7-5933f00b9d3f",
   "metadata": {},
   "outputs": [],
   "source": [
    "#nx.current_flow_closeness_centrality(graph_fly_sampleDraw)\n",
    "#for undirected graphs only"
   ]
  },
  {
   "cell_type": "code",
   "execution_count": null,
   "id": "ee6c9d52-3f85-48ec-a5b0-aecdbd743545",
   "metadata": {},
   "outputs": [],
   "source": [
    "#nx.communicability(graph_fly_sampleDraw)\n",
    "#for undirected graphs only"
   ]
  },
  {
   "cell_type": "code",
   "execution_count": null,
   "id": "a8710800-fc5c-4f67-a5d2-fcd5f7b716cc",
   "metadata": {},
   "outputs": [],
   "source": [
    "nx.load_centrality(graph_fly_sampleDraw)"
   ]
  },
  {
   "cell_type": "code",
   "execution_count": null,
   "id": "5f317c2c",
   "metadata": {},
   "outputs": [],
   "source": []
  }
 ],
 "metadata": {
  "kernelspec": {
   "display_name": "Python 3.9.13 ('mgma')",
   "language": "python",
   "name": "python3"
  },
  "language_info": {
   "codemirror_mode": {
    "name": "ipython",
    "version": 3
   },
   "file_extension": ".py",
   "mimetype": "text/x-python",
   "name": "python",
   "nbconvert_exporter": "python",
   "pygments_lexer": "ipython3",
   "version": "3.9.13"
  },
  "vscode": {
   "interpreter": {
    "hash": "92ef103fe91e85206b7889fe480710be6f2a014beb113cc84edd8d6030adeb48"
   }
  }
 },
 "nbformat": 4,
 "nbformat_minor": 5
}
