{
 "cells": [
  {
   "cell_type": "code",
   "execution_count": 1,
   "id": "8477c89f-d8b1-48a2-a44e-ad2a4b41ae6e",
   "metadata": {},
   "outputs": [],
   "source": [
    "import networkx as nx\n",
    "import pandas as pd\n",
    "import matplotlib.pyplot as plt\n",
    "\n",
    "from os.path import join, exists, isfile, isdir, abspath, dirname, basename, realpath\n",
    "from os import makedirs, listdir, pardir, getcwd\n",
    "\n",
    "import ipywidgets as widgets\n",
    "from ipywidgets import interact, interactive, fixed, interact_manual, Dropdown, Text, GridBox, VBox, HBox, Accordion, BoundedIntText, Checkbox, Layout, IntProgress, Tab, Image, Button\n",
    "from IPython.display import display, Javascript\n",
    "\n",
    "from IPython.core.interactiveshell import InteractiveShell\n",
    "InteractiveShell.ast_node_interactivity = \"all\""
   ]
  },
  {
   "cell_type": "code",
   "execution_count": 2,
   "id": "50e10c6d",
   "metadata": {},
   "outputs": [],
   "source": [
    "df = None\n",
    "workspace_path = '20210711_160044_0x32eb876b82af807e'\n",
    "alphas = list()\n",
    "symbols = list()\n",
    "total_dates = 5\n",
    "dates = list()\n",
    "response = None\n",
    "is_rename_columns=True\n",
    "show_intra_day=False\n",
    "show_term_behavior_plot=False\n",
    "show_logs=False\n",
    "show_profile_report=False\n",
    "show_settings=False\n",
    "responses=['y_0.001_adm3levelnotrade', 'y_0.0025_adm3levelnotrade', 'y_0.005_adm3levelnotrade', 'y_0.01_adm3levelnotrade']"
   ]
  },
  {
   "cell_type": "code",
   "execution_count": 3,
   "id": "02951b07",
   "metadata": {},
   "outputs": [],
   "source": [
    "# Interactive Widget component(s)\n",
    "\n",
    "w_workspace_path = Text(value=workspace_path, placeholder='Enter workspace path', description='Workspace ', disabled=False)\n",
    "w_responses = Dropdown(options=responses, value=responses[0], description='Response ', disabled=False)\n",
    "w_total_dates = BoundedIntText(value=total_dates, description='Total dates ', min=1, max=50, step=1, disabled=False)\n",
    "\n",
    "w_rename_columns = Checkbox(value=is_rename_columns, description='Rename df.columns', disabled=False)\n",
    "w_show_intra_day = Checkbox(value=show_intra_day, description='Show intraday', disabled=False)\n",
    "w_show_term_behavior_plot = Checkbox(value=show_term_behavior_plot, description='Show term behavior', disabled=False)\n",
    "\n",
    "w_show_logs = Checkbox(value=show_logs, description='Show Logs', disabled=False)\n",
    "w_show_profile_report = Checkbox(value=show_profile_report, description='Show Profile Report', disabled=False)\n",
    "w_show_settings = Checkbox(value=show_settings, description='Show settings', disabled=False)"
   ]
  },
  {
   "cell_type": "code",
   "execution_count": 4,
   "id": "4c85a758",
   "metadata": {},
   "outputs": [],
   "source": [
    "# Disable \"Rename df.columns\" when \"Show logs\" is selected\n",
    "\n",
    "def disable_rename(x):\n",
    "    w_rename_columns.disabled = w_show_logs.value\n",
    "    w_show_intra_day.disabled = w_show_logs.value\n",
    "    w_show_term_behavior_plot.disabled = w_show_logs.value\n",
    "    w_rename_columns.value = not w_show_logs.value\n",
    "    \n",
    "w_show_logs.observe(disable_rename, 'value')"
   ]
  },
  {
   "cell_type": "code",
   "execution_count": 5,
   "id": "d517daeb",
   "metadata": {},
   "outputs": [],
   "source": [
    "# List of all component(s) that needs to be displayed\n",
    "\n",
    "meta_data = [ w_workspace_path, w_responses, w_total_dates, w_rename_columns, w_show_intra_day, w_show_term_behavior_plot, w_show_logs, w_show_profile_report, w_show_settings ]\n",
    "\n",
    "grid_box = GridBox(meta_data, layout=Layout(grid_template_columns=\"repeat(3, 33.34%)\"))"
   ]
  },
  {
   "cell_type": "code",
   "execution_count": 6,
   "id": "9116f3f9",
   "metadata": {},
   "outputs": [
    {
     "data": {
      "application/vnd.jupyter.widget-view+json": {
       "model_id": "3a2a57d08b514e81bade4abca4dd73e4",
       "version_major": 2,
       "version_minor": 0
      },
      "text/plain": [
       "GridBox(children=(Text(value='20210711_160044_0x32eb876b82af807e', description='Workspace ', placeholder='Ente…"
      ]
     },
     "execution_count": 6,
     "metadata": {},
     "output_type": "execute_result"
    }
   ],
   "source": [
    "grid_box"
   ]
  },
  {
   "cell_type": "code",
   "execution_count": 7,
   "id": "942890ed",
   "metadata": {},
   "outputs": [],
   "source": [
    "parent_dir = abspath(join(join(getcwd(), pardir), pardir))\n",
    "data_dir = join(parent_dir, 'data')"
   ]
  },
  {
   "cell_type": "code",
   "execution_count": 8,
   "id": "d6014333",
   "metadata": {},
   "outputs": [
    {
     "ename": "ImportError",
     "evalue": "Could not import backend for traitsui.  Make sure you\n        have a suitable UI toolkit like PyQt/PySide or wxPython\n        installed.",
     "output_type": "error",
     "traceback": [
      "\u001b[0;31m---------------------------------------------------------------------------\u001b[0m",
      "\u001b[0;31mImportError\u001b[0m                               Traceback (most recent call last)",
      "Cell \u001b[0;32mIn [8], line 20\u001b[0m\n\u001b[1;32m     17\u001b[0m \u001b[38;5;66;03m# scalar colors\u001b[39;00m\n\u001b[1;32m     18\u001b[0m scalars \u001b[38;5;241m=\u001b[39m np\u001b[38;5;241m.\u001b[39marray(\u001b[38;5;28mlist\u001b[39m(G\u001b[38;5;241m.\u001b[39mnodes())) \u001b[38;5;241m+\u001b[39m \u001b[38;5;241m5\u001b[39m\n\u001b[0;32m---> 20\u001b[0m mlab\u001b[38;5;241m.\u001b[39mfigure()\n\u001b[1;32m     22\u001b[0m pts \u001b[38;5;241m=\u001b[39m mlab\u001b[38;5;241m.\u001b[39mpoints3d(\n\u001b[1;32m     23\u001b[0m     xyz[:, \u001b[38;5;241m0\u001b[39m],\n\u001b[1;32m     24\u001b[0m     xyz[:, \u001b[38;5;241m1\u001b[39m],\n\u001b[0;32m   (...)\u001b[0m\n\u001b[1;32m     30\u001b[0m     resolution\u001b[38;5;241m=\u001b[39m\u001b[38;5;241m20\u001b[39m,\n\u001b[1;32m     31\u001b[0m )\n\u001b[1;32m     33\u001b[0m pts\u001b[38;5;241m.\u001b[39mmlab_source\u001b[38;5;241m.\u001b[39mdataset\u001b[38;5;241m.\u001b[39mlines \u001b[38;5;241m=\u001b[39m np\u001b[38;5;241m.\u001b[39marray(\u001b[38;5;28mlist\u001b[39m(G\u001b[38;5;241m.\u001b[39medges()))\n",
      "File \u001b[0;32m/opt/homebrew/anaconda3/envs/mgma/lib/python3.10/site-packages/mayavi/tools/figure.py:64\u001b[0m, in \u001b[0;36mfigure\u001b[0;34m(figure, bgcolor, fgcolor, engine, size)\u001b[0m\n\u001b[1;32m     62\u001b[0m \u001b[39melse\u001b[39;00m:\n\u001b[1;32m     63\u001b[0m     \u001b[39mif\u001b[39;00m engine \u001b[39mis\u001b[39;00m \u001b[39mNone\u001b[39;00m:\n\u001b[0;32m---> 64\u001b[0m         engine \u001b[39m=\u001b[39m get_engine()\n\u001b[1;32m     65\u001b[0m     \u001b[39mif\u001b[39;00m figure \u001b[39mis\u001b[39;00m \u001b[39mNone\u001b[39;00m:\n\u001b[1;32m     66\u001b[0m         name \u001b[39m=\u001b[39m \u001b[39mmax\u001b[39m(__scene_number_list) \u001b[39m+\u001b[39m \u001b[39m1\u001b[39m\n",
      "File \u001b[0;32m/opt/homebrew/anaconda3/envs/mgma/lib/python3.10/site-packages/mayavi/tools/engine_manager.py:94\u001b[0m, in \u001b[0;36mEngineManager.get_engine\u001b[0;34m(self)\u001b[0m\n\u001b[1;32m     91\u001b[0m     suitable \u001b[39m=\u001b[39m [e \u001b[39mfor\u001b[39;00m e \u001b[39min\u001b[39;00m engines\n\u001b[1;32m     92\u001b[0m                 \u001b[39mif\u001b[39;00m e\u001b[39m.\u001b[39m\u001b[39m__class__\u001b[39m\u001b[39m.\u001b[39m\u001b[39m__name__\u001b[39m \u001b[39m==\u001b[39m \u001b[39m'\u001b[39m\u001b[39mEngine\u001b[39m\u001b[39m'\u001b[39m]\n\u001b[1;32m     93\u001b[0m \u001b[39mif\u001b[39;00m \u001b[39mlen\u001b[39m(suitable) \u001b[39m==\u001b[39m \u001b[39m0\u001b[39m:\n\u001b[0;32m---> 94\u001b[0m     \u001b[39mreturn\u001b[39;00m \u001b[39mself\u001b[39;49m\u001b[39m.\u001b[39;49mnew_engine()\n\u001b[1;32m     95\u001b[0m \u001b[39melse\u001b[39;00m:\n\u001b[1;32m     96\u001b[0m     \u001b[39m# Return the most engine add to the list most recently.\u001b[39;00m\n\u001b[1;32m     97\u001b[0m     \u001b[39mself\u001b[39m\u001b[39m.\u001b[39mcurrent_engine \u001b[39m=\u001b[39m suitable[\u001b[39m-\u001b[39m\u001b[39m1\u001b[39m]\n",
      "File \u001b[0;32m/opt/homebrew/anaconda3/envs/mgma/lib/python3.10/site-packages/mayavi/tools/engine_manager.py:139\u001b[0m, in \u001b[0;36mEngineManager.new_engine\u001b[0;34m(self)\u001b[0m\n\u001b[1;32m    135\u001b[0m \u001b[39mdef\u001b[39;00m \u001b[39mnew_engine\u001b[39m(\u001b[39mself\u001b[39m):\n\u001b[1;32m    136\u001b[0m     \u001b[39m\"\"\" Creates a new engine, envisage or not depending on the\u001b[39;00m\n\u001b[1;32m    137\u001b[0m \u001b[39m        options.\u001b[39;00m\n\u001b[1;32m    138\u001b[0m \u001b[39m    \"\"\"\u001b[39;00m\n\u001b[0;32m--> 139\u001b[0m     check_backend()\n\u001b[1;32m    140\u001b[0m     \u001b[39mif\u001b[39;00m options\u001b[39m.\u001b[39mbackend \u001b[39m==\u001b[39m \u001b[39m'\u001b[39m\u001b[39menvisage\u001b[39m\u001b[39m'\u001b[39m:\n\u001b[1;32m    141\u001b[0m         \u001b[39mfrom\u001b[39;00m \u001b[39mmayavi\u001b[39;00m\u001b[39m.\u001b[39;00m\u001b[39mplugins\u001b[39;00m\u001b[39m.\u001b[39;00m\u001b[39mapp\u001b[39;00m \u001b[39mimport\u001b[39;00m Mayavi\n",
      "File \u001b[0;32m/opt/homebrew/anaconda3/envs/mgma/lib/python3.10/site-packages/mayavi/tools/engine_manager.py:42\u001b[0m, in \u001b[0;36mcheck_backend\u001b[0;34m()\u001b[0m\n\u001b[1;32m     37\u001b[0m \u001b[39mif\u001b[39;00m (options\u001b[39m.\u001b[39mbackend \u001b[39m!=\u001b[39m \u001b[39m'\u001b[39m\u001b[39mtest\u001b[39m\u001b[39m'\u001b[39m \u001b[39mand\u001b[39;00m \u001b[39mnot\u001b[39;00m options\u001b[39m.\u001b[39moffscreen) \u001b[39mand\u001b[39;00m \\\n\u001b[1;32m     38\u001b[0m    (ETSConfig\u001b[39m.\u001b[39mtoolkit \u001b[39min\u001b[39;00m (\u001b[39m'\u001b[39m\u001b[39mnull\u001b[39m\u001b[39m'\u001b[39m, \u001b[39m'\u001b[39m\u001b[39m'\u001b[39m) \u001b[39mand\u001b[39;00m env_toolkit \u001b[39m!=\u001b[39m \u001b[39m'\u001b[39m\u001b[39mnull\u001b[39m\u001b[39m'\u001b[39m):\n\u001b[1;32m     39\u001b[0m     msg \u001b[39m=\u001b[39m \u001b[39m'''\u001b[39m\u001b[39mCould not import backend for traitsui.  Make sure you\u001b[39m\n\u001b[1;32m     40\u001b[0m \u001b[39m    have a suitable UI toolkit like PyQt/PySide or wxPython\u001b[39m\n\u001b[1;32m     41\u001b[0m \u001b[39m    installed.\u001b[39m\u001b[39m'''\u001b[39m\n\u001b[0;32m---> 42\u001b[0m     \u001b[39mraise\u001b[39;00m \u001b[39mImportError\u001b[39;00m(msg)\n",
      "\u001b[0;31mImportError\u001b[0m: Could not import backend for traitsui.  Make sure you\n        have a suitable UI toolkit like PyQt/PySide or wxPython\n        installed."
     ]
    }
   ],
   "source": [
    "import networkx as nx\n",
    "import numpy as np\n",
    "from mayavi import mlab\n",
    "\n",
    "# some graphs to try\n",
    "# H=nx.krackhardt_kite_graph()\n",
    "# H=nx.Graph();H.add_edge('a','b');H.add_edge('a','c');H.add_edge('a','d')\n",
    "# H=nx.grid_2d_graph(4,5)\n",
    "H = nx.cycle_graph(20)\n",
    "\n",
    "# reorder nodes from 0,len(G)-1\n",
    "G = nx.convert_node_labels_to_integers(H)\n",
    "# 3d spring layout\n",
    "pos = nx.spring_layout(G, dim=3, seed=1001)\n",
    "# numpy array of x,y,z positions in sorted node order\n",
    "xyz = np.array([pos[v] for v in sorted(G)])\n",
    "# scalar colors\n",
    "scalars = np.array(list(G.nodes())) + 5\n",
    "\n",
    "mlab.figure()\n",
    "\n",
    "pts = mlab.points3d(\n",
    "    xyz[:, 0],\n",
    "    xyz[:, 1],\n",
    "    xyz[:, 2],\n",
    "    scalars,\n",
    "    scale_factor=0.1,\n",
    "    scale_mode=\"none\",\n",
    "    colormap=\"Blues\",\n",
    "    resolution=20,\n",
    ")\n",
    "\n",
    "pts.mlab_source.dataset.lines = np.array(list(G.edges()))\n",
    "tube = mlab.pipeline.tube(pts, tube_radius=0.01)\n",
    "mlab.pipeline.surface(tube, color=(0.8, 0.8, 0.8))\n",
    "mlab.orientation_axes()"
   ]
  },
  {
   "cell_type": "code",
   "execution_count": null,
   "id": "18bae153-12a9-4e0d-bfc1-b210a8c89f76",
   "metadata": {},
   "outputs": [],
   "source": [
    "#create the graphs\n",
    "#sampleDraw is created for the subgraphs' visualization\n",
    "graph_fly=nx.DiGraph()\n",
    "graph_fly.clear()\n",
    "graph_sworm=nx.DiGraph()\n",
    "graph_sworm.clear()\n",
    "graph_fly_sampleDraw=nx.DiGraph()\n",
    "graph_fly_sampleDraw.clear()\n",
    "graph_sworm_sampleDraw=nx.DiGraph()\n",
    "graph_sworm_sampleDraw.clear()"
   ]
  },
  {
   "cell_type": "code",
   "execution_count": null,
   "id": "3696b752-a9e0-4052-9c9b-73a6382f5701",
   "metadata": {},
   "outputs": [],
   "source": [
    "#import the data\n",
    "#data source: https://www.inetbio.org/wormnet/downloadnetwork.php\n",
    "file_fly = pd.read_csv(join(data_dir, \"DM-HT.txt\"), sep=\"\\t\",header=None)\n",
    "file_sworm = pd.read_csv(join(data_dir, \"CE-HT.txt\"), sep=\"\\t\",header=None)\n",
    "file_fly_sampleDraw=file_fly.head(5)\n",
    "file_sworm_sampleDraw=file_sworm.head(5)"
   ]
  },
  {
   "cell_type": "code",
   "execution_count": null,
   "id": "27ad5f24-c967-41a3-9311-0a48b913a2a0",
   "metadata": {},
   "outputs": [],
   "source": [
    "file_fly_sampleDraw"
   ]
  },
  {
   "cell_type": "code",
   "execution_count": null,
   "id": "17e8a564-f629-484d-9d76-b7eb9920f2f6",
   "metadata": {},
   "outputs": [],
   "source": [
    "#add data into directed graphs with weights\n",
    "for row in file_fly.iterrows():\n",
    "    graph_fly.add_edge(row[1][0],row[1][1],weight=row[1][2])\n",
    "for row in file_sworm.iterrows():\n",
    "    graph_sworm.add_edge(row[1][0],row[1][1],weight=row[1][2])\n",
    "for row in file_fly_sampleDraw.iterrows():\n",
    "    graph_fly_sampleDraw.add_edge(row[1][0],row[1][1],weight=round(float(row[1][2]),2))\n",
    "for row in file_sworm_sampleDraw.iterrows():\n",
    "    graph_sworm_sampleDraw.add_edge(row[1][0],row[1][1],weight=row[1][2])"
   ]
  },
  {
   "cell_type": "code",
   "execution_count": null,
   "id": "d425006c-de83-442e-b351-1d415c81f9ed",
   "metadata": {},
   "outputs": [],
   "source": [
    "#draw the sample subgraph in matplotlib\n",
    "pos=nx.planar_layout(graph_fly_sampleDraw)\n",
    "labels = nx.get_edge_attributes(graph_fly_sampleDraw,'weight')\n",
    "nx.draw(graph_fly_sampleDraw,with_labels=True,pos=pos)\n",
    "nx.draw_networkx_edge_labels(graph_fly_sampleDraw,pos=pos,edge_labels=labels,verticalalignment=\"bottom\",font_size=10)\n",
    "ax = plt.gca()\n",
    "ax.margins(0.1)\n",
    "plt.axis(\"on\")\n",
    "plt.title(\"Subgraph of Flies' Protein-protien Interactions\")\n",
    "plt.show()"
   ]
  },
  {
   "cell_type": "markdown",
   "id": "930ae4bf-423c-4373-9a26-d5b20595bcbd",
   "metadata": {},
   "source": [
    "————————————————————————————————————\n",
    "**Graph algorithms**  \n",
    "references:\n",
    "https://networkx.org/documentation/networkx-1.10/reference/algorithms.centrality.html"
   ]
  },
  {
   "cell_type": "code",
   "execution_count": null,
   "id": "6d534418-ca45-44fe-a8fd-583da6d94f9f",
   "metadata": {},
   "outputs": [],
   "source": [
    "nx.degree_centrality(graph_fly_sampleDraw)"
   ]
  },
  {
   "cell_type": "code",
   "execution_count": null,
   "id": "a3b909f0-1734-48c9-8cff-001739d137bb",
   "metadata": {},
   "outputs": [],
   "source": [
    "nx.in_degree_centrality(graph_fly_sampleDraw)"
   ]
  },
  {
   "cell_type": "code",
   "execution_count": null,
   "id": "68f93332-bb6f-49f6-8915-280c864130fa",
   "metadata": {},
   "outputs": [],
   "source": [
    "nx.betweenness_centrality(graph_fly_sampleDraw)"
   ]
  },
  {
   "cell_type": "code",
   "execution_count": null,
   "id": "dd95b6ef-bf99-446a-955b-317b13123340",
   "metadata": {},
   "outputs": [],
   "source": [
    "#nx.current_flow_betweenness_centrality(graph_fly_sampleDraw)\n",
    "#for undirected graphs only"
   ]
  },
  {
   "cell_type": "code",
   "execution_count": null,
   "id": "328e1db6-36ef-4574-bf94-25fa9a139ea0",
   "metadata": {},
   "outputs": [],
   "source": [
    "nx.closeness_centrality(graph_fly_sampleDraw)"
   ]
  },
  {
   "cell_type": "code",
   "execution_count": null,
   "id": "92f4800d-bf56-4519-82e4-bb08408cea08",
   "metadata": {},
   "outputs": [],
   "source": [
    "# nx.eigenvector_centrality(graph_fly_sampleDraw)\n",
    "# for connected graphs only"
   ]
  },
  {
   "cell_type": "code",
   "execution_count": null,
   "id": "fff395a4-2918-44ba-b5c7-5933f00b9d3f",
   "metadata": {},
   "outputs": [],
   "source": [
    "#nx.current_flow_closeness_centrality(graph_fly_sampleDraw)\n",
    "#for undirected graphs only"
   ]
  },
  {
   "cell_type": "code",
   "execution_count": null,
   "id": "ee6c9d52-3f85-48ec-a5b0-aecdbd743545",
   "metadata": {},
   "outputs": [],
   "source": [
    "#nx.communicability(graph_fly_sampleDraw)\n",
    "#for undirected graphs only"
   ]
  },
  {
   "cell_type": "code",
   "execution_count": null,
   "id": "a8710800-fc5c-4f67-a5d2-fcd5f7b716cc",
   "metadata": {},
   "outputs": [],
   "source": [
    "nx.load_centrality(graph_fly_sampleDraw)"
   ]
  },
  {
   "cell_type": "code",
   "execution_count": null,
   "id": "abebc5a5",
   "metadata": {},
   "outputs": [],
   "source": []
  }
 ],
 "metadata": {
  "kernelspec": {
   "display_name": "Python 3.10.4 ('mgma')",
   "language": "python",
   "name": "python3"
  },
  "language_info": {
   "codemirror_mode": {
    "name": "ipython",
    "version": 3
   },
   "file_extension": ".py",
   "mimetype": "text/x-python",
   "name": "python",
   "nbconvert_exporter": "python",
   "pygments_lexer": "ipython3",
   "version": "3.10.4"
  },
  "vscode": {
   "interpreter": {
    "hash": "302ae96be06011f85048f8d172163035fb29e7c23cfa7ae7e48a07bd12d24630"
   }
  }
 },
 "nbformat": 4,
 "nbformat_minor": 5
}
