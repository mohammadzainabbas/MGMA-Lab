{
 "cells": [
  {
   "cell_type": "code",
   "execution_count": null,
   "id": "8477c89f-d8b1-48a2-a44e-ad2a4b41ae6e",
   "metadata": {},
   "outputs": [],
   "source": [
    "import networkx as nx\n",
    "import pandas as pd\n",
    "import matplotlib.pyplot as plt\n",
    "\n",
    "from os.path import join, exists, isfile, isdir, abspath, dirname, basename, realpath\n",
    "from os import makedirs, listdir, pardir, getcwd\n",
    "\n",
    "import ipywidgets as widgets\n",
    "from ipywidgets import interact, interactive, fixed, interact_manual, Dropdown, Text, GridBox, VBox, HBox, Accordion, BoundedIntText, Checkbox, Layout, IntProgress, Tab, Image, Button\n",
    "from IPython.display import display, Javascript\n",
    "\n",
    "from IPython.core.interactiveshell import InteractiveShell\n",
    "InteractiveShell.ast_node_interactivity = \"all\""
   ]
  },
  {
   "cell_type": "code",
   "execution_count": null,
   "id": "50e10c6d",
   "metadata": {},
   "outputs": [],
   "source": [
    "df = None\n",
    "workspace_path = '20210711_160044_0x32eb876b82af807e'\n",
    "alphas = list()\n",
    "symbols = list()\n",
    "total_dates = 5\n",
    "dates = list()\n",
    "response = None\n",
    "is_rename_columns=True\n",
    "show_intra_day=False\n",
    "show_term_behavior_plot=False\n",
    "show_logs=False\n",
    "show_profile_report=False\n",
    "show_settings=False\n",
    "responses=['y_0.001_adm3levelnotrade', 'y_0.0025_adm3levelnotrade', 'y_0.005_adm3levelnotrade', 'y_0.01_adm3levelnotrade']"
   ]
  },
  {
   "cell_type": "code",
   "execution_count": null,
   "id": "02951b07",
   "metadata": {},
   "outputs": [],
   "source": [
    "# Interactive Widget component(s)\n",
    "\n",
    "w_workspace_path = Text(value=workspace_path, placeholder='Enter workspace path', description='Workspace ', disabled=False)\n",
    "w_responses = Dropdown(options=responses, value=responses[0], description='Response ', disabled=False)\n",
    "w_total_dates = BoundedIntText(value=total_dates, description='Total dates ', min=1, max=50, step=1, disabled=False)\n",
    "\n",
    "w_rename_columns = Checkbox(value=is_rename_columns, description='Rename df.columns', disabled=False)\n",
    "w_show_intra_day = Checkbox(value=show_intra_day, description='Show intraday', disabled=False)\n",
    "w_show_term_behavior_plot = Checkbox(value=show_term_behavior_plot, description='Show term behavior', disabled=False)\n",
    "\n",
    "w_show_logs = Checkbox(value=show_logs, description='Show Logs', disabled=False)\n",
    "w_show_profile_report = Checkbox(value=show_profile_report, description='Show Profile Report', disabled=False)\n",
    "w_show_settings = Checkbox(value=show_settings, description='Show settings', disabled=False)"
   ]
  },
  {
   "cell_type": "code",
   "execution_count": null,
   "id": "942890ed",
   "metadata": {},
   "outputs": [],
   "source": [
    "parent_dir = abspath(join(join(getcwd(), pardir), pardir))\n",
    "data_dir = join(parent_dir, 'data')"
   ]
  },
  {
   "cell_type": "code",
   "execution_count": null,
   "id": "d6014333",
   "metadata": {},
   "outputs": [],
   "source": [
    "import networkx as nx\n",
    "import numpy as np\n",
    "from mayavi import mlab\n",
    "\n",
    "# some graphs to try\n",
    "# H=nx.krackhardt_kite_graph()\n",
    "# H=nx.Graph();H.add_edge('a','b');H.add_edge('a','c');H.add_edge('a','d')\n",
    "# H=nx.grid_2d_graph(4,5)\n",
    "H = nx.cycle_graph(20)\n",
    "\n",
    "# reorder nodes from 0,len(G)-1\n",
    "G = nx.convert_node_labels_to_integers(H)\n",
    "# 3d spring layout\n",
    "pos = nx.spring_layout(G, dim=3, seed=1001)\n",
    "# numpy array of x,y,z positions in sorted node order\n",
    "xyz = np.array([pos[v] for v in sorted(G)])\n",
    "# scalar colors\n",
    "scalars = np.array(list(G.nodes())) + 5\n",
    "\n",
    "mlab.figure()\n",
    "\n",
    "pts = mlab.points3d(\n",
    "    xyz[:, 0],\n",
    "    xyz[:, 1],\n",
    "    xyz[:, 2],\n",
    "    scalars,\n",
    "    scale_factor=0.1,\n",
    "    scale_mode=\"none\",\n",
    "    colormap=\"Blues\",\n",
    "    resolution=20,\n",
    ")\n",
    "\n",
    "pts.mlab_source.dataset.lines = np.array(list(G.edges()))\n",
    "tube = mlab.pipeline.tube(pts, tube_radius=0.01)\n",
    "mlab.pipeline.surface(tube, color=(0.8, 0.8, 0.8))\n",
    "mlab.orientation_axes()"
   ]
  },
  {
   "cell_type": "code",
   "execution_count": null,
   "id": "18bae153-12a9-4e0d-bfc1-b210a8c89f76",
   "metadata": {},
   "outputs": [],
   "source": [
    "#create the graphs\n",
    "#sampleDraw is created for the subgraphs' visualization\n",
    "graph_fly=nx.DiGraph()\n",
    "graph_fly.clear()\n",
    "graph_sworm=nx.DiGraph()\n",
    "graph_sworm.clear()\n",
    "graph_fly_sampleDraw=nx.DiGraph()\n",
    "graph_fly_sampleDraw.clear()\n",
    "graph_sworm_sampleDraw=nx.DiGraph()\n",
    "graph_sworm_sampleDraw.clear()"
   ]
  },
  {
   "cell_type": "code",
   "execution_count": null,
   "id": "3696b752-a9e0-4052-9c9b-73a6382f5701",
   "metadata": {},
   "outputs": [],
   "source": [
    "#import the data\n",
    "#data source: https://www.inetbio.org/wormnet/downloadnetwork.php\n",
    "file_fly = pd.read_csv(join(data_dir, \"DM-HT.txt\"), sep=\"\\t\",header=None)\n",
    "file_sworm = pd.read_csv(join(data_dir, \"CE-HT.txt\"), sep=\"\\t\",header=None)\n",
    "file_fly_sampleDraw=file_fly.head(5)\n",
    "file_sworm_sampleDraw=file_sworm.head(5)"
   ]
  },
  {
   "cell_type": "code",
   "execution_count": null,
   "id": "27ad5f24-c967-41a3-9311-0a48b913a2a0",
   "metadata": {},
   "outputs": [],
   "source": [
    "file_fly_sampleDraw"
   ]
  },
  {
   "cell_type": "code",
   "execution_count": null,
   "id": "17e8a564-f629-484d-9d76-b7eb9920f2f6",
   "metadata": {},
   "outputs": [],
   "source": [
    "#add data into directed graphs with weights\n",
    "for row in file_fly.iterrows():\n",
    "    graph_fly.add_edge(row[1][0],row[1][1],weight=row[1][2])\n",
    "for row in file_sworm.iterrows():\n",
    "    graph_sworm.add_edge(row[1][0],row[1][1],weight=row[1][2])\n",
    "for row in file_fly_sampleDraw.iterrows():\n",
    "    graph_fly_sampleDraw.add_edge(row[1][0],row[1][1],weight=round(float(row[1][2]),2))\n",
    "for row in file_sworm_sampleDraw.iterrows():\n",
    "    graph_sworm_sampleDraw.add_edge(row[1][0],row[1][1],weight=row[1][2])"
   ]
  },
  {
   "cell_type": "code",
   "execution_count": null,
   "id": "d425006c-de83-442e-b351-1d415c81f9ed",
   "metadata": {},
   "outputs": [],
   "source": [
    "#draw the sample subgraph in matplotlib\n",
    "pos=nx.planar_layout(graph_fly_sampleDraw)\n",
    "labels = nx.get_edge_attributes(graph_fly_sampleDraw,'weight')\n",
    "nx.draw(graph_fly_sampleDraw,with_labels=True,pos=pos)\n",
    "nx.draw_networkx_edge_labels(graph_fly_sampleDraw,pos=pos,edge_labels=labels,verticalalignment=\"bottom\",font_size=10)\n",
    "ax = plt.gca()\n",
    "ax.margins(0.1)\n",
    "plt.axis(\"on\")\n",
    "plt.title(\"Subgraph of Flies' Protein-protien Interactions\")\n",
    "plt.show()"
   ]
  },
  {
   "cell_type": "markdown",
   "id": "930ae4bf-423c-4373-9a26-d5b20595bcbd",
   "metadata": {},
   "source": [
    "————————————————————————————————————\n",
    "**Graph algorithms**  \n",
    "references:\n",
    "https://networkx.org/documentation/networkx-1.10/reference/algorithms.centrality.html"
   ]
  },
  {
   "cell_type": "code",
   "execution_count": null,
   "id": "6d534418-ca45-44fe-a8fd-583da6d94f9f",
   "metadata": {},
   "outputs": [],
   "source": [
    "nx.degree_centrality(graph_fly_sampleDraw)"
   ]
  },
  {
   "cell_type": "code",
   "execution_count": null,
   "id": "a3b909f0-1734-48c9-8cff-001739d137bb",
   "metadata": {},
   "outputs": [],
   "source": [
    "nx.in_degree_centrality(graph_fly_sampleDraw)"
   ]
  },
  {
   "cell_type": "code",
   "execution_count": null,
   "id": "68f93332-bb6f-49f6-8915-280c864130fa",
   "metadata": {},
   "outputs": [],
   "source": [
    "nx.betweenness_centrality(graph_fly_sampleDraw)"
   ]
  },
  {
   "cell_type": "code",
   "execution_count": null,
   "id": "dd95b6ef-bf99-446a-955b-317b13123340",
   "metadata": {},
   "outputs": [],
   "source": [
    "#nx.current_flow_betweenness_centrality(graph_fly_sampleDraw)\n",
    "#for undirected graphs only"
   ]
  },
  {
   "cell_type": "code",
   "execution_count": null,
   "id": "328e1db6-36ef-4574-bf94-25fa9a139ea0",
   "metadata": {},
   "outputs": [],
   "source": [
    "nx.closeness_centrality(graph_fly_sampleDraw)"
   ]
  },
  {
   "cell_type": "code",
   "execution_count": null,
   "id": "92f4800d-bf56-4519-82e4-bb08408cea08",
   "metadata": {},
   "outputs": [],
   "source": [
    "# nx.eigenvector_centrality(graph_fly_sampleDraw)\n",
    "# for connected graphs only"
   ]
  },
  {
   "cell_type": "code",
   "execution_count": null,
   "id": "fff395a4-2918-44ba-b5c7-5933f00b9d3f",
   "metadata": {},
   "outputs": [],
   "source": [
    "#nx.current_flow_closeness_centrality(graph_fly_sampleDraw)\n",
    "#for undirected graphs only"
   ]
  },
  {
   "cell_type": "code",
   "execution_count": null,
   "id": "ee6c9d52-3f85-48ec-a5b0-aecdbd743545",
   "metadata": {},
   "outputs": [],
   "source": [
    "#nx.communicability(graph_fly_sampleDraw)\n",
    "#for undirected graphs only"
   ]
  },
  {
   "cell_type": "code",
   "execution_count": null,
   "id": "a8710800-fc5c-4f67-a5d2-fcd5f7b716cc",
   "metadata": {},
   "outputs": [],
   "source": [
    "nx.load_centrality(graph_fly_sampleDraw)"
   ]
  },
  {
   "cell_type": "code",
   "execution_count": null,
   "id": "abebc5a5",
   "metadata": {},
   "outputs": [],
   "source": []
  }
 ],
 "metadata": {
  "kernelspec": {
   "display_name": "Python 3.10.4 ('mgma')",
   "language": "python",
   "name": "python3"
  },
  "language_info": {
   "codemirror_mode": {
    "name": "ipython",
    "version": 3
   },
   "file_extension": ".py",
   "mimetype": "text/x-python",
   "name": "python",
   "nbconvert_exporter": "python",
   "pygments_lexer": "ipython3",
   "version": "3.10.4"
  },
  "vscode": {
   "interpreter": {
    "hash": "302ae96be06011f85048f8d172163035fb29e7c23cfa7ae7e48a07bd12d24630"
   }
  }
 },
 "nbformat": 4,
 "nbformat_minor": 5
}
