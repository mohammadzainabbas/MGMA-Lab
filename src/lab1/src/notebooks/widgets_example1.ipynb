{
 "cells": [
  {
   "cell_type": "code",
   "execution_count": 1,
   "id": "8477c89f-d8b1-48a2-a44e-ad2a4b41ae6e",
   "metadata": {},
   "outputs": [],
   "source": [
    "from os.path import join, exists, isfile, isdir, abspath, dirname, basename, realpath\n",
    "from os import makedirs, listdir, pardir, getcwd\n",
    "\n",
    "import ipywidgets as widgets\n",
    "from ipywidgets import interact, interactive, fixed, interact_manual, Dropdown, Text, GridBox, VBox, HBox, Accordion, BoundedIntText, Checkbox, Layout, IntProgress, Tab, Image, Button\n",
    "from IPython.display import display, Javascript\n",
    "\n",
    "from IPython.core.interactiveshell import InteractiveShell\n",
    "InteractiveShell.ast_node_interactivity = \"all\""
   ]
  },
  {
   "cell_type": "code",
   "execution_count": 2,
   "id": "942890ed",
   "metadata": {},
   "outputs": [],
   "source": [
    "parent_dir = abspath(join(join(getcwd(), pardir), pardir))\n",
    "data_dir = join(parent_dir, 'data')"
   ]
  },
  {
   "cell_type": "code",
   "execution_count": 21,
   "id": "50e10c6d",
   "metadata": {},
   "outputs": [],
   "source": [
    "data_files = [x for x in listdir(data_dir) if isfile(join(data_dir, x))]\n",
    "algos = ['betweenness', 'eigen']\n",
    "no_of_algo=3\n",
    "show_algo_comparsion=True\n",
    "show_dataset_comparsion=False\n",
    "show_verbose=False"
   ]
  },
  {
   "cell_type": "code",
   "execution_count": 22,
   "id": "02951b07",
   "metadata": {},
   "outputs": [
    {
     "ename": "IndexError",
     "evalue": "list index out of range",
     "output_type": "error",
     "traceback": [
      "\u001b[0;31m---------------------------------------------------------------------------\u001b[0m",
      "\u001b[0;31mIndexError\u001b[0m                                Traceback (most recent call last)",
      "Cell \u001b[0;32mIn [22], line 4\u001b[0m\n\u001b[1;32m      1\u001b[0m \u001b[38;5;66;03m# Interactive Widget component(s)\u001b[39;00m\n\u001b[1;32m      3\u001b[0m w_dataset \u001b[38;5;241m=\u001b[39m Dropdown(options\u001b[38;5;241m=\u001b[39mdata_files, value\u001b[38;5;241m=\u001b[39mdata_files[\u001b[38;5;241m0\u001b[39m], description\u001b[38;5;241m=\u001b[39m\u001b[38;5;124m'\u001b[39m\u001b[38;5;124mDataset \u001b[39m\u001b[38;5;124m'\u001b[39m, disabled\u001b[38;5;241m=\u001b[39m\u001b[38;5;28;01mFalse\u001b[39;00m)\n\u001b[0;32m----> 4\u001b[0m w_algo_list \u001b[38;5;241m=\u001b[39m Dropdown(options\u001b[38;5;241m=\u001b[39malgos, value\u001b[38;5;241m=\u001b[39malgos[\u001b[38;5;241m0\u001b[39m], description\u001b[38;5;241m=\u001b[39m\u001b[38;5;124m'\u001b[39m\u001b[38;5;124mAlgorihtm \u001b[39m\u001b[38;5;124m'\u001b[39m, disabled\u001b[38;5;241m=\u001b[39m\u001b[38;5;28;01mFalse\u001b[39;00m)\n\u001b[1;32m      5\u001b[0m \u001b[38;5;66;03m# w_algo = BoundedIntText(value=no_of_algo, description='Total algo ', min=1, max=5, step=1, disabled=False)\u001b[39;00m\n\u001b[1;32m      7\u001b[0m w_show_algo_comparsion \u001b[38;5;241m=\u001b[39m Checkbox(value\u001b[38;5;241m=\u001b[39mshow_algo_comparsion, description\u001b[38;5;241m=\u001b[39m\u001b[38;5;124m'\u001b[39m\u001b[38;5;124mShow Algo. Comparsion\u001b[39m\u001b[38;5;124m'\u001b[39m, disabled\u001b[38;5;241m=\u001b[39m\u001b[38;5;28;01mFalse\u001b[39;00m)\n",
      "\u001b[0;31mIndexError\u001b[0m: list index out of range"
     ]
    }
   ],
   "source": [
    "# Interactive Widget component(s)\n",
    "\n",
    "w_dataset = Dropdown(options=data_files, value=data_files[0], description='Dataset ', disabled=False)\n",
    "w_algo_list = Dropdown(options=algos, value=algos[0], description='Algorihtm ', disabled=False)\n",
    "# w_algo = BoundedIntText(value=no_of_algo, description='Total algo ', min=1, max=5, step=1, disabled=False)\n",
    "\n",
    "w_show_algo_comparsion = Checkbox(value=show_algo_comparsion, description='Show Algo. Comparsion', disabled=False)\n",
    "w_show_dataset_comparsion = Checkbox(value=show_dataset_comparsion, description='Show Dataset Comparsion', disabled=False)\n",
    "w_show_verbose = Checkbox(value=show_verbose, description='Show Verbose', disabled=False)"
   ]
  },
  {
   "cell_type": "code",
   "execution_count": 4,
   "id": "4c85a758",
   "metadata": {},
   "outputs": [],
   "source": [
    "# # Disable \"Rename df.columns\" when \"Show logs\" is selected\n",
    "\n",
    "# def disable_rename(x):\n",
    "#     w_rename_columns.disabled = w_show_logs.value\n",
    "#     w_show_intra_day.disabled = w_show_logs.value\n",
    "#     w_show_term_behavior_plot.disabled = w_show_logs.value\n",
    "#     w_rename_columns.value = not w_show_logs.value\n",
    "    \n",
    "# w_show_logs.observe(disable_rename, 'value')"
   ]
  },
  {
   "cell_type": "code",
   "execution_count": 5,
   "id": "e7f4c1bf-19c9-48a7-8dc5-af5cdb1833f6",
   "metadata": {},
   "outputs": [],
   "source": [
    "# List of all component(s) that needs to be displayed\n",
    "\n",
    "meta_data = [ w_workspace_path, w_responses, w_total_dates, w_rename_columns, w_show_intra_day, w_show_term_behavior_plot, w_show_logs, w_show_profile_report, w_show_settings ]"
   ]
  },
  {
   "cell_type": "code",
   "execution_count": 6,
   "id": "9c45346c-d23e-41aa-8377-e87c2c593495",
   "metadata": {},
   "outputs": [
    {
     "data": {
      "application/vnd.jupyter.widget-view+json": {
       "model_id": "8004ab1e36e54035bd0e2eb4d199d6c3",
       "version_major": 2,
       "version_minor": 0
      },
      "text/plain": [
       "GridBox(children=(Text(value='20210711_160044_0x32eb876b82af807e', description='Workspace ', placeholder='Ente…"
      ]
     },
     "execution_count": 6,
     "metadata": {},
     "output_type": "execute_result"
    }
   ],
   "source": [
    "GridBox(meta_data, layout=Layout(grid_template_columns=\"repeat(3, 33.34%)\"))"
   ]
  },
  {
   "cell_type": "code",
   "execution_count": 6,
   "id": "9116f3f9",
   "metadata": {},
   "outputs": [
    {
     "data": {
      "application/vnd.jupyter.widget-view+json": {
       "model_id": "3a2a57d08b514e81bade4abca4dd73e4",
       "version_major": 2,
       "version_minor": 0
      },
      "text/plain": [
       "GridBox(children=(Text(value='20210711_160044_0x32eb876b82af807e', description='Workspace ', placeholder='Ente…"
      ]
     },
     "execution_count": 6,
     "metadata": {},
     "output_type": "execute_result"
    }
   ],
   "source": [
    "grid_box"
   ]
  },
  {
   "cell_type": "code",
   "execution_count": null,
   "id": "abebc5a5",
   "metadata": {},
   "outputs": [],
   "source": []
  }
 ],
 "metadata": {
  "kernelspec": {
   "display_name": "Py MGMA",
   "language": "python",
   "name": "mgma"
  },
  "language_info": {
   "codemirror_mode": {
    "name": "ipython",
    "version": 3
   },
   "file_extension": ".py",
   "mimetype": "text/x-python",
   "name": "python",
   "nbconvert_exporter": "python",
   "pygments_lexer": "ipython3",
   "version": "3.10.4"
  },
  "vscode": {
   "interpreter": {
    "hash": "302ae96be06011f85048f8d172163035fb29e7c23cfa7ae7e48a07bd12d24630"
   }
  }
 },
 "nbformat": 4,
 "nbformat_minor": 5
}
