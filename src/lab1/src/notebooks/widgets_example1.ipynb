{
 "cells": [
  {
   "cell_type": "code",
   "execution_count": 1,
   "id": "8477c89f-d8b1-48a2-a44e-ad2a4b41ae6e",
   "metadata": {},
   "outputs": [],
   "source": [
    "from os.path import join, exists, isfile, isdir, abspath, dirname, basename, realpath\n",
    "from os import makedirs, listdir, pardir, getcwd\n",
    "\n",
    "import ipywidgets as widgets\n",
    "from ipywidgets import interact, interactive, fixed, interact_manual, Dropdown, Text, GridBox, VBox, HBox, Accordion, BoundedIntText, Checkbox, Layout, IntProgress, Tab, Image, Button\n",
    "from IPython.display import display, Javascript\n",
    "\n",
    "from IPython.core.interactiveshell import InteractiveShell\n",
    "InteractiveShell.ast_node_interactivity = \"all\""
   ]
  },
  {
   "cell_type": "code",
   "execution_count": 2,
   "id": "942890ed",
   "metadata": {},
   "outputs": [],
   "source": [
    "parent_dir = abspath(join(join(getcwd(), pardir), pardir))\n",
    "data_dir = join(parent_dir, 'data')"
   ]
  },
  {
   "cell_type": "code",
   "execution_count": 20,
   "id": "50e10c6d",
   "metadata": {},
   "outputs": [],
   "source": [
    "data_files = [x for x in listdir(data_dir) if isfile(join(data_dir, x))]\n",
    "algos = []\n",
    "no_of_algo=3\n",
    "show_algo_comparsion=True\n",
    "show_dataset_comparsion=False\n",
    "show_verbose=False"
   ]
  },
  {
   "cell_type": "code",
   "execution_count": 3,
   "id": "02951b07",
   "metadata": {},
   "outputs": [],
   "source": [
    "# Interactive Widget component(s)\n",
    "\n",
    "w_dataset = Dropdown(options=data_files, value=data_files[0], description='Dataset ', disabled=False)\n",
    "w_algo_list = Dropdown(options=algos, value=algos[0], description='Algorihtm ', disabled=False)\n",
    "# w_algo = BoundedIntText(value=no_of_algo, description='Total algo ', min=1, max=5, step=1, disabled=False)\n",
    "\n",
    "w_rename_columns = Checkbox(value=is_rename_columns, description='Rename df.columns', disabled=False)\n",
    "w_show_intra_day = Checkbox(value=show_intra_day, description='Show intraday', disabled=False)\n",
    "w_show_term_behavior_plot = Checkbox(value=show_term_behavior_plot, description='Show term behavior', disabled=False)\n",
    "\n",
    "w_show_logs = Checkbox(value=show_logs, description='Show Logs', disabled=False)\n",
    "w_show_profile_report = Checkbox(value=show_profile_report, description='Show Profile Report', disabled=False)\n",
    "w_show_settings = Checkbox(value=show_settings, description='Show settings', disabled=False)"
   ]
  },
  {
   "cell_type": "code",
   "execution_count": 4,
   "id": "4c85a758",
   "metadata": {},
   "outputs": [],
   "source": [
    "# Disable \"Rename df.columns\" when \"Show logs\" is selected\n",
    "\n",
    "def disable_rename(x):\n",
    "    w_rename_columns.disabled = w_show_logs.value\n",
    "    w_show_intra_day.disabled = w_show_logs.value\n",
    "    w_show_term_behavior_plot.disabled = w_show_logs.value\n",
    "    w_rename_columns.value = not w_show_logs.value\n",
    "    \n",
    "w_show_logs.observe(disable_rename, 'value')"
   ]
  },
  {
   "cell_type": "code",
   "execution_count": 5,
   "id": "e7f4c1bf-19c9-48a7-8dc5-af5cdb1833f6",
   "metadata": {},
   "outputs": [],
   "source": [
    "# List of all component(s) that needs to be displayed\n",
    "\n",
    "meta_data = [ w_workspace_path, w_responses, w_total_dates, w_rename_columns, w_show_intra_day, w_show_term_behavior_plot, w_show_logs, w_show_profile_report, w_show_settings ]"
   ]
  },
  {
   "cell_type": "code",
   "execution_count": 6,
   "id": "9c45346c-d23e-41aa-8377-e87c2c593495",
   "metadata": {},
   "outputs": [
    {
     "data": {
      "application/vnd.jupyter.widget-view+json": {
       "model_id": "8004ab1e36e54035bd0e2eb4d199d6c3",
       "version_major": 2,
       "version_minor": 0
      },
      "text/plain": [
       "GridBox(children=(Text(value='20210711_160044_0x32eb876b82af807e', description='Workspace ', placeholder='Ente…"
      ]
     },
     "execution_count": 6,
     "metadata": {},
     "output_type": "execute_result"
    }
   ],
   "source": [
    "GridBox(meta_data, layout=Layout(grid_template_columns=\"repeat(3, 33.34%)\"))"
   ]
  },
  {
   "cell_type": "code",
   "execution_count": 6,
   "id": "9116f3f9",
   "metadata": {},
   "outputs": [
    {
     "data": {
      "application/vnd.jupyter.widget-view+json": {
       "model_id": "3a2a57d08b514e81bade4abca4dd73e4",
       "version_major": 2,
       "version_minor": 0
      },
      "text/plain": [
       "GridBox(children=(Text(value='20210711_160044_0x32eb876b82af807e', description='Workspace ', placeholder='Ente…"
      ]
     },
     "execution_count": 6,
     "metadata": {},
     "output_type": "execute_result"
    }
   ],
   "source": [
    "grid_box"
   ]
  },
  {
   "cell_type": "code",
   "execution_count": null,
   "id": "abebc5a5",
   "metadata": {},
   "outputs": [],
   "source": []
  }
 ],
 "metadata": {
  "kernelspec": {
   "display_name": "Py MGMA",
   "language": "python",
   "name": "mgma"
  },
  "language_info": {
   "codemirror_mode": {
    "name": "ipython",
    "version": 3
   },
   "file_extension": ".py",
   "mimetype": "text/x-python",
   "name": "python",
   "nbconvert_exporter": "python",
   "pygments_lexer": "ipython3",
   "version": "3.10.4"
  },
  "vscode": {
   "interpreter": {
    "hash": "302ae96be06011f85048f8d172163035fb29e7c23cfa7ae7e48a07bd12d24630"
   }
  }
 },
 "nbformat": 4,
 "nbformat_minor": 5
}
