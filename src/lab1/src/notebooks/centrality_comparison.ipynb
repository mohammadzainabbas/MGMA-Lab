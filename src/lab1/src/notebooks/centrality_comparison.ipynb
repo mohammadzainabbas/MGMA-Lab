{
 "cells": [
  {
   "cell_type": "code",
   "execution_count": 30,
   "id": "8477c89f-d8b1-48a2-a44e-ad2a4b41ae6e",
   "metadata": {},
   "outputs": [],
   "source": [
    "import pandas as pd\n",
    "import numpy as np\n",
    "import networkx as nx\n",
    "import matplotlib.pyplot as plt\n",
    "import logging as log\n",
    "from enum import Enum\n",
    "from os.path import join, exists, isfile, isdir, abspath, dirname, basename, realpath\n",
    "from os import makedirs, listdir, pardir, getcwd\n",
    "from dataclasses import dataclass, field\n",
    "from typing import Union\n",
    "\n",
    "from IPython.core.interactiveshell import InteractiveShell\n",
    "InteractiveShell.ast_node_interactivity = \"all\""
   ]
  },
  {
   "cell_type": "markdown",
   "id": "cd52414b",
   "metadata": {},
   "source": [
    "#### Helpful classes"
   ]
  },
  {
   "cell_type": "code",
   "execution_count": 31,
   "id": "39d0532c",
   "metadata": {},
   "outputs": [],
   "source": [
    "@dataclass(frozen=False, order=False)\n",
    "class CentralityAlgorithm:\n",
    "    \"\"\"\n",
    "    A data-class to store centrality measures arguments and other options\n",
    "    \"\"\"\n",
    "    name: str = field(default=\"\")\n",
    "    func: object = field(default=print)\n",
    "    args: dict = field(default_factory=dict)\n",
    "    options: dict = field(default_factory=dict)\n",
    "\n",
    "@dataclass(frozen=False, order=False)\n",
    "class CentralityAlgorithmOutput:\n",
    "    \"\"\"\n",
    "    A data-class to store centrality measures results\n",
    "    \"\"\"\n",
    "    name: str = field(default=\"\")\n",
    "    result: dict = field(default_factory=dict)\n",
    "    options: dict = field(default_factory=dict)\n",
    "\n",
    "class GRAPH_TYPE(str, Enum):\n",
    "    BOTH = \"both\"\n",
    "    DIRECTED = \"directed\"\n",
    "    def __str__(self) -> str:\n",
    "        return self.value"
   ]
  },
  {
   "cell_type": "markdown",
   "id": "265c8365",
   "metadata": {},
   "source": [
    "##### Helpful functions"
   ]
  },
  {
   "cell_type": "code",
   "execution_count": 32,
   "id": "ed4553a9",
   "metadata": {},
   "outputs": [],
   "source": [
    "def undirected_to_directed(graph: nx.Graph) -> nx.DiGraph:\n",
    "    \"\"\"\n",
    "    Converts an undirected graph to a directed graph\n",
    "    \"\"\"\n",
    "    di_graph = nx.DiGraph()\n",
    "    di_graph.add_edges_from(graph.edges())\n",
    "    return di_graph\n",
    "\n",
    "def get_graph(graph: nx.Graph, graph_type: str) -> Union[nx.Graph, nx.DiGraph]:\n",
    "    \"\"\"\n",
    "    Returns the graph based on the graph type\n",
    "    \"\"\"\n",
    "    if graph_type == str(GRAPH_TYPE.DIRECTED):\n",
    "        return undirected_to_directed(graph)\n",
    "    elif graph_type == str(GRAPH_TYPE.BOTH):\n",
    "        return graph\n",
    "    else:\n",
    "        print_error(f\"Unknown graph type: {graph_type}\")\n",
    "        return graph\n",
    "\n",
    "def convert_to_normal(snake_case: str) -> str:\n",
    "    \"\"\"\n",
    "    Converts a snake case string to a normal title string\n",
    "\n",
    "    Input:  \"in_degree_centrality\"\n",
    "    Output: \"In Degree Centrality\"\n",
    "    \"\"\"\n",
    "    components = snake_case.split('_')\n",
    "    return \" \".join(x.title() for x in components)\n",
    "\n",
    "def print_log(text: str):\n",
    "    \"\"\"\n",
    "    Prints the log\n",
    "    \"\"\"\n",
    "    print(f\"[ log ]: {text}\")\n",
    "    # log.info(f\"[ log ]: {text}\")\n",
    "\n",
    "def print_error(text: str):\n",
    "    \"\"\"\n",
    "    Prints the error\n",
    "    \"\"\"\n",
    "    print(f\"[ error ]: {text}\")\n",
    "    # log.warn(f\"[ error ]: {text}\")"
   ]
  },
  {
   "cell_type": "markdown",
   "id": "f59fe7b8",
   "metadata": {},
   "source": [
    "#### Let's pick centrality algorithms (and the configurations)"
   ]
  },
  {
   "cell_type": "code",
   "execution_count": 33,
   "id": "c9db0df2",
   "metadata": {},
   "outputs": [],
   "source": [
    "algorithms_to_run = []\n",
    "algorithms_to_run.append(CentralityAlgorithm(\"degree_centrality\", nx.degree_centrality, {}, {\"direction\":\"both\"}))\n",
    "algorithms_to_run.append(CentralityAlgorithm(\"in_degree_centrality\", nx.in_degree_centrality, {}, {\"direction\":\"directed\"}))\n",
    "algorithms_to_run.append(CentralityAlgorithm(\"out_degree_centrality\", nx.out_degree_centrality, {}, {\"direction\":\"directed\"}))\n",
    "algorithms_to_run.append(CentralityAlgorithm(\"eigenvector_centrality\", nx.eigenvector_centrality, {\"max_iter\":100,\"tol\":1.0e-6,\"weight\":\"weight\"}, {\"direction\":\"both\"}))\n",
    "algorithms_to_run.append(CentralityAlgorithm(\"katz_centrality\", nx.katz_centrality, {\"alpha\":0.1,\"beta\":1.0,\"max_iter\":1000,\"tol\":1.0e-6,\"normalized\":True,\"weight\":\"weight\"}, {\"direction\":\"both\"}))\n",
    "algorithms_to_run.append(CentralityAlgorithm(\"pagerank\", nx.pagerank, {\"alpha\":0.85,\"max_iter\":100,\"tol\":1.0e-6,\"weight\":\"weight\"}, {\"direction\":\"both\"}))\n",
    "algorithms_to_run.append(CentralityAlgorithm(\"voterank\", nx.voterank, {\"number_of_nodes\":10}, {\"direction\":\"both\"}))\n",
    "algorithms_to_run.append(CentralityAlgorithm(\"closeness_centrality\", nx.closeness_centrality, {\"distance\":\"weight\"}, {\"direction\":\"both\"}))\n",
    "algorithms_to_run.append(CentralityAlgorithm(\"harmonic_centrality\", nx.harmonic_centrality, {\"distance\":\"weight\"}, {\"direction\":\"both\"}))\n",
    "algorithms_to_run.append(CentralityAlgorithm(\"betweenness_centrality\", nx.betweenness_centrality, {\"k\":None,\"seed\":7,\"normalized\":True,\"weight\":\"weight\"}, {\"direction\":\"both\"}))"
   ]
  },
  {
   "cell_type": "markdown",
   "id": "1a228895",
   "metadata": {},
   "source": [
    "#### Get data"
   ]
  },
  {
   "cell_type": "code",
   "execution_count": 34,
   "id": "942890ed",
   "metadata": {},
   "outputs": [],
   "source": [
    "parent_dir = abspath(join(join(getcwd(), pardir), pardir))\n",
    "data_dir = join(parent_dir, 'data')"
   ]
  },
  {
   "cell_type": "code",
   "execution_count": 164,
   "id": "4a197da6",
   "metadata": {},
   "outputs": [
    {
     "name": "stdout",
     "output_type": "stream",
     "text": [
      "Graph with 27 nodes and 21 edges\n"
     ]
    }
   ],
   "source": [
    "# graph = nx.read_edgelist(join(data_dir, \"DM-HT.txt\"), nodetype=str, data=((\"weight\", float),))\n",
    "graph = nx.read_edgelist(join(data_dir, \"DM-HT_small.txt\"), nodetype=str, data=((\"weight\", float),))\n",
    "di_graph = undirected_to_directed(graph)\n",
    "print(f\"{graph}\")"
   ]
  },
  {
   "cell_type": "code",
   "execution_count": 165,
   "id": "d8e72801",
   "metadata": {},
   "outputs": [
    {
     "data": {
      "text/plain": [
       "{'4R79.2', 'F33A8.4', 'K08E4.1', 'Y37E3.9', 'Y59A8B.1'}"
      ]
     },
     "execution_count": 165,
     "metadata": {},
     "output_type": "execute_result"
    }
   ],
   "source": [
    "largest_cc = max(nx.connected_components(graph), key=len)\n",
    "largest_cc"
   ]
  },
  {
   "cell_type": "code",
   "execution_count": 172,
   "id": "ff414d0c",
   "metadata": {},
   "outputs": [
    {
     "data": {
      "text/plain": [
       "['4R79.2']"
      ]
     },
     "execution_count": 172,
     "metadata": {},
     "output_type": "execute_result"
    }
   ],
   "source": [
    "list(graph.adj['Y37E3.9'])"
   ]
  },
  {
   "cell_type": "code",
   "execution_count": 168,
   "id": "2272baeb",
   "metadata": {},
   "outputs": [
    {
     "name": "stdout",
     "output_type": "stream",
     "text": [
      "{'4R79.2', 'F33A8.4', 'K08E4.1', 'Y59A8B.1', 'Y37E3.9'}\n",
      "{'AC3.2', 'C55A6.10'}\n",
      "{'F55F8.5', 'AC3.8', 'AC3.7', 'C36B7.6', 'R166.2'}\n",
      "{'AC7.2', 'F59F5.6'}\n",
      "{'Y74C9A.3', 'K08H2.6', 'B0024.11', 'K01G5.2'}\n",
      "{'M142.1', 'B0024.13'}\n",
      "{'T16H12.5', 'D2021.2', 'B0024.14'}\n",
      "{'B0024.9', 'T27A10.3', 'ZK370.2', 'T27E9.3'}\n"
     ]
    }
   ],
   "source": [
    "for x in nx.connected_components(graph):\n",
    "    print(x)"
   ]
  },
  {
   "cell_type": "code",
   "execution_count": 159,
   "id": "836b87ab",
   "metadata": {},
   "outputs": [],
   "source": [
    "# import itertools\n",
    "# largest_cc = set(itertools.islice(largest_cc, 5))\n",
    "# largest_cc"
   ]
  },
  {
   "cell_type": "code",
   "execution_count": null,
   "id": "c8744c2a",
   "metadata": {},
   "outputs": [],
   "source": [
    "nx.draw(nx.subgraph(graph, largest_cc))\n",
    "# nx.is_connected(nx.subgraph(graph, list(largest_cc)[:25]))\n",
    "# nx.is_connected(nx.subgraph(graph, largest_cc))"
   ]
  },
  {
   "cell_type": "code",
   "execution_count": null,
   "id": "d77c25e6",
   "metadata": {},
   "outputs": [],
   "source": [
    "def make_graph_connected(graph: nx.Graph, sample_size: int = 25, sorted_cc: list = list(), verbose: bool = False, plot: bool = False) -> nx.Graph:\n",
    "    \"\"\"\n",
    "    Connect the graph by adding more edges between the nodes of connected components\n",
    "    \"\"\"\n",
    "    if sample_size <= 0: raise ValueError(f\"Invalid sample size: {sample_size}\")\n",
    "    if len(sorted_cc) <= 1: raise ValueError(f\"Invalid connected component list\")\n",
    "    \n",
    "    largest_cc = sorted_cc[0]\n",
    "    __first_node = list(largest_cc)[0]\n",
    "\n",
    "    __graph = nx.subgraph(graph, largest_cc).copy()\n",
    "\n",
    "    for i, cc in enumerate(sorted_cc[1:]):\n",
    "        # return if adding another connected component will make the graph bigger than sample size\n",
    "        if (len(__graph) + len(cc)) > sample_size:\n",
    "            if verbose: print_log(f\"Graph size: {len(__graph)} + CC({i + 1}): {len(cc)} > Sample Size: {sample_size}\")\n",
    "            break\n",
    "        # add new edge to make the graph connected\n",
    "        if verbose: print_log(f\"Adding edge between '{__first_node}' and '{list(cc)[0]}'\")\n",
    "        __graph.add_edge(__first_node, list(cc)[0])\n",
    "\n",
    "        # add the new connected component to the graph\n",
    "        if verbose: print_log(f\"Adding {len(cc)} nodes from CC({i + 1}) to the graph\")\n",
    "        __graph.add_edges_from(nx.subgraph(graph, cc).edges())\n",
    "\n",
    "    if plot:\n",
    "        fig, axes = plt.subplots(nrows=1, ncols=2)\n",
    "        axes[0].set_title(\"Original Graph\")\n",
    "        nx.draw(graph, with_labels=True, ax=axes[0])\n",
    "        axes[1].set_title(\"Final Graph\")\n",
    "        nx.draw(__graph, with_labels=True, ax=axes[1])\n",
    "    return __graph\n",
    "\n",
    "def sample_graph(graph: nx.Graph, sample_size: int = 25, verbose: bool = False, plot: bool = False) -> nx.Graph:\n",
    "    \"\"\"\n",
    "    Returns a sample graph of the given size\n",
    "    \"\"\"\n",
    "    if sample_size <= 0: raise ValueError(f\"Invalid sample size: {sample_size}\")\n",
    "\n",
    "    sorted_cc = sorted(nx.connected_components(graph), key=len, reverse=True)\n",
    "    largest_cc = sorted_cc[0]\n",
    "\n",
    "    if sample_size > len(largest_cc):\n",
    "        if verbose: print_error(f\"Sample size {sample_size} is greater than the largest connected component size {len(largest_cc)}\")\n",
    "        if nx.is_connected(graph):\n",
    "            if verbose: print_log(f\"Graph is connected\")\n",
    "            return graph\n",
    "        else:\n",
    "            # make graph bigger by connecting the connected components\n",
    "            if verbose: print_log(f\"Making graph connected\")\n",
    "            return make_graph_connected(graph=graph, sample_size=sample_size, sorted_cc=sorted_cc, verbose=verbose, plot=plot)\n",
    "    else:\n",
    "        # make it shorter\n",
    "\n",
    "        \n",
    "        \n",
    "\n",
    "\n",
    "    \n",
    "    return nx.subgraph(graph, largest_cc[:sample_size])"
   ]
  },
  {
   "cell_type": "code",
   "execution_count": null,
   "id": "40bae192",
   "metadata": {},
   "outputs": [],
   "source": [
    "[len(x) for x in sorted(nx.connected_components(graph), key=len, reverse=True)]"
   ]
  },
  {
   "cell_type": "code",
   "execution_count": 187,
   "id": "58504728",
   "metadata": {},
   "outputs": [
    {
     "data": {
      "text/plain": [
       "'4R79.2'"
      ]
     },
     "execution_count": 187,
     "metadata": {},
     "output_type": "execute_result"
    }
   ],
   "source": [
    "# sorted(nx.connected_components(graph), key=len, reverse=True)[1]\n",
    "list(sorted(nx.connected_components(graph), key=len, reverse=True)[0])[0]"
   ]
  },
  {
   "cell_type": "code",
   "execution_count": 189,
   "id": "ce0cb1a1",
   "metadata": {},
   "outputs": [
    {
     "data": {
      "text/plain": [
       "'Graph with 27 nodes and 21 edges'"
      ]
     },
     "execution_count": 189,
     "metadata": {},
     "output_type": "execute_result"
    }
   ],
   "source": [
    "str(graph)"
   ]
  },
  {
   "cell_type": "code",
   "execution_count": 173,
   "id": "da66b384",
   "metadata": {},
   "outputs": [
    {
     "data": {
      "text/plain": [
       "{'4R79.2', 'F33A8.4', 'K08E4.1', 'Y37E3.9', 'Y59A8B.1'}"
      ]
     },
     "execution_count": 173,
     "metadata": {},
     "output_type": "execute_result"
    }
   ],
   "source": [
    "largest_cc"
   ]
  },
  {
   "cell_type": "code",
   "execution_count": 171,
   "id": "964f8f15",
   "metadata": {},
   "outputs": [
    {
     "name": "stdout",
     "output_type": "stream",
     "text": [
      "4R79.2: {'F33A8.4': {'weight': 2.0535098696773}, 'K08E4.1': {'weight': 1.71816616036671}, 'Y37E3.9': {'weight': 2.0535098696773}, 'Y59A8B.1': {'weight': 2.03824718864659}}\n",
      "F33A8.4: {'4R79.2': {'weight': 2.0535098696773}}\n",
      "K08E4.1: {'4R79.2': {'weight': 1.71816616036671}}\n",
      "Y37E3.9: {'4R79.2': {'weight': 2.0535098696773}}\n",
      "Y59A8B.1: {'4R79.2': {'weight': 2.03824718864659}}\n",
      "AC3.2: {'C55A6.10': {'weight': 1.45314520221391}}\n",
      "C55A6.10: {'AC3.2': {'weight': 1.45314520221391}}\n",
      "AC3.7: {'C36B7.6': {'weight': 1.72056305302742}, 'F55F8.5': {'weight': 3.64469409198139}, 'R166.2': {'weight': 3.6241172604793}}\n",
      "C36B7.6: {'AC3.7': {'weight': 1.72056305302742}, 'AC3.8': {'weight': 2.95263550099055}}\n",
      "F55F8.5: {'AC3.7': {'weight': 3.64469409198139}, 'AC3.8': {'weight': 3.64590831935301}}\n",
      "R166.2: {'AC3.7': {'weight': 3.6241172604793}, 'AC3.8': {'weight': 3.64445039181658}}\n",
      "AC3.8: {'C36B7.6': {'weight': 2.95263550099055}, 'F55F8.5': {'weight': 3.64590831935301}, 'R166.2': {'weight': 3.64445039181658}}\n",
      "AC7.2: {'F59F5.6': {'weight': 3.64468858728094}}\n",
      "F59F5.6: {'AC7.2': {'weight': 3.64468858728094}}\n",
      "B0024.11: {'K01G5.2': {'weight': 3.55606621702145}, 'K08H2.6': {'weight': 1.43660879909885}, 'Y74C9A.3': {'weight': 3.63608132771812}}\n",
      "K01G5.2: {'B0024.11': {'weight': 3.55606621702145}}\n",
      "K08H2.6: {'B0024.11': {'weight': 1.43660879909885}}\n",
      "Y74C9A.3: {'B0024.11': {'weight': 3.63608132771812}}\n",
      "B0024.13: {'M142.1': {'weight': 3.64570842015523}}\n",
      "M142.1: {'B0024.13': {'weight': 3.64570842015523}}\n",
      "B0024.14: {'D2021.2': {'weight': 3.64525358859675}, 'T16H12.5': {'weight': 3.60664547660917}}\n",
      "D2021.2: {'B0024.14': {'weight': 3.64525358859675}}\n",
      "T16H12.5: {'B0024.14': {'weight': 3.60664547660917}}\n",
      "B0024.9: {'T27A10.3': {'weight': 1.77231656350807}, 'T27E9.3': {'weight': 1.43096830763267}, 'ZK370.2': {'weight': 1.43175498459377}}\n",
      "T27A10.3: {'B0024.9': {'weight': 1.77231656350807}}\n",
      "T27E9.3: {'B0024.9': {'weight': 1.43096830763267}}\n",
      "ZK370.2: {'B0024.9': {'weight': 1.43175498459377}}\n"
     ]
    }
   ],
   "source": [
    "for n, v in graph.adjacency():\n",
    "    print(f\"{n}: {v}\")"
   ]
  },
  {
   "cell_type": "code",
   "execution_count": 117,
   "id": "ad73f9fc",
   "metadata": {},
   "outputs": [],
   "source": [
    "# __graph = K5\n",
    "# node = list(__graph.nodes())[1]\n",
    "# print(f\"Node: {node}\\nNeighbors: {list(nx.all_neighbors(__graph, node))}\")\n",
    "# nx.draw(nx.subgraph(__graph, nx.all_neighbors(__graph, node)), with_labels=True)"
   ]
  },
  {
   "cell_type": "code",
   "execution_count": 66,
   "metadata": {},
   "outputs": [
    {
     "ename": "NetworkXError",
     "evalue": "G is not a line graph(partition cell not a complete subgraph)",
     "output_type": "error",
     "traceback": [
      "\u001b[0;31m---------------------------------------------------------------------------\u001b[0m",
      "\u001b[0;31mNetworkXError\u001b[0m                             Traceback (most recent call last)",
      "Cell \u001b[0;32mIn [66], line 4\u001b[0m\n\u001b[1;32m      2\u001b[0m root_graphs \u001b[38;5;241m=\u001b[39m []\n\u001b[1;32m      3\u001b[0m \u001b[38;5;28;01mfor\u001b[39;00m comp \u001b[38;5;129;01min\u001b[39;00m nx\u001b[38;5;241m.\u001b[39mconnected_components(graph):\n\u001b[0;32m----> 4\u001b[0m     root_graphs\u001b[38;5;241m.\u001b[39mappend(nx\u001b[38;5;241m.\u001b[39minverse_line_graph(graph\u001b[38;5;241m.\u001b[39msubgraph(comp)))\n\u001b[1;32m      6\u001b[0m nx\u001b[38;5;241m.\u001b[39mdraw(root_graphs[\u001b[38;5;241m0\u001b[39m])\n",
      "File \u001b[0;32m<class 'networkx.utils.decorators.argmap'> compilation 42:5\u001b[0m, in \u001b[0;36margmap_inverse_line_graph_38\u001b[0;34m(G)\u001b[0m\n\u001b[1;32m      3\u001b[0m \u001b[39mimport\u001b[39;00m \u001b[39mgzip\u001b[39;00m\n\u001b[1;32m      4\u001b[0m \u001b[39mimport\u001b[39;00m \u001b[39minspect\u001b[39;00m\n\u001b[0;32m----> 5\u001b[0m \u001b[39mimport\u001b[39;00m \u001b[39mitertools\u001b[39;00m\n\u001b[1;32m      6\u001b[0m \u001b[39mimport\u001b[39;00m \u001b[39mre\u001b[39;00m\n\u001b[1;32m      7\u001b[0m \u001b[39mfrom\u001b[39;00m \u001b[39mcollections\u001b[39;00m \u001b[39mimport\u001b[39;00m defaultdict\n",
      "File \u001b[0;32m/opt/homebrew/Caskroom/mambaforge/base/envs/mgma/lib/python3.9/site-packages/networkx/generators/line.py:282\u001b[0m, in \u001b[0;36minverse_line_graph\u001b[0;34m(G)\u001b[0m\n\u001b[1;32m    279\u001b[0m     \u001b[39mraise\u001b[39;00m nx\u001b[39m.\u001b[39mNetworkXError(msg)\n\u001b[1;32m    281\u001b[0m starting_cell \u001b[39m=\u001b[39m _select_starting_cell(G)\n\u001b[0;32m--> 282\u001b[0m P \u001b[39m=\u001b[39m _find_partition(G, starting_cell)\n\u001b[1;32m    283\u001b[0m \u001b[39m# count how many times each vertex appears in the partition set\u001b[39;00m\n\u001b[1;32m    284\u001b[0m P_count \u001b[39m=\u001b[39m {u: \u001b[39m0\u001b[39m \u001b[39mfor\u001b[39;00m u \u001b[39min\u001b[39;00m G\u001b[39m.\u001b[39mnodes}\n",
      "File \u001b[0;32m/opt/homebrew/Caskroom/mambaforge/base/envs/mgma/lib/python3.9/site-packages/networkx/generators/line.py:401\u001b[0m, in \u001b[0;36m_find_partition\u001b[0;34m(G, starting_cell)\u001b[0m\n\u001b[1;32m    396\u001b[0m         \u001b[39mif\u001b[39;00m (u \u001b[39m!=\u001b[39m v) \u001b[39mand\u001b[39;00m (v \u001b[39mnot\u001b[39;00m \u001b[39min\u001b[39;00m G_partition[u]):\n\u001b[1;32m    397\u001b[0m             msg \u001b[39m=\u001b[39m (\n\u001b[1;32m    398\u001b[0m                 \u001b[39m\"\u001b[39m\u001b[39mG is not a line graph\u001b[39m\u001b[39m\"\u001b[39m\n\u001b[1;32m    399\u001b[0m                 \u001b[39m\"\u001b[39m\u001b[39m(partition cell not a complete subgraph)\u001b[39m\u001b[39m\"\u001b[39m\n\u001b[1;32m    400\u001b[0m             )\n\u001b[0;32m--> 401\u001b[0m             \u001b[39mraise\u001b[39;00m nx\u001b[39m.\u001b[39mNetworkXError(msg)\n\u001b[1;32m    402\u001b[0m P\u001b[39m.\u001b[39mappend(\u001b[39mtuple\u001b[39m(new_cell))\n\u001b[1;32m    403\u001b[0m G_partition\u001b[39m.\u001b[39mremove_edges_from(\u001b[39mlist\u001b[39m(combinations(new_cell, \u001b[39m2\u001b[39m)))\n",
      "\u001b[0;31mNetworkXError\u001b[0m: G is not a line graph(partition cell not a complete subgraph)"
     ]
    }
   ],
   "source": [
    "n = 30\n",
    "\n"
   ]
  },
  {
   "cell_type": "markdown",
   "id": "0bd56f3b",
   "metadata": {},
   "source": [
    "#### Compute all algorithms on our data"
   ]
  },
  {
   "cell_type": "code",
   "execution_count": 36,
   "id": "8349750b",
   "metadata": {},
   "outputs": [],
   "source": [
    "def compute_algorithms(graph: nx.Graph, algorithms: list, verbose: bool) -> list:\n",
    "    \"\"\"\n",
    "    Computes the centrality measures for the given graph\n",
    "    \"\"\"\n",
    "    centrality_measures = list()\n",
    "    for i, algorithm in enumerate(algorithms):\n",
    "        algorithm_name = convert_to_normal(algorithm.name)\n",
    "        graph_direction = algorithm.options[\"direction\"]\n",
    "\n",
    "        if verbose:\n",
    "            print_log(f\"Running '{algorithm_name}' ({i+1}/{len(algorithms)})\")\n",
    "            print_log(f\"Option: '{algorithm.options}'\")\n",
    "\n",
    "        # if graph is not directed or undirected, then skip -> invalid direction option\n",
    "        if graph_direction != str(GRAPH_TYPE.BOTH) and graph_direction != str(GRAPH_TYPE.DIRECTED):\n",
    "            if verbose: print_error(f\"Invalid direction: '{graph_direction}'\")\n",
    "            continue\n",
    "\n",
    "        __graph = get_graph(graph=graph, graph_type=graph_direction)\n",
    "        __centrality = algorithm.func(__graph, **algorithm.args)\n",
    "\n",
    "        # return the degree as the weight\n",
    "        if isinstance(__centrality, list):\n",
    "            __centrality = {node: __graph.degree(node) for node in __centrality}\n",
    "\n",
    "        centrality_measures.append(CentralityAlgorithmOutput(algorithm.name, __centrality, algorithm.options))\n",
    "\n",
    "        if verbose:\n",
    "            print_log(f\"Result: '{__centrality}'\")\n",
    "            print_log(f\"=\"*50)\n",
    "    return centrality_measures"
   ]
  },
  {
   "cell_type": "code",
   "execution_count": 37,
   "id": "2911eb47",
   "metadata": {},
   "outputs": [],
   "source": [
    "centrality_measures = compute_algorithms(graph=graph, algorithms=algorithms_to_run, verbose=False)"
   ]
  },
  {
   "cell_type": "code",
   "execution_count": 41,
   "id": "3e57346c",
   "metadata": {},
   "outputs": [
    {
     "data": {
      "image/png": "[encoded data removed]",
      "text/plain": [
       "<Figure size 640x480 with 1 Axes>"
      ]
     },
     "metadata": {},
     "output_type": "display_data"
    }
   ],
   "source": [
    "nx.draw(di_graph)"
   ]
  },
  {
   "cell_type": "code",
   "execution_count": null,
   "id": "c95aad9f-4cee-4a9a-bf0b-575bb08ee41c",
   "metadata": {},
   "outputs": [],
   "source": [
    "# pos=nx.planar_layout(graph_fly)\n",
    "nx.draw(graph_fly)"
   ]
  },
  {
   "cell_type": "code",
   "execution_count": null,
   "id": "d425006c-de83-442e-b351-1d415c81f9ed",
   "metadata": {},
   "outputs": [],
   "source": [
    "#draw the sample subgraph in matplotlib\n",
    "pos=nx.planar_layout(graph_fly_sampleDraw)\n",
    "labels = nx.get_edge_attributes(graph_fly_sampleDraw,'weight')\n",
    "nx.draw(graph_fly_sampleDraw,with_labels=True,pos=pos)\n",
    "nx.draw_networkx_edge_labels(graph_fly_sampleDraw,pos=pos,edge_labels=labels,verticalalignment=\"bottom\",font_size=10)\n",
    "ax = plt.gca()\n",
    "ax.margins(0.1)\n",
    "plt.axis(\"on\")\n",
    "plt.title(\"Subgraph of Flies' Protein-protien Interactions\")\n",
    "plt.show()"
   ]
  }
 ],
 "metadata": {
  "kernelspec": {
   "display_name": "Python 3.9.13 ('mgma')",
   "language": "python",
   "name": "python3"
  },
  "language_info": {
   "codemirror_mode": {
    "name": "ipython",
    "version": 3
   },
   "file_extension": ".py",
   "mimetype": "text/x-python",
   "name": "python",
   "nbconvert_exporter": "python",
   "pygments_lexer": "ipython3",
   "version": "3.9.13"
  },
  "vscode": {
   "interpreter": {
    "hash": "92ef103fe91e85206b7889fe480710be6f2a014beb113cc84edd8d6030adeb48"
   }
  }
 },
 "nbformat": 4,
 "nbformat_minor": 5
}
