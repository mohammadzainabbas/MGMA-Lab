{
 "cells": [
  {
   "cell_type": "code",
   "execution_count": 1,
   "id": "8477c89f-d8b1-48a2-a44e-ad2a4b41ae6e",
   "metadata": {},
   "outputs": [],
   "source": [
    "import pandas as pd\n",
    "import numpy as np\n",
    "import networkx as nx\n",
    "import matplotlib.pyplot as plt\n",
    "\n",
    "from os.path import join, exists, isfile, isdir, abspath, dirname, basename, realpath\n",
    "from os import makedirs, listdir, pardir, getcwd\n",
    "\n",
    "from IPython.core.interactiveshell import InteractiveShell\n",
    "InteractiveShell.ast_node_interactivity = \"all\""
   ]
  },
  {
   "cell_type": "code",
   "execution_count": 2,
   "id": "942890ed",
   "metadata": {},
   "outputs": [],
   "source": [
    "parent_dir = abspath(join(join(getcwd(), pardir), pardir))\n",
    "data_dir = join(parent_dir, 'data')"
   ]
  },
  {
   "cell_type": "code",
   "execution_count": 3,
   "id": "9c4645e7-de80-4347-94e6-62f138e63ec1",
   "metadata": {},
   "outputs": [],
   "source": [
    "graph_fly = nx.read_edgelist(join(data_dir, \"DM-HT.txt\"), nodetype=str, data=((\"weight\", float),))\n",
    "# graph_sworm = nx.read_edgelist(join(data_dir, \"CE-HT.txt\"), nodetype=str, data=((\"weight\", float),))"
   ]
  },
  {
   "cell_type": "code",
   "execution_count": 4,
   "id": "2565a525-ac6e-4c35-9f0a-48e4d107faea",
   "metadata": {},
   "outputs": [
    {
     "data": {
      "text/plain": [
       "2989"
      ]
     },
     "execution_count": 4,
     "metadata": {},
     "output_type": "execute_result"
    },
    {
     "data": {
      "text/plain": [
       "4660"
      ]
     },
     "execution_count": 4,
     "metadata": {},
     "output_type": "execute_result"
    }
   ],
   "source": [
    "graph_fly.number_of_nodes()\n",
    "graph_fly.number_of_edges()"
   ]
  },
  {
   "cell_type": "code",
   "execution_count": 6,
   "id": "3e57346c",
   "metadata": {},
   "outputs": [
    {
     "name": "stdout",
     "output_type": "stream",
     "text": [
      "\u001b[0;31mSignature:\u001b[0m   \u001b[0mgraph_fly\u001b[0m\u001b[0;34m.\u001b[0m\u001b[0mnodes\u001b[0m\u001b[0;34m(\u001b[0m\u001b[0mdata\u001b[0m\u001b[0;34m=\u001b[0m\u001b[0;32mFalse\u001b[0m\u001b[0;34m,\u001b[0m \u001b[0mdefault\u001b[0m\u001b[0;34m=\u001b[0m\u001b[0;32mNone\u001b[0m\u001b[0;34m)\u001b[0m\u001b[0;34m\u001b[0m\u001b[0;34m\u001b[0m\u001b[0m\n",
      "\u001b[0;31mType:\u001b[0m        NodeView\n",
      "\u001b[0;31mString form:\u001b[0m ['4R79.2', 'F33A8.4', 'K08E4.1', 'Y37E3.9', 'Y59A8B.1', 'AC3.2', 'C55A6.10', 'AC3.7', 'C36B7.6',  <...> .4', 'ZK970.2', 'Y75B8A.30', 'Y77E11A.11', 'ZK892.4', 'ZK328.1', 'ZK783.4', 'ZC434.4', 'ZK721.2']\n",
      "\u001b[0;31mLength:\u001b[0m      2989\n",
      "\u001b[0;31mFile:\u001b[0m        /opt/homebrew/anaconda3/envs/mgma/lib/python3.10/site-packages/networkx/classes/reportviews.py\n",
      "\u001b[0;31mDocstring:\u001b[0m  \n",
      "A NodeView class to act as G.nodes for a NetworkX Graph\n",
      "\n",
      "Set operations act on the nodes without considering data.\n",
      "Iteration is over nodes. Node data can be looked up like a dict.\n",
      "Use NodeDataView to iterate over node data or to specify a data\n",
      "attribute for lookup. NodeDataView is created by calling the NodeView.\n",
      "\n",
      "Parameters\n",
      "----------\n",
      "graph : NetworkX graph-like class\n",
      "\n",
      "Examples\n",
      "--------\n",
      ">>> G = nx.path_graph(3)\n",
      ">>> NV = G.nodes()\n",
      ">>> 2 in NV\n",
      "True\n",
      ">>> for n in NV:\n",
      "...     print(n)\n",
      "0\n",
      "1\n",
      "2\n",
      ">>> assert NV & {1, 2, 3} == {1, 2}\n",
      "\n",
      ">>> G.add_node(2, color=\"blue\")\n",
      ">>> NV[2]\n",
      "{'color': 'blue'}\n",
      ">>> G.add_node(8, color=\"red\")\n",
      ">>> NDV = G.nodes(data=True)\n",
      ">>> (2, NV[2]) in NDV\n",
      "True\n",
      ">>> for n, dd in NDV:\n",
      "...     print((n, dd.get(\"color\", \"aqua\")))\n",
      "(0, 'aqua')\n",
      "(1, 'aqua')\n",
      "(2, 'blue')\n",
      "(8, 'red')\n",
      ">>> NDV[2] == NV[2]\n",
      "True\n",
      "\n",
      ">>> NVdata = G.nodes(data=\"color\", default=\"aqua\")\n",
      ">>> (2, NVdata[2]) in NVdata\n",
      "True\n",
      ">>> for n, dd in NVdata:\n",
      "...     print((n, dd))\n",
      "(0, 'aqua')\n",
      "(1, 'aqua')\n",
      "(2, 'blue')\n",
      "(8, 'red')\n",
      ">>> NVdata[2] == NV[2]  # NVdata gets 'color', NV gets datadict\n",
      "False\n"
     ]
    }
   ],
   "source": [
    "graph_fly.nodes?"
   ]
  },
  {
   "cell_type": "code",
   "execution_count": null,
   "id": "c95aad9f-4cee-4a9a-bf0b-575bb08ee41c",
   "metadata": {},
   "outputs": [],
   "source": [
    "# pos=nx.planar_layout(graph_fly)\n",
    "nx.draw(graph_fly)"
   ]
  },
  {
   "cell_type": "code",
   "execution_count": null,
   "id": "d425006c-de83-442e-b351-1d415c81f9ed",
   "metadata": {},
   "outputs": [],
   "source": [
    "#draw the sample subgraph in matplotlib\n",
    "pos=nx.planar_layout(graph_fly_sampleDraw)\n",
    "labels = nx.get_edge_attributes(graph_fly_sampleDraw,'weight')\n",
    "nx.draw(graph_fly_sampleDraw,with_labels=True,pos=pos)\n",
    "nx.draw_networkx_edge_labels(graph_fly_sampleDraw,pos=pos,edge_labels=labels,verticalalignment=\"bottom\",font_size=10)\n",
    "ax = plt.gca()\n",
    "ax.margins(0.1)\n",
    "plt.axis(\"on\")\n",
    "plt.title(\"Subgraph of Flies' Protein-protien Interactions\")\n",
    "plt.show()"
   ]
  },
  {
   "cell_type": "markdown",
   "id": "930ae4bf-423c-4373-9a26-d5b20595bcbd",
   "metadata": {},
   "source": [
    "————————————————————————————————————\n",
    "**Graph algorithms**  \n",
    "references:\n",
    "https://networkx.org/documentation/networkx-1.10/reference/algorithms.centrality.html"
   ]
  },
  {
   "cell_type": "code",
   "execution_count": null,
   "id": "6d534418-ca45-44fe-a8fd-583da6d94f9f",
   "metadata": {},
   "outputs": [],
   "source": [
    "nx.degree_centrality(graph_fly_sampleDraw)"
   ]
  },
  {
   "cell_type": "code",
   "execution_count": null,
   "id": "a3b909f0-1734-48c9-8cff-001739d137bb",
   "metadata": {},
   "outputs": [],
   "source": [
    "nx.in_degree_centrality(graph_fly_sampleDraw)"
   ]
  },
  {
   "cell_type": "code",
   "execution_count": null,
   "id": "339224d1-7f63-4dd0-b02b-ed9af521becf",
   "metadata": {},
   "outputs": [],
   "source": [
    "nx.betweenness_centrality(graph_fly)"
   ]
  },
  {
   "cell_type": "code",
   "execution_count": null,
   "id": "68f93332-bb6f-49f6-8915-280c864130fa",
   "metadata": {},
   "outputs": [],
   "source": [
    "nx.betweenness_centrality(graph_fly_sampleDraw)"
   ]
  },
  {
   "cell_type": "code",
   "execution_count": null,
   "id": "dd95b6ef-bf99-446a-955b-317b13123340",
   "metadata": {},
   "outputs": [],
   "source": [
    "#nx.current_flow_betweenness_centrality(graph_fly_sampleDraw)\n",
    "#for undirected graphs only"
   ]
  },
  {
   "cell_type": "code",
   "execution_count": null,
   "id": "328e1db6-36ef-4574-bf94-25fa9a139ea0",
   "metadata": {},
   "outputs": [],
   "source": [
    "nx.closeness_centrality(graph_fly_sampleDraw)"
   ]
  },
  {
   "cell_type": "code",
   "execution_count": null,
   "id": "92f4800d-bf56-4519-82e4-bb08408cea08",
   "metadata": {},
   "outputs": [],
   "source": [
    "# nx.eigenvector_centrality(graph_fly_sampleDraw)\n",
    "# for connected graphs only"
   ]
  },
  {
   "cell_type": "code",
   "execution_count": null,
   "id": "fff395a4-2918-44ba-b5c7-5933f00b9d3f",
   "metadata": {},
   "outputs": [],
   "source": [
    "#nx.current_flow_closeness_centrality(graph_fly_sampleDraw)\n",
    "#for undirected graphs only"
   ]
  },
  {
   "cell_type": "code",
   "execution_count": null,
   "id": "ee6c9d52-3f85-48ec-a5b0-aecdbd743545",
   "metadata": {},
   "outputs": [],
   "source": [
    "#nx.communicability(graph_fly_sampleDraw)\n",
    "#for undirected graphs only"
   ]
  },
  {
   "cell_type": "code",
   "execution_count": null,
   "id": "a8710800-fc5c-4f67-a5d2-fcd5f7b716cc",
   "metadata": {},
   "outputs": [],
   "source": [
    "nx.load_centrality(graph_fly_sampleDraw)"
   ]
  },
  {
   "cell_type": "code",
   "execution_count": null,
   "id": "abebc5a5",
   "metadata": {},
   "outputs": [],
   "source": []
  }
 ],
 "metadata": {
  "kernelspec": {
   "display_name": "Python 3.10.4 ('mgma')",
   "language": "python",
   "name": "python3"
  },
  "language_info": {
   "codemirror_mode": {
    "name": "ipython",
    "version": 3
   },
   "file_extension": ".py",
   "mimetype": "text/x-python",
   "name": "python",
   "nbconvert_exporter": "python",
   "pygments_lexer": "ipython3",
   "version": "3.10.4"
  },
  "vscode": {
   "interpreter": {
    "hash": "302ae96be06011f85048f8d172163035fb29e7c23cfa7ae7e48a07bd12d24630"
   }
  }
 },
 "nbformat": 4,
 "nbformat_minor": 5
}
