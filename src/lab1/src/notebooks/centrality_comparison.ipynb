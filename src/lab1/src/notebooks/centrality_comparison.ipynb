{
 "cells": [
  {
   "cell_type": "code",
   "execution_count": 1,
   "id": "8477c89f-d8b1-48a2-a44e-ad2a4b41ae6e",
   "metadata": {},
   "outputs": [],
   "source": [
    "import pandas as pd\n",
    "import numpy as np\n",
    "import networkx as nx\n",
    "import matplotlib.pyplot as plt\n",
    "import logging as log\n",
    "from enum import Enum\n",
    "from os.path import join, exists, isfile, isdir, abspath, dirname, basename, realpath\n",
    "from os import makedirs, listdir, pardir, getcwd\n",
    "from dataclasses import dataclass, field\n",
    "from typing import Union\n",
    "\n",
    "from IPython.core.interactiveshell import InteractiveShell\n",
    "InteractiveShell.ast_node_interactivity = \"all\""
   ]
  },
  {
   "cell_type": "markdown",
   "id": "cd52414b",
   "metadata": {},
   "source": [
    "#### Helpful classes"
   ]
  },
  {
   "cell_type": "code",
   "execution_count": 8,
   "id": "39d0532c",
   "metadata": {},
   "outputs": [],
   "source": [
    "@dataclass(frozen=False, order=False)\n",
    "class CentralityAlgorithm:\n",
    "    \"\"\"\n",
    "    A data-class to store centrality measures arguments and other options\n",
    "    \"\"\"\n",
    "    name: str = field(default=\"\")\n",
    "    func: object = field(default=print)\n",
    "    args: dict = field(default_factory=dict)\n",
    "    options: dict = field(default_factory=dict)\n",
    "\n",
    "@dataclass(frozen=False, order=False)\n",
    "class CentralityAlgorithmOutput:\n",
    "    \"\"\"\n",
    "    A data-class to store centrality measures results\n",
    "    \"\"\"\n",
    "    name: str = field(default=\"\")\n",
    "    result: dict = field(default_factory=dict)\n",
    "    options: dict = field(default_factory=dict)\n",
    "\n",
    "class GRAPH_TYPE(str, Enum):\n",
    "    BOTH = \"both\"\n",
    "    DIRECTED = \"directed\"\n",
    "    def __str__(self) -> str:\n",
    "        return self.value"
   ]
  },
  {
   "cell_type": "markdown",
   "id": "265c8365",
   "metadata": {},
   "source": [
    "##### Helpful functions"
   ]
  },
  {
   "cell_type": "code",
   "execution_count": 9,
   "id": "ed4553a9",
   "metadata": {},
   "outputs": [],
   "source": [
    "def undirected_to_directed(graph: nx.Graph) -> nx.DiGraph:\n",
    "    \"\"\"\n",
    "    Converts an undirected graph to a directed graph\n",
    "    \"\"\"\n",
    "    di_graph = nx.DiGraph()\n",
    "    di_graph.add_edges_from(graph.edges())\n",
    "    return di_graph\n",
    "\n",
    "def get_graph(graph: nx.Graph, graph_type: str) -> Union[nx.Graph, nx.DiGraph]:\n",
    "    \"\"\"\n",
    "    Returns the graph based on the graph type\n",
    "    \"\"\"\n",
    "    if graph_type == str(GRAPH_TYPE.DIRECTED):\n",
    "        return undirected_to_directed(graph)\n",
    "    elif graph_type == str(GRAPH_TYPE.BOTH):\n",
    "        return graph\n",
    "    else:\n",
    "        print_error(f\"Unknown graph type: {graph_type}\")\n",
    "        return graph\n",
    "\n",
    "def convert_to_normal(snake_case: str) -> str:\n",
    "    \"\"\"\n",
    "    Converts a snake case string to a normal title string\n",
    "\n",
    "    Input:  \"in_degree_centrality\"\n",
    "    Output: \"In Degree Centrality\"\n",
    "    \"\"\"\n",
    "    components = snake_case.split('_')\n",
    "    return \" \".join(x.title() for x in components)\n",
    "\n",
    "def print_log(text: str):\n",
    "    \"\"\"\n",
    "    Prints the log\n",
    "    \"\"\"\n",
    "    print(f\"[ log ]: {text}\")\n",
    "    # log.info(f\"[ log ]: {text}\")\n",
    "\n",
    "def print_error(text: str):\n",
    "    \"\"\"\n",
    "    Prints the error\n",
    "    \"\"\"\n",
    "    print(f\"[ error ]: {text}\")\n",
    "    # log.warn(f\"[ error ]: {text}\")"
   ]
  },
  {
   "cell_type": "markdown",
   "id": "f59fe7b8",
   "metadata": {},
   "source": [
    "#### Let's pick centrality algorithms (and the configurations)"
   ]
  },
  {
   "cell_type": "code",
   "execution_count": 4,
   "id": "c9db0df2",
   "metadata": {},
   "outputs": [],
   "source": [
    "algorithms_to_run = []\n",
    "algorithms_to_run.append(CentralityAlgorithm(\"degree_centrality\", nx.degree_centrality, {}, {\"direction\":\"both\"}))\n",
    "algorithms_to_run.append(CentralityAlgorithm(\"in_degree_centrality\", nx.in_degree_centrality, {}, {\"direction\":\"directed\"}))\n",
    "algorithms_to_run.append(CentralityAlgorithm(\"out_degree_centrality\", nx.out_degree_centrality, {}, {\"direction\":\"directed\"}))\n",
    "algorithms_to_run.append(CentralityAlgorithm(\"eigenvector_centrality\", nx.eigenvector_centrality, {\"max_iter\":100,\"tol\":1.0e-6,\"weight\":\"weight\"}, {\"direction\":\"both\"}))\n",
    "algorithms_to_run.append(CentralityAlgorithm(\"katz_centrality\", nx.katz_centrality, {\"alpha\":0.1,\"beta\":1.0,\"max_iter\":1000,\"tol\":1.0e-6,\"normalized\":True,\"weight\":\"weight\"}, {\"direction\":\"both\"}))\n",
    "algorithms_to_run.append(CentralityAlgorithm(\"pagerank\", nx.pagerank, {\"alpha\":0.85,\"max_iter\":100,\"tol\":1.0e-6,\"weight\":\"weight\"}, {\"direction\":\"both\"}))\n",
    "algorithms_to_run.append(CentralityAlgorithm(\"voterank\", nx.voterank, {\"number_of_nodes\":10}, {\"direction\":\"both\"}))\n",
    "algorithms_to_run.append(CentralityAlgorithm(\"closeness_centrality\", nx.closeness_centrality, {\"distance\":\"weight\"}, {\"direction\":\"both\"}))\n",
    "algorithms_to_run.append(CentralityAlgorithm(\"harmonic_centrality\", nx.harmonic_centrality, {\"distance\":\"weight\"}, {\"direction\":\"both\"}))\n",
    "algorithms_to_run.append(CentralityAlgorithm(\"betweenness_centrality\", nx.betweenness_centrality, {\"k\":None,\"seed\":7,\"normalized\":True,\"weight\":\"weight\"}, {\"direction\":\"both\"}))"
   ]
  },
  {
   "cell_type": "markdown",
   "id": "1a228895",
   "metadata": {},
   "source": [
    "#### Get data"
   ]
  },
  {
   "cell_type": "code",
   "execution_count": 5,
   "id": "942890ed",
   "metadata": {},
   "outputs": [],
   "source": [
    "parent_dir = abspath(join(join(getcwd(), pardir), pardir))\n",
    "data_dir = join(parent_dir, 'data')"
   ]
  },
  {
   "cell_type": "code",
   "execution_count": 24,
   "id": "4a197da6",
   "metadata": {},
   "outputs": [
    {
     "name": "stdout",
     "output_type": "stream",
     "text": [
      "Number of nodes: 27\n",
      "Number of edges: 21\n"
     ]
    }
   ],
   "source": [
    "graph = nx.read_edgelist(join(data_dir, \"DM-HT_small.txt\"), nodetype=str, data=((\"weight\", float),))\n",
    "# di_graph = undirected_to_directed(graph)\n",
    "print(f\"Number of nodes: {graph.number_of_nodes()}\\nNumber of edges: {graph.number_of_edges()}\")"
   ]
  },
  {
   "cell_type": "markdown",
   "id": "0bd56f3b",
   "metadata": {},
   "source": [
    "#### Compute all algorithms on our data"
   ]
  },
  {
   "cell_type": "code",
   "execution_count": 17,
   "id": "8349750b",
   "metadata": {},
   "outputs": [],
   "source": [
    "def compute_algorithms(graph: nx.Graph, algorithms: list, verbose: bool) -> list:\n",
    "    \"\"\"\n",
    "    Computes the centrality measures for the given graph\n",
    "    \"\"\"\n",
    "    centrality_measures = list()\n",
    "    for i, algorithm in enumerate(algorithms):\n",
    "        algorithm_name = convert_to_normal(algorithm.name)\n",
    "        graph_direction = algorithm.options[\"direction\"]\n",
    "\n",
    "        if verbose:\n",
    "            print_log(f\"Running '{algorithm_name}' ({i+1}/{len(algorithms)})\")\n",
    "            print_log(f\"Option: '{algorithm.options}'\")\n",
    "\n",
    "        # if graph is not directed or undirected, then skip -> invalid direction option\n",
    "        if graph_direction != str(GRAPH_TYPE.BOTH) and graph_direction != str(GRAPH_TYPE.DIRECTED):\n",
    "            if verbose: print_error(f\"Invalid direction: '{graph_direction}'\")\n",
    "            continue\n",
    "\n",
    "        __graph = get_graph(graph=graph, graph_type=graph_direction)\n",
    "        __centrality = algorithm.func(__graph, **algorithm.args)\n",
    "\n",
    "        # return the degree as the weight\n",
    "        if isinstance(__centrality, list):\n",
    "            __centrality = {node: __graph.degree(node) for node in __centrality}\n",
    "\n",
    "        centrality_measures.append(CentralityAlgorithmOutput(algorithm.name, __centrality, algorithm.options))\n",
    "\n",
    "        if verbose:\n",
    "            print_log(f\"Result: '{__centrality}'\")\n",
    "            print_log(f\"=\"*50)\n",
    "    return centrality_measures"
   ]
  },
  {
   "cell_type": "code",
   "execution_count": 19,
   "id": "2911eb47",
   "metadata": {},
   "outputs": [],
   "source": [
    "centrality_measures = compute_algorithms(graph=graph, algorithms=algorithms_to_run, verbose=False)"
   ]
  },
  {
   "cell_type": "code",
   "execution_count": 21,
   "id": "3e57346c",
   "metadata": {},
   "outputs": [
    {
     "data": {
      "image/png": "[encoded data removed]",
      "text/plain": [
       "<Figure size 640x480 with 1 Axes>"
      ]
     },
     "metadata": {},
     "output_type": "display_data"
    }
   ],
   "source": [
    "nx.draw(graph)"
   ]
  },
  {
   "cell_type": "code",
   "execution_count": null,
   "id": "c95aad9f-4cee-4a9a-bf0b-575bb08ee41c",
   "metadata": {},
   "outputs": [],
   "source": [
    "# pos=nx.planar_layout(graph_fly)\n",
    "nx.draw(graph_fly)"
   ]
  },
  {
   "cell_type": "code",
   "execution_count": null,
   "id": "d425006c-de83-442e-b351-1d415c81f9ed",
   "metadata": {},
   "outputs": [],
   "source": [
    "#draw the sample subgraph in matplotlib\n",
    "pos=nx.planar_layout(graph_fly_sampleDraw)\n",
    "labels = nx.get_edge_attributes(graph_fly_sampleDraw,'weight')\n",
    "nx.draw(graph_fly_sampleDraw,with_labels=True,pos=pos)\n",
    "nx.draw_networkx_edge_labels(graph_fly_sampleDraw,pos=pos,edge_labels=labels,verticalalignment=\"bottom\",font_size=10)\n",
    "ax = plt.gca()\n",
    "ax.margins(0.1)\n",
    "plt.axis(\"on\")\n",
    "plt.title(\"Subgraph of Flies' Protein-protien Interactions\")\n",
    "plt.show()"
   ]
  },
  {
   "cell_type": "markdown",
   "id": "930ae4bf-423c-4373-9a26-d5b20595bcbd",
   "metadata": {},
   "source": [
    "————————————————————————————————————\n",
    "**Graph algorithms**  \n",
    "references:\n",
    "https://networkx.org/documentation/networkx-1.10/reference/algorithms.centrality.html"
   ]
  },
  {
   "cell_type": "code",
   "execution_count": null,
   "id": "6d534418-ca45-44fe-a8fd-583da6d94f9f",
   "metadata": {},
   "outputs": [],
   "source": [
    "nx.degree_centrality(graph_fly_sampleDraw)"
   ]
  },
  {
   "cell_type": "code",
   "execution_count": null,
   "id": "a3b909f0-1734-48c9-8cff-001739d137bb",
   "metadata": {},
   "outputs": [],
   "source": [
    "nx.in_degree_centrality(graph_fly_sampleDraw)"
   ]
  },
  {
   "cell_type": "code",
   "execution_count": null,
   "id": "339224d1-7f63-4dd0-b02b-ed9af521becf",
   "metadata": {},
   "outputs": [],
   "source": [
    "nx.betweenness_centrality(graph_fly)"
   ]
  },
  {
   "cell_type": "code",
   "execution_count": null,
   "id": "68f93332-bb6f-49f6-8915-280c864130fa",
   "metadata": {},
   "outputs": [],
   "source": [
    "nx.betweenness_centrality(graph_fly_sampleDraw)"
   ]
  },
  {
   "cell_type": "code",
   "execution_count": null,
   "id": "dd95b6ef-bf99-446a-955b-317b13123340",
   "metadata": {},
   "outputs": [],
   "source": [
    "#nx.current_flow_betweenness_centrality(graph_fly_sampleDraw)\n",
    "#for undirected graphs only"
   ]
  },
  {
   "cell_type": "code",
   "execution_count": null,
   "id": "328e1db6-36ef-4574-bf94-25fa9a139ea0",
   "metadata": {},
   "outputs": [],
   "source": [
    "nx.closeness_centrality(graph_fly_sampleDraw)"
   ]
  },
  {
   "cell_type": "code",
   "execution_count": null,
   "id": "92f4800d-bf56-4519-82e4-bb08408cea08",
   "metadata": {},
   "outputs": [],
   "source": [
    "# nx.eigenvector_centrality(graph_fly_sampleDraw)\n",
    "# for connected graphs only"
   ]
  },
  {
   "cell_type": "code",
   "execution_count": null,
   "id": "fff395a4-2918-44ba-b5c7-5933f00b9d3f",
   "metadata": {},
   "outputs": [],
   "source": [
    "#nx.current_flow_closeness_centrality(graph_fly_sampleDraw)\n",
    "#for undirected graphs only"
   ]
  },
  {
   "cell_type": "code",
   "execution_count": null,
   "id": "ee6c9d52-3f85-48ec-a5b0-aecdbd743545",
   "metadata": {},
   "outputs": [],
   "source": [
    "#nx.communicability(graph_fly_sampleDraw)\n",
    "#for undirected graphs only"
   ]
  },
  {
   "cell_type": "code",
   "execution_count": null,
   "id": "a8710800-fc5c-4f67-a5d2-fcd5f7b716cc",
   "metadata": {},
   "outputs": [],
   "source": [
    "nx.load_centrality(graph_fly_sampleDraw)"
   ]
  },
  {
   "cell_type": "code",
   "execution_count": null,
   "id": "abebc5a5",
   "metadata": {},
   "outputs": [],
   "source": []
  }
 ],
 "metadata": {
  "kernelspec": {
   "display_name": "Python 3.9.13 ('mgma')",
   "language": "python",
   "name": "python3"
  },
  "language_info": {
   "codemirror_mode": {
    "name": "ipython",
    "version": 3
   },
   "file_extension": ".py",
   "mimetype": "text/x-python",
   "name": "python",
   "nbconvert_exporter": "python",
   "pygments_lexer": "ipython3",
   "version": "3.9.13"
  },
  "vscode": {
   "interpreter": {
    "hash": "92ef103fe91e85206b7889fe480710be6f2a014beb113cc84edd8d6030adeb48"
   }
  }
 },
 "nbformat": 4,
 "nbformat_minor": 5
}
