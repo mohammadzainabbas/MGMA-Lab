{
 "cells": [
  {
   "cell_type": "markdown",
   "metadata": {},
   "source": [
    "<center><img src='./figs/cs-logo.png' width=200></center>"
   ]
  },
  {
   "cell_type": "code",
   "execution_count": null,
   "metadata": {},
   "outputs": [],
   "source": [
    "from os import getcwd\n",
    "from os.path import join, isfile, dirname, abspath, pardir, exists\n",
    "from pathlib import Path\n",
    "\n",
    "import test\n",
    "parent_dir = Path(test.__file__).resolve().parents[1]\n",
    "data_dir = join(parent_dir, \"data\")\n",
    "\n",
    "from sknetwork.data import karate_club\n",
    "from sknetwork.clustering import Louvain\n",
    "\n",
    "from IPython.core.interactiveshell import InteractiveShell\n",
    "InteractiveShell.ast_node_interactivity = \"all\""
   ]
  },
  {
   "cell_type": "code",
   "execution_count": 14,
   "metadata": {},
   "outputs": [],
   "source": [
    "\n",
    "\n",
    "adjacency = karate_club()\n",
    "algo = Louvain()\n",
    "algo.fit(adjacency)\n",
    "labels = algo.labels_"
   ]
  }
 ],
 "metadata": {
  "anaconda-cloud": {},
  "kernelspec": {
   "display_name": "mgma",
   "language": "python",
   "name": "python3"
  },
  "language_info": {
   "codemirror_mode": {
    "name": "ipython",
    "version": 3
   },
   "file_extension": ".py",
   "mimetype": "text/x-python",
   "name": "python",
   "nbconvert_exporter": "python",
   "pygments_lexer": "ipython3",
   "version": "3.9.15"
  },
  "name": "BE4-Spark.ipynb",
  "vscode": {
   "interpreter": {
    "hash": "92ef103fe91e85206b7889fe480710be6f2a014beb113cc84edd8d6030adeb48"
   }
  }
 },
 "nbformat": 4,
 "nbformat_minor": 1
}
