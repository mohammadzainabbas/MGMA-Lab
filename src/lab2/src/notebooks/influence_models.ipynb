{
 "cells": [
  {
   "cell_type": "markdown",
   "metadata": {},
   "source": [
    "<center><img src='./img/cs-logo.png' width=200></center>\n",
    "\n",
    "<hr style=\" border:none; height:3px;\">\n",
    "<h1>\n",
    "<center>Influence Maximisation - LT and IC Models </center>\n",
    "</h1>\n",
    "<font  size=\"3\" color='#91053d'>\n",
    "<center >\n",
    "nacera.seghouani@centralesupelec.fr \n",
    "</center>\n",
    "</font>   \n",
    "<hr style=\" border:none; height:3px;\">"
   ]
  },
  {
   "cell_type": "markdown",
   "metadata": {},
   "source": [
    "#####  Introduction (PLEASE READ ME)\n",
    "\n",
    "\n",
    "<p align=\"justify\">\n",
    "<font size=\"3\">\n",
    "The purpose of this lab is to implement diffusion models   basic **Linear Threshold (LT)** and  **Independant Cascade (IC)** models using networkx Python package. The graph could be weighted  using for each edge (u,v) 1/d_v as a weight or For nodes u,v, u has a total probability of 1 − (1 −p) of activating v (for p = 1% and 10%). More precisely:\n",
    "<ol>\n",
    "<li>Implement two functions ic and lt where the inputs are (G, S) and the output is the set of infected nodes.  </li>\n",
    "<li> S (budget k) could be computed randomly, using the highest degrees,  and other measures such as betweeness centrality. Compare the different heuristics  results on some graphs (curves according to the number of iteration a  </li>\n",
    "<li> Implement Greedy algorithm and compare the results on graphs to the different heuristics</li> \n",
    "</ol>\n",
    "</font>\n",
    "</p>\n",
    "\n",
    "\n"
   ]
  },
  {
   "cell_type": "code",
   "execution_count": null,
   "metadata": {},
   "outputs": [],
   "source": []
  }
 ],
 "metadata": {
  "kernelspec": {
   "display_name": "Python 3 (ipykernel)",
   "language": "python",
   "name": "python3"
  },
  "language_info": {
   "codemirror_mode": {
    "name": "ipython",
    "version": 3
   },
   "file_extension": ".py",
   "mimetype": "text/x-python",
   "name": "python",
   "nbconvert_exporter": "python",
   "pygments_lexer": "ipython3",
   "version": "3.9.10"
  }
 },
 "nbformat": 4,
 "nbformat_minor": 4
}
