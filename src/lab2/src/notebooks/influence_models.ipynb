{
 "cells": [
  {
   "cell_type": "markdown",
   "metadata": {},
   "source": [
    "<center><img src='./img/cs-logo.png' width=200></center>\n",
    "\n",
    "<hr style=\" border:none; height:3px;\">\n",
    "<h1>\n",
    "<center>Influence Maximisation - LT and IC Models </center>\n",
    "</h1>\n",
    "<font  size=\"3\" color='#91053d'>\n",
    "<center >\n",
    "nacera.seghouani@centralesupelec.fr \n",
    "</center>\n",
    "</font>   \n",
    "<hr style=\" border:none; height:3px;\">"
   ]
  },
  {
   "attachments": {},
   "cell_type": "markdown",
   "metadata": {},
   "source": [
    "#####  Introduction (PLEASE READ ME)\n",
    "\n",
    "\n",
    "<p align=\"justify\">\n",
    "<font size=\"3\">\n",
    "The purpose of this lab is to implement diffusion models   basic **Linear Threshold (LT)** and  **Independant Cascade (IC)** models using networkx Python package. The graph could be weighted  using for each edge (u,v) 1/d_v as a weight or For nodes u,v, u has a total probability of 1 − (1 −p) of activating v (for p = 1% and 10%). More precisely:\n",
    "<ol>\n",
    "<li>Implement two functions ic and lt where the inputs are (G, S) and the output is the set of infected nodes.  </li>\n",
    "<li> S (budget k) could be computed randomly, using the highest degrees,  and other measures such as betweeness centrality. Compare the different heuristics  results on some graphs (curves according to the number of iteration a  </li>\n",
    "<li> Implement Greedy algorithm and compare the results on graphs to the different heuristics</li> \n",
    "</ol>\n",
    "</font>\n",
    "</p>"
   ]
  },
  {
   "cell_type": "code",
   "execution_count": 7,
   "metadata": {},
   "outputs": [],
   "source": [
    "from typing import List, Set, TypeVar\n",
    "import networkx as nx\n",
    "import random"
   ]
  },
  {
   "cell_type": "code",
   "execution_count": 9,
   "metadata": {},
   "outputs": [],
   "source": [
    "T = TypeVar('T')\n",
    "Any = T\n",
    "\n",
    "# Creating a graph\n",
    "G = nx.Graph()\n",
    "\n",
    "# Adding edges to the graph\n",
    "G.add_edge(1, 2, weight=0.1)\n",
    "G.add_edge(1, 3, weight=0.2)\n",
    "G.add_edge(2, 4, weight=0.3)\n",
    "G.add_edge(3, 4, weight=0.4)\n",
    "\n",
    "# Setting the seed nodes\n",
    "S = [1]"
   ]
  },
  {
   "attachments": {},
   "cell_type": "markdown",
   "metadata": {},
   "source": [
    "### 1. Independant Cascade (IC) Model"
   ]
  },
  {
   "cell_type": "code",
   "execution_count": 12,
   "metadata": {},
   "outputs": [],
   "source": [
    "def ic(G: nx.Graph, S: List[int]) -> Set[int]:\n",
    "    \"\"\"\n",
    "    Implement Independant Cascade model using NetworkX library.\n",
    "    Given a graph G and a list of seed nodes S, this function returns a set of infected nodes.\n",
    "    \n",
    "    Args:\n",
    "    G: nx.Graph: The graph on which IC model is to be applied.\n",
    "    S: List[int]: A list of seed nodes from which the infection starts.\n",
    "    \n",
    "    Returns:\n",
    "    Set[int]: A set of infected nodes after applying IC model.\n",
    "    \"\"\"\n",
    "    infected = set(S) # Initially, infected nodes are the seed nodes\n",
    "    for u in S:\n",
    "        for v in G.neighbors(u):\n",
    "            if v not in infected:\n",
    "                # Generate a random number between 0 and 1\n",
    "                r = random.random()\n",
    "                if r < G[u][v]['weight']:\n",
    "                    infected.add(v)\n",
    "    return infected"
   ]
  },
  {
   "cell_type": "code",
   "execution_count": 14,
   "metadata": {},
   "outputs": [],
   "source": [
    "def ic(G: nx.Graph, S: List[Any]) -> Set[Any]:\n",
    "    \"\"\"\n",
    "    Implement Independant Cascade model using NetworkX library.\n",
    "    Given a graph G and a list of seed nodes S, this function returns a set of infected nodes.\n",
    "\n",
    "    The implementation uses a while loop and an additional set called \"active\" to keep track of the newly infected nodes.\n",
    "    \n",
    "    Parameters:\n",
    "    G (nx.Graph): The input graph\n",
    "    S (List[Any]): The list of seed nodes\n",
    "    \n",
    "    Returns:\n",
    "    Set[Any]: The set of infected nodes\n",
    "    \"\"\"\n",
    "    infected = set(S) # initially, only seed nodes are infected\n",
    "    active = set(S)\n",
    "    while active:\n",
    "        new_active = set()\n",
    "        for node in active:\n",
    "            for neighbor in G.neighbors(node):\n",
    "                if neighbor not in infected:\n",
    "                    if random.random() < G[node][neighbor]['weight']:\n",
    "                        infected.add(neighbor)\n",
    "                        new_active.add(neighbor)\n",
    "        active = new_active\n",
    "    return infected"
   ]
  },
  {
   "cell_type": "code",
   "execution_count": 15,
   "metadata": {},
   "outputs": [
    {
     "data": {
      "text/plain": [
       "{1, 2}"
      ]
     },
     "execution_count": 15,
     "metadata": {},
     "output_type": "execute_result"
    }
   ],
   "source": [
    "ic(G, S)"
   ]
  },
  {
   "cell_type": "code",
   "execution_count": 1,
   "metadata": {},
   "outputs": [
    {
     "name": "stdout",
     "output_type": "stream",
     "text": [
      "Infected nodes (Independent Cascade Model): {1}\n",
      "Infected nodes (Linear Threshold Model): {1, 3}\n"
     ]
    }
   ],
   "source": [
    "# Implementing the Independent Cascade Model\n",
    "def ic(G, S):\n",
    "    infected = set(S) # initially, only seed nodes are infected\n",
    "    active = set(S)\n",
    "    while active:\n",
    "        new_active = set()\n",
    "        for node in active:\n",
    "            for neighbor in G.neighbors(node):\n",
    "                if neighbor not in infected:\n",
    "                    if random.random() < G[node][neighbor]['weight']:\n",
    "                        infected.add(neighbor)\n",
    "                        new_active.add(neighbor)\n",
    "        active = new_active\n",
    "    return infected\n",
    "\n",
    "# Implementing the Linear Threshold Model\n",
    "def lt(G, S):\n",
    "    infected = set(S) # initially, only seed nodes are infected\n",
    "    threshold = {node: random.random() for node in G.nodes()}\n",
    "    active = set(S)\n",
    "    while active:\n",
    "        new_active = set()\n",
    "        for node in active:\n",
    "            for neighbor in G.neighbors(node):\n",
    "                if neighbor not in infected:\n",
    "                    weight = 0\n",
    "                    for neighbor_of_neighbor in G.neighbors(neighbor):\n",
    "                        if neighbor_of_neighbor in infected:\n",
    "                            weight += G[neighbor_of_neighbor][neighbor]['weight']\n",
    "                    if weight >= threshold[neighbor]:\n",
    "                        infected.add(neighbor)\n",
    "                        new_active.add(neighbor)\n",
    "        active = new_active\n",
    "    return infected\n",
    "\n",
    "# Creating a graph\n",
    "G = nx.Graph()\n",
    "\n",
    "# Adding edges to the graph\n",
    "G.add_edge(1, 2, weight=0.1)\n",
    "G.add_edge(1, 3, weight=0.2)\n",
    "G.add_edge(2, 4, weight=0.3)\n",
    "G.add_edge(3, 4, weight=0.4)\n",
    "\n",
    "# Setting the seed nodes\n",
    "S = [1]\n",
    "\n",
    "# Running the Independent Cascade Model\n",
    "infected_nodes_ic = ic(G, S)\n",
    "print(\"Infected nodes (Independent Cascade Model):\", infected_nodes_ic)\n",
    "\n",
    "# Running the Linear Threshold Model\n",
    "infected_nodes_lt = lt(G, S)\n",
    "print(\"Infected nodes (Linear Threshold Model):\", infected_nodes_lt)\n"
   ]
  }
 ],
 "metadata": {
  "kernelspec": {
   "display_name": "mgma",
   "language": "python",
   "name": "python3"
  },
  "language_info": {
   "codemirror_mode": {
    "name": "ipython",
    "version": 3
   },
   "file_extension": ".py",
   "mimetype": "text/x-python",
   "name": "python",
   "nbconvert_exporter": "python",
   "pygments_lexer": "ipython3",
   "version": "3.9.15"
  },
  "vscode": {
   "interpreter": {
    "hash": "92ef103fe91e85206b7889fe480710be6f2a014beb113cc84edd8d6030adeb48"
   }
  }
 },
 "nbformat": 4,
 "nbformat_minor": 4
}
